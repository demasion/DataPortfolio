{
  "nbformat": 4,
  "nbformat_minor": 0,
  "metadata": {
    "colab": {
      "provenance": []
    },
    "kernelspec": {
      "display_name": "Python 3",
      "name": "python3"
    }
  },
  "cells": [
    {
      "cell_type": "markdown",
      "metadata": {
        "id": "YL23-k9XTTgI"
      },
      "source": [
        "#Introduction"
      ]
    },
    {
      "cell_type": "markdown",
      "metadata": {
        "id": "2ron68MxSaId"
      },
      "source": [
        "Target Marketing for Canadian Bank.\n",
        "\n",
        "## Scenario\n",
        "A bank is looking increase its deposit balances and therefore wants to execute a marketing campaign to do so. It is planning on offering existing customers a promotional rate with the hopes of acquiring greater deposits.\n",
        "\n",
        "Therefore, the bank is looking to develop a model that would predict which of its customers can it target successfully.\n",
        "\n",
        "This is a binary classification problem where the model is trained to predict which cutsomers are most likely to respond successfully to the campaign\n",
        "\n",
        "## Data Overview\n",
        "\n",
        "The following descriptions for the different fields of data are provided on Kaggle:\n",
        "\n",
        "### Data fields:\n",
        "1.   **customer_id** - an anonymous id unique to a given customer\n",
        "2.   **Balance** : - Current + Savings Account Balance\n",
        "3.   **PreviousCampaignResult** - Last Campaign Results\n",
        "4.   **Balance** : - Current + Savings Account Balance\n",
        "5.   **PreviousCampaignResult** - Last Campaign Results\n",
        "6.   **Product1...Product6** - List of different products owned by the customer\n",
        "7.   **Transaction1...Transaction9** - Last 9 transactions made by the customer\n",
        "8.   **External Accounts 1...External Accounts 7** - External accounts held by the customer, including bills\n",
        "9.   **Activity Indicator** - Number of activities done the customer, including telebanking, going to the bank\n",
        "10.   **Regular Interaction Indicator** - How frequent the customer is interacting with the bank (Rating Scale)\n",
        "11.  **CompetitiveRate1 ... CompetitiveRate7** - Interest rates offered to the customer\n",
        "12.  **RateBefore** - Interest rates on the products, customer have before the competitive rates being offered\n",
        "13. **ReferenceRate** -Interest rates on the products, the customer have after the negotiations made to the competitive rates being offered\n",
        "\n",
        "\n",
        "\n",
        "In addition to the data above, in the training set, we are also provided the **Target** data which is a binary field or 0 or 1 indicating whether the customer took the offer or not.\n",
        "\n",
        "\n",
        "## Notebook breakdown\n",
        "The notebook is broken down into four sections.\n",
        "1. Setups and Data analysis\n",
        "2. Feature Engineering\n",
        "3. Model training and Selection\n",
        "4. Final Logistic Regression Pipeline"
      ]
    },
    {
      "cell_type": "markdown",
      "metadata": {
        "id": "jekWldr-1bZO"
      },
      "source": [
        "# 1. Setups and Data Analaysis\n",
        "\n",
        "The following are the imports and functions that are used later in the notebook for the different analyses and modelling."
      ]
    },
    {
      "cell_type": "markdown",
      "metadata": {
        "id": "jeGaUcGDf6ZS"
      },
      "source": [
        "## Imports and Setups"
      ]
    },
    {
      "cell_type": "code",
      "metadata": {
        "id": "LXMmwwx0k5tV"
      },
      "source": [
        "# The follow cell is calling all of the imports utilized throughout the notebook\n",
        "\n",
        "# Base data handling imports\n",
        "import math\n",
        "import numpy as np\n",
        "import pandas as pd\n",
        "from pandas import DataFrame\n",
        "import pandas.io.sql as psql\n",
        "from pandas.tseries.offsets import MonthEnd\n",
        "\n",
        "# Plotting imports\n",
        "import matplotlib.pyplot as plt\n",
        "%matplotlib inline\n",
        "\n",
        "import seaborn as sns\n",
        "import re\n",
        "\n",
        "# Sci-kit Learn imports for modellng.\n",
        "from sklearn import preprocessing\n",
        "from sklearn.model_selection import RandomizedSearchCV\n",
        "from scipy.stats import randint\n",
        "from scipy.stats import uniform as sp_randFloat\n",
        "import scipy\n",
        "\n",
        "from sklearn.base import BaseEstimator, TransformerMixin\n",
        "from sklearn.pipeline import Pipeline\n",
        "\n",
        "from sklearn.preprocessing import LabelEncoder, OneHotEncoder,scale, StandardScaler\n",
        "from sklearn.decomposition import PCA\n",
        "\n",
        "import random\n",
        "\n",
        "# Models and Performance Measurement Imports\n",
        "from sklearn.neighbors import KNeighborsClassifier\n",
        "from sklearn.model_selection import train_test_split, cross_val_score\n",
        "from sklearn.model_selection import StratifiedShuffleSplit\n",
        "from sklearn.model_selection import KFold, StratifiedKFold\n",
        "from  sklearn.metrics import precision_recall_fscore_support,precision_recall_curve,roc_curve\n",
        "from sklearn.metrics import accuracy_score, classification_report, precision_score, recall_score,confusion_matrix\n",
        "from sklearn.ensemble import ExtraTreesClassifier,RandomForestClassifier,AdaBoostClassifier,GradientBoostingClassifier\n",
        "from sklearn.linear_model import LogisticRegression\n",
        "from sklearn.ensemble import VotingClassifier\n",
        "\n",
        "from sklearn import svm,tree\n",
        "from sklearn.utils import resample\n",
        "from sklearn.metrics import roc_auc_score\n",
        "\n",
        "from sklearn.ensemble import IsolationForest\n",
        "from sklearn import tree\n",
        "from IPython.display import HTML\n",
        "\n",
        "from scipy import stats\n",
        "\n",
        "# Import for Colab to import/export\n",
        "from google.colab import drive\n",
        "from google.colab import files\n",
        "\n",
        "from tensorflow import keras\n",
        "import tensorflow as tf\n",
        "\n",
        "pd.options.display.max_rows = 8\n",
        "random_seed=123 # Defining/Setting the random seed\n",
        "cv_fold=5 # Defining/setting the crossvalidation folds\n",
        "idx=1\n",
        "\n",
        "x_class_names = ['Predicted 0','Predicted 1']\n",
        "y_class_names = ['Actual 0','Actual 1']"
      ],
      "execution_count": null,
      "outputs": []
    },
    {
      "cell_type": "code",
      "metadata": {
        "id": "v32lHhNf0BNT"
      },
      "source": [
        "# Defining Neural Network for DNN model training\n",
        "def build_model(n_hidden=1, n_neurons=30):\n",
        "    model = keras.models.Sequential()\n",
        "    # options = {\"input_shape\": 14}\n",
        "    for layer in range(n_hidden + 1):\n",
        "        model.add(keras.layers.Dense(n_neurons, activation=\"relu\"))\n",
        "    model.add(keras.layers.Dense(1, activation=\"sigmoid\"))\n",
        "    model.compile(loss=\"binary_crossentropy\", optimizer=keras.optimizers.RMSprop(),metrics=[\"accuracy\"])\n",
        "    return model"
      ],
      "execution_count": null,
      "outputs": []
    },
    {
      "cell_type": "code",
      "metadata": {
        "id": "IKDSzD_PqYtt"
      },
      "source": [
        "# Defining the function to plot the confusion matrices for the Predictions\n",
        "# The confusion matrix plotting function is from the sklearn documentation below:\n",
        "# http://scikit-learn.org/stable/auto_examples/model_selection/plot_confusion_matrix.html\n",
        "import itertools\n",
        "def plot_confusion_matrix(cm, xclasses,yclasses,index,title,\n",
        "                          normalize=False,\n",
        "                          cmap=plt.cm.Blues):\n",
        "    \"\"\"\n",
        "    This function prints and plots the confusion matrix.\n",
        "    Normalization can be applied by setting `normalize=True`.\n",
        "    \"\"\"\n",
        "    plt.figure(idx)\n",
        "    plt.imshow(cm, interpolation='nearest', cmap=cmap)\n",
        "    plt.title(title)\n",
        "    plt.colorbar()\n",
        "    tick_marks = np.arange(len(xclasses))\n",
        "    plt.xticks(tick_marks, xclasses, rotation=45)\n",
        "    plt.yticks(tick_marks, yclasses)\n",
        "\n",
        "    if normalize:\n",
        "        cm = cm.astype('float') / cm.sum(axis=1)[:, np.newaxis]\n",
        "\n",
        "    thresh = cm.max() / 2.\n",
        "    for i, j in itertools.product(range(cm.shape[0]), range(cm.shape[1])):\n",
        "        plt.text(j, i, cm[i, j],\n",
        "                 horizontalalignment=\"center\",\n",
        "                 color=\"black\" if cm[i, j] > thresh else \"black\")\n",
        "    plt.tight_layout()\n",
        "    plt.ylabel('True label')\n",
        "    plt.xlabel('Predicted label')"
      ],
      "execution_count": null,
      "outputs": []
    },
    {
      "cell_type": "code",
      "metadata": {
        "id": "ZjDcSA2VsFeG"
      },
      "source": [
        "# Defining function to display feature importance of our Random Forest Classifiers\n",
        "def viz_importance(importances,feat_names):\n",
        "    # Displaying the feature importances as a chart by sorting it in the order of importances\n",
        "    indices = np.argsort(importances)[::-1]\n",
        "\n",
        "    # Printing important features in the model\n",
        "    df_importance=pd.DataFrame(data=[importances[indices]],columns=feat_names[indices])\n",
        "    display(HTML(df_importance.to_html(index=False)))\n",
        "\n",
        "    plt.figure(20)\n",
        "    plt.figure(figsize=(12,6))\n",
        "    plt.title(\"Feature importances - RFC\")\n",
        "    plt.bar(range(len(indices)), importances[indices], color='lightblue',  align=\"center\")\n",
        "    plt.step(range(len(indices)), np.cumsum(importances[indices]), where='mid', label='Cumulative')\n",
        "    plt.xticks(range(len(indices)), feat_names[indices], rotation='horizontal',fontsize=8)\n",
        "    plt.xlim([-1, len(indices)])\n",
        "    plt.show()"
      ],
      "execution_count": null,
      "outputs": []
    },
    {
      "cell_type": "code",
      "metadata": {
        "id": "J495Zb9teVXQ"
      },
      "source": [
        "# Defining function to display feature importance of our Logistic Regression models\n",
        "def viz_importance_LR(importances,feat_names):\n",
        "    # Displaying the feature importances as a chart by sorting it in the order of importances\n",
        "    indices = np.argsort(abs(importances))[::-1]\n",
        "\n",
        "    # Printing important features in the model\n",
        "    df_importance=pd.DataFrame(data=[importances[indices]],columns=feat_names[indices])\n",
        "    display(HTML(df_importance.to_html(index=False)))\n",
        "\n",
        "    plt.figure(20)\n",
        "    plt.figure(figsize=(12,6))\n",
        "    plt.title(\"Feature importances - LR\")\n",
        "    plt.bar(range(len(indices)), abs(importances[indices]), color='lightblue',  align=\"center\")\n",
        "    plt.step(range(len(indices)), np.cumsum(abs(importances[indices])), where='mid', label='Cumulative')\n",
        "    plt.xticks(range(len(indices)), feat_names[indices], rotation='vertical',fontsize=8)\n",
        "    plt.xlim([-1, len(indices)])\n",
        "    plt.show()\n"
      ],
      "execution_count": null,
      "outputs": []
    },
    {
      "cell_type": "code",
      "metadata": {
        "id": "Jnnrf3rK5YZl"
      },
      "source": [
        "# Defining function to measure our models' performances (precision, recall etc)\n",
        "def pandas_classification_report(y_true, y_pred):\n",
        "    metrics_summary = precision_recall_fscore_support(\n",
        "            y_true=y_true,\n",
        "            y_pred=y_pred)\n",
        "\n",
        "    avg = list(precision_recall_fscore_support(\n",
        "            y_true=y_true,\n",
        "            y_pred=y_pred,\n",
        "            average='weighted'))\n",
        "\n",
        "    metrics_sum_index = ['precision', 'recall', 'f1-score', 'support']\n",
        "    class_report_df = pd.DataFrame(\n",
        "        list(metrics_summary),\n",
        "        index=metrics_sum_index)\n",
        "\n",
        "    support = class_report_df.loc['support']\n",
        "    total = support.sum()\n",
        "    avg[-1] = total\n",
        "\n",
        "    class_report_df['avg / total'] = avg\n",
        "\n",
        "    return class_report_df.T"
      ],
      "execution_count": null,
      "outputs": []
    },
    {
      "cell_type": "markdown",
      "metadata": {
        "id": "tk64p8zvOkQ5"
      },
      "source": [
        "## Data Import and basic analyses and checks"
      ]
    },
    {
      "cell_type": "code",
      "metadata": {
        "id": "dcNqKasOd7mY",
        "colab": {
          "base_uri": "https://localhost:8080/"
        },
        "outputId": "e3bfee58-74b2-4a66-bfcf-276a8dab82f3"
      },
      "source": [
        "# Mounting our google drive and importing the csv file\n",
        "from google.colab import drive\n",
        "drive.mount('/content/gdrive')\n",
        "filePath =\"/content/gdrive/My Drive/3253 ML Project - Group 8/train.csv\""
      ],
      "execution_count": null,
      "outputs": [
        {
          "output_type": "stream",
          "text": [
            "Drive already mounted at /content/gdrive; to attempt to forcibly remount, call drive.mount(\"/content/gdrive\", force_remount=True).\n"
          ],
          "name": "stdout"
        }
      ]
    },
    {
      "cell_type": "code",
      "metadata": {
        "id": "VZ9GmYbIi0uQ",
        "colab": {
          "base_uri": "https://localhost:8080/",
          "height": 226
        },
        "outputId": "67b9cfd0-b0ca-41b2-ef5d-bfdea17fcbc9"
      },
      "source": [
        "# Creating a Pandas Dataframe from csv file and viewing the top 5 rows\n",
        "import pandas as pd\n",
        "df_raw = pd.read_csv(filePath)\n",
        "df_raw.head()"
      ],
      "execution_count": null,
      "outputs": [
        {
          "output_type": "execute_result",
          "data": {
            "text/html": [
              "<div>\n",
              "<style scoped>\n",
              "    .dataframe tbody tr th:only-of-type {\n",
              "        vertical-align: middle;\n",
              "    }\n",
              "\n",
              "    .dataframe tbody tr th {\n",
              "        vertical-align: top;\n",
              "    }\n",
              "\n",
              "    .dataframe thead th {\n",
              "        text-align: right;\n",
              "    }\n",
              "</style>\n",
              "<table border=\"1\" class=\"dataframe\">\n",
              "  <thead>\n",
              "    <tr style=\"text-align: right;\">\n",
              "      <th></th>\n",
              "      <th>Customer_id</th>\n",
              "      <th>Target</th>\n",
              "      <th>Balance</th>\n",
              "      <th>PreviousCampaignResult</th>\n",
              "      <th>Product1</th>\n",
              "      <th>Product2</th>\n",
              "      <th>Product3</th>\n",
              "      <th>Product4</th>\n",
              "      <th>Product5</th>\n",
              "      <th>Product6</th>\n",
              "      <th>Transaction1</th>\n",
              "      <th>Transaction2</th>\n",
              "      <th>Transaction3</th>\n",
              "      <th>Transaction4</th>\n",
              "      <th>Transaction5</th>\n",
              "      <th>Transaction6</th>\n",
              "      <th>Transaction7</th>\n",
              "      <th>Transaction8</th>\n",
              "      <th>Transaction9</th>\n",
              "      <th>ExternalAccount1</th>\n",
              "      <th>ExternalAccount2</th>\n",
              "      <th>ExternalAccount3</th>\n",
              "      <th>ExternalAccount4</th>\n",
              "      <th>ExternalAccount5</th>\n",
              "      <th>ExternalAccount6</th>\n",
              "      <th>ExternalAccount7</th>\n",
              "      <th>ActivityIndicator</th>\n",
              "      <th>RegularInteractionIndicator</th>\n",
              "      <th>CompetitiveRate1</th>\n",
              "      <th>CompetitiveRate2</th>\n",
              "      <th>CompetitiveRate3</th>\n",
              "      <th>CompetitiveRate4</th>\n",
              "      <th>CompetitiveRate5</th>\n",
              "      <th>CompetitiveRate6</th>\n",
              "      <th>CompetitiveRate7</th>\n",
              "      <th>RateBefore</th>\n",
              "      <th>ReferenceRate</th>\n",
              "    </tr>\n",
              "  </thead>\n",
              "  <tbody>\n",
              "    <tr>\n",
              "      <th>0</th>\n",
              "      <td>CTSP000001</td>\n",
              "      <td>0</td>\n",
              "      <td>43824.59</td>\n",
              "      <td>0</td>\n",
              "      <td>0</td>\n",
              "      <td>0</td>\n",
              "      <td>0</td>\n",
              "      <td>0</td>\n",
              "      <td>0</td>\n",
              "      <td>0</td>\n",
              "      <td>0.00</td>\n",
              "      <td>0.0</td>\n",
              "      <td>0.0</td>\n",
              "      <td>0.0</td>\n",
              "      <td>0.0</td>\n",
              "      <td>0.00</td>\n",
              "      <td>0.0</td>\n",
              "      <td>0.0</td>\n",
              "      <td>0.0</td>\n",
              "      <td>0</td>\n",
              "      <td>0</td>\n",
              "      <td>0</td>\n",
              "      <td>0</td>\n",
              "      <td>0</td>\n",
              "      <td>0</td>\n",
              "      <td>0</td>\n",
              "      <td>0</td>\n",
              "      <td>0</td>\n",
              "      <td>1.025</td>\n",
              "      <td>1.925</td>\n",
              "      <td>1.125</td>\n",
              "      <td>2.375</td>\n",
              "      <td>1.175</td>\n",
              "      <td>1.425</td>\n",
              "      <td>1.475</td>\n",
              "      <td>1.425</td>\n",
              "      <td>1.125</td>\n",
              "    </tr>\n",
              "    <tr>\n",
              "      <th>1</th>\n",
              "      <td>CTSP000002</td>\n",
              "      <td>1</td>\n",
              "      <td>11256.21</td>\n",
              "      <td>0</td>\n",
              "      <td>0</td>\n",
              "      <td>0</td>\n",
              "      <td>0</td>\n",
              "      <td>0</td>\n",
              "      <td>0</td>\n",
              "      <td>0</td>\n",
              "      <td>0.00</td>\n",
              "      <td>0.0</td>\n",
              "      <td>0.0</td>\n",
              "      <td>8525.0</td>\n",
              "      <td>0.0</td>\n",
              "      <td>0.00</td>\n",
              "      <td>0.0</td>\n",
              "      <td>0.0</td>\n",
              "      <td>0.0</td>\n",
              "      <td>0</td>\n",
              "      <td>0</td>\n",
              "      <td>0</td>\n",
              "      <td>0</td>\n",
              "      <td>0</td>\n",
              "      <td>1</td>\n",
              "      <td>0</td>\n",
              "      <td>11</td>\n",
              "      <td>3</td>\n",
              "      <td>1.475</td>\n",
              "      <td>1.425</td>\n",
              "      <td>1.425</td>\n",
              "      <td>1.425</td>\n",
              "      <td>2.375</td>\n",
              "      <td>1.725</td>\n",
              "      <td>2.125</td>\n",
              "      <td>1.725</td>\n",
              "      <td>1.375</td>\n",
              "    </tr>\n",
              "    <tr>\n",
              "      <th>2</th>\n",
              "      <td>CTSP000003</td>\n",
              "      <td>1</td>\n",
              "      <td>18795.11</td>\n",
              "      <td>0</td>\n",
              "      <td>1</td>\n",
              "      <td>1</td>\n",
              "      <td>0</td>\n",
              "      <td>0</td>\n",
              "      <td>0</td>\n",
              "      <td>0</td>\n",
              "      <td>13422.35</td>\n",
              "      <td>800.0</td>\n",
              "      <td>0.0</td>\n",
              "      <td>0.0</td>\n",
              "      <td>0.0</td>\n",
              "      <td>13123.28</td>\n",
              "      <td>0.0</td>\n",
              "      <td>0.0</td>\n",
              "      <td>0.0</td>\n",
              "      <td>0</td>\n",
              "      <td>0</td>\n",
              "      <td>0</td>\n",
              "      <td>0</td>\n",
              "      <td>0</td>\n",
              "      <td>0</td>\n",
              "      <td>0</td>\n",
              "      <td>6</td>\n",
              "      <td>0</td>\n",
              "      <td>1.425</td>\n",
              "      <td>2.375</td>\n",
              "      <td>1.425</td>\n",
              "      <td>1.675</td>\n",
              "      <td>2.375</td>\n",
              "      <td>1.675</td>\n",
              "      <td>1.575</td>\n",
              "      <td>1.675</td>\n",
              "      <td>1.375</td>\n",
              "    </tr>\n",
              "    <tr>\n",
              "      <th>3</th>\n",
              "      <td>CTSP000004</td>\n",
              "      <td>0</td>\n",
              "      <td>22274.72</td>\n",
              "      <td>0</td>\n",
              "      <td>0</td>\n",
              "      <td>0</td>\n",
              "      <td>0</td>\n",
              "      <td>0</td>\n",
              "      <td>0</td>\n",
              "      <td>0</td>\n",
              "      <td>0.00</td>\n",
              "      <td>0.0</td>\n",
              "      <td>0.0</td>\n",
              "      <td>1000.0</td>\n",
              "      <td>23900.0</td>\n",
              "      <td>0.00</td>\n",
              "      <td>0.0</td>\n",
              "      <td>0.0</td>\n",
              "      <td>0.0</td>\n",
              "      <td>0</td>\n",
              "      <td>0</td>\n",
              "      <td>0</td>\n",
              "      <td>0</td>\n",
              "      <td>0</td>\n",
              "      <td>1</td>\n",
              "      <td>0</td>\n",
              "      <td>14</td>\n",
              "      <td>0</td>\n",
              "      <td>1.475</td>\n",
              "      <td>1.425</td>\n",
              "      <td>1.425</td>\n",
              "      <td>1.425</td>\n",
              "      <td>2.375</td>\n",
              "      <td>1.725</td>\n",
              "      <td>2.125</td>\n",
              "      <td>1.725</td>\n",
              "      <td>1.375</td>\n",
              "    </tr>\n",
              "    <tr>\n",
              "      <th>4</th>\n",
              "      <td>CTSP000005</td>\n",
              "      <td>0</td>\n",
              "      <td>47923.40</td>\n",
              "      <td>0</td>\n",
              "      <td>1</td>\n",
              "      <td>0</td>\n",
              "      <td>0</td>\n",
              "      <td>0</td>\n",
              "      <td>0</td>\n",
              "      <td>0</td>\n",
              "      <td>0.00</td>\n",
              "      <td>0.0</td>\n",
              "      <td>0.0</td>\n",
              "      <td>0.0</td>\n",
              "      <td>2000.0</td>\n",
              "      <td>27629.11</td>\n",
              "      <td>0.0</td>\n",
              "      <td>0.0</td>\n",
              "      <td>0.0</td>\n",
              "      <td>0</td>\n",
              "      <td>1</td>\n",
              "      <td>0</td>\n",
              "      <td>0</td>\n",
              "      <td>0</td>\n",
              "      <td>0</td>\n",
              "      <td>0</td>\n",
              "      <td>2</td>\n",
              "      <td>0</td>\n",
              "      <td>1.475</td>\n",
              "      <td>1.425</td>\n",
              "      <td>1.425</td>\n",
              "      <td>1.425</td>\n",
              "      <td>2.375</td>\n",
              "      <td>1.725</td>\n",
              "      <td>2.125</td>\n",
              "      <td>1.725</td>\n",
              "      <td>1.375</td>\n",
              "    </tr>\n",
              "  </tbody>\n",
              "</table>\n",
              "</div>"
            ],
            "text/plain": [
              "  Customer_id  Target   Balance  ...  CompetitiveRate7  RateBefore  ReferenceRate\n",
              "0  CTSP000001       0  43824.59  ...             1.475       1.425          1.125\n",
              "1  CTSP000002       1  11256.21  ...             2.125       1.725          1.375\n",
              "2  CTSP000003       1  18795.11  ...             1.575       1.675          1.375\n",
              "3  CTSP000004       0  22274.72  ...             2.125       1.725          1.375\n",
              "4  CTSP000005       0  47923.40  ...             2.125       1.725          1.375\n",
              "\n",
              "[5 rows x 37 columns]"
            ]
          },
          "metadata": {
            "tags": []
          },
          "execution_count": 10
        }
      ]
    },
    {
      "cell_type": "code",
      "metadata": {
        "id": "gvLEmH7ogBmv",
        "colab": {
          "base_uri": "https://localhost:8080/"
        },
        "outputId": "eb82372a-6645-4c19-8514-6fd8dffc4667"
      },
      "source": [
        "# Checking number of rows and columns\n",
        "df_raw.shape"
      ],
      "execution_count": null,
      "outputs": [
        {
          "output_type": "execute_result",
          "data": {
            "text/plain": [
              "(63999, 37)"
            ]
          },
          "metadata": {
            "tags": []
          },
          "execution_count": 11
        }
      ]
    },
    {
      "cell_type": "code",
      "metadata": {
        "id": "Ia4OelsK6QEJ"
      },
      "source": [
        "# Checking the column data types\n",
        "list_data = df_raw.dtypes"
      ],
      "execution_count": null,
      "outputs": []
    },
    {
      "cell_type": "code",
      "metadata": {
        "colab": {
          "base_uri": "https://localhost:8080/"
        },
        "id": "MPIFkBw46uFt",
        "outputId": "3bca4d5a-14be-401e-d2df-64a1a742f38c"
      },
      "source": [
        "# Printing the column data types\n",
        "print(list_data)"
      ],
      "execution_count": null,
      "outputs": [
        {
          "output_type": "stream",
          "text": [
            "Customer_id                object\n",
            "Target                      int64\n",
            "Balance                   float64\n",
            "PreviousCampaignResult      int64\n",
            "                           ...   \n",
            "CompetitiveRate6          float64\n",
            "CompetitiveRate7          float64\n",
            "RateBefore                float64\n",
            "ReferenceRate             float64\n",
            "Length: 37, dtype: object\n"
          ],
          "name": "stdout"
        }
      ]
    },
    {
      "cell_type": "code",
      "metadata": {
        "id": "8aRBuHNjmfbv"
      },
      "source": [
        "# Making of a copy of the raw data for analysis and engineering\n",
        "df=df_raw.copy(deep=True)"
      ],
      "execution_count": null,
      "outputs": []
    },
    {
      "cell_type": "code",
      "metadata": {
        "id": "EPgoK9Gama5M",
        "colab": {
          "base_uri": "https://localhost:8080/"
        },
        "outputId": "e1fbb950-12ec-41c7-e54b-f3c218f1e92a"
      },
      "source": [
        "# Checking for N/A values\n",
        "print (f'\\033[31m > # of N/As: \\033[31m' )\n",
        "if df.isnull().values.sum()==0:\n",
        "    print(f'\\033[32m No N/A \\033[32m')\n",
        "else:\n",
        "    for column_name,column in df.transpose().iterrows():\n",
        "        if df.isnull()[column_name].values.sum() !=0:\n",
        "            print(f'\\033[32m Number of error in column {column_name}: {df.isnull()[column_name].values.sum():,} \\033[32m')"
      ],
      "execution_count": null,
      "outputs": [
        {
          "output_type": "stream",
          "text": [
            "\u001b[31m > # of N/As: \u001b[31m\n",
            "\u001b[32m No N/A \u001b[32m\n"
          ],
          "name": "stdout"
        }
      ]
    },
    {
      "cell_type": "code",
      "metadata": {
        "id": "p9vbvYqlleQg",
        "colab": {
          "base_uri": "https://localhost:8080/"
        },
        "outputId": "8c63190b-473c-49ef-b3e2-390b0307a8a3"
      },
      "source": [
        "# Checking to make sure no customer ids are duplicated\n",
        "df.loc[df.Customer_id.duplicated(),:].shape[0]"
      ],
      "execution_count": null,
      "outputs": [
        {
          "output_type": "execute_result",
          "data": {
            "text/plain": [
              "0"
            ]
          },
          "metadata": {
            "tags": []
          },
          "execution_count": 17
        }
      ]
    },
    {
      "cell_type": "code",
      "metadata": {
        "id": "5lxBtg4knBfS",
        "colab": {
          "base_uri": "https://localhost:8080/",
          "height": 320
        },
        "outputId": "69eb40a6-1e92-48b6-bd2f-bfac449ce277"
      },
      "source": [
        "# Reviewing the general description statistics of the numerical columns\n",
        "df.describe()"
      ],
      "execution_count": null,
      "outputs": [
        {
          "output_type": "execute_result",
          "data": {
            "text/html": [
              "<div>\n",
              "<style scoped>\n",
              "    .dataframe tbody tr th:only-of-type {\n",
              "        vertical-align: middle;\n",
              "    }\n",
              "\n",
              "    .dataframe tbody tr th {\n",
              "        vertical-align: top;\n",
              "    }\n",
              "\n",
              "    .dataframe thead th {\n",
              "        text-align: right;\n",
              "    }\n",
              "</style>\n",
              "<table border=\"1\" class=\"dataframe\">\n",
              "  <thead>\n",
              "    <tr style=\"text-align: right;\">\n",
              "      <th></th>\n",
              "      <th>Target</th>\n",
              "      <th>Balance</th>\n",
              "      <th>PreviousCampaignResult</th>\n",
              "      <th>Product1</th>\n",
              "      <th>Product2</th>\n",
              "      <th>Product3</th>\n",
              "      <th>Product4</th>\n",
              "      <th>Product5</th>\n",
              "      <th>Product6</th>\n",
              "      <th>Transaction1</th>\n",
              "      <th>Transaction2</th>\n",
              "      <th>Transaction3</th>\n",
              "      <th>Transaction4</th>\n",
              "      <th>Transaction5</th>\n",
              "      <th>Transaction6</th>\n",
              "      <th>Transaction7</th>\n",
              "      <th>Transaction8</th>\n",
              "      <th>Transaction9</th>\n",
              "      <th>ExternalAccount1</th>\n",
              "      <th>ExternalAccount2</th>\n",
              "      <th>ExternalAccount3</th>\n",
              "      <th>ExternalAccount4</th>\n",
              "      <th>ExternalAccount5</th>\n",
              "      <th>ExternalAccount6</th>\n",
              "      <th>ExternalAccount7</th>\n",
              "      <th>ActivityIndicator</th>\n",
              "      <th>RegularInteractionIndicator</th>\n",
              "      <th>CompetitiveRate1</th>\n",
              "      <th>CompetitiveRate2</th>\n",
              "      <th>CompetitiveRate3</th>\n",
              "      <th>CompetitiveRate4</th>\n",
              "      <th>CompetitiveRate5</th>\n",
              "      <th>CompetitiveRate6</th>\n",
              "      <th>CompetitiveRate7</th>\n",
              "      <th>RateBefore</th>\n",
              "      <th>ReferenceRate</th>\n",
              "    </tr>\n",
              "  </thead>\n",
              "  <tbody>\n",
              "    <tr>\n",
              "      <th>count</th>\n",
              "      <td>63999.000000</td>\n",
              "      <td>63999.000000</td>\n",
              "      <td>63999.000000</td>\n",
              "      <td>63999.000000</td>\n",
              "      <td>63999.000000</td>\n",
              "      <td>63999.000000</td>\n",
              "      <td>63999.000000</td>\n",
              "      <td>63999.000000</td>\n",
              "      <td>63999.000000</td>\n",
              "      <td>63999.000000</td>\n",
              "      <td>63999.000000</td>\n",
              "      <td>63999.000000</td>\n",
              "      <td>63999.000000</td>\n",
              "      <td>6.399900e+04</td>\n",
              "      <td>6.399900e+04</td>\n",
              "      <td>63999.000000</td>\n",
              "      <td>63999.000000</td>\n",
              "      <td>63999.000000</td>\n",
              "      <td>63999.000000</td>\n",
              "      <td>63999.000000</td>\n",
              "      <td>63999.000000</td>\n",
              "      <td>63999.000000</td>\n",
              "      <td>63999.000000</td>\n",
              "      <td>63999.000000</td>\n",
              "      <td>63999.000000</td>\n",
              "      <td>63999.000000</td>\n",
              "      <td>63999.000000</td>\n",
              "      <td>63999.000000</td>\n",
              "      <td>63999.000000</td>\n",
              "      <td>63999.000000</td>\n",
              "      <td>63999.000000</td>\n",
              "      <td>63999.000000</td>\n",
              "      <td>63999.000000</td>\n",
              "      <td>63999.000000</td>\n",
              "      <td>63999.000000</td>\n",
              "      <td>63999.000000</td>\n",
              "    </tr>\n",
              "    <tr>\n",
              "      <th>mean</th>\n",
              "      <td>0.499773</td>\n",
              "      <td>22697.014218</td>\n",
              "      <td>0.001484</td>\n",
              "      <td>0.200441</td>\n",
              "      <td>0.160456</td>\n",
              "      <td>0.001766</td>\n",
              "      <td>0.092158</td>\n",
              "      <td>0.022125</td>\n",
              "      <td>0.041876</td>\n",
              "      <td>312.852441</td>\n",
              "      <td>98.306560</td>\n",
              "      <td>972.439108</td>\n",
              "      <td>13346.706243</td>\n",
              "      <td>5.872490e+03</td>\n",
              "      <td>8.831981e+03</td>\n",
              "      <td>101.191833</td>\n",
              "      <td>1522.355254</td>\n",
              "      <td>1123.682674</td>\n",
              "      <td>0.197034</td>\n",
              "      <td>0.301911</td>\n",
              "      <td>0.082533</td>\n",
              "      <td>0.123783</td>\n",
              "      <td>0.191862</td>\n",
              "      <td>0.100423</td>\n",
              "      <td>0.019313</td>\n",
              "      <td>19.776778</td>\n",
              "      <td>0.595291</td>\n",
              "      <td>1.379736</td>\n",
              "      <td>1.836435</td>\n",
              "      <td>1.391770</td>\n",
              "      <td>1.757322</td>\n",
              "      <td>1.882755</td>\n",
              "      <td>1.678434</td>\n",
              "      <td>1.412233</td>\n",
              "      <td>1.678434</td>\n",
              "      <td>1.315226</td>\n",
              "    </tr>\n",
              "    <tr>\n",
              "      <th>std</th>\n",
              "      <td>0.500004</td>\n",
              "      <td>10819.489043</td>\n",
              "      <td>0.039303</td>\n",
              "      <td>0.400333</td>\n",
              "      <td>0.367031</td>\n",
              "      <td>0.041983</td>\n",
              "      <td>0.289251</td>\n",
              "      <td>0.147092</td>\n",
              "      <td>0.200307</td>\n",
              "      <td>4932.061568</td>\n",
              "      <td>897.296635</td>\n",
              "      <td>5903.126316</td>\n",
              "      <td>25046.228309</td>\n",
              "      <td>2.226038e+04</td>\n",
              "      <td>3.051680e+04</td>\n",
              "      <td>894.873343</td>\n",
              "      <td>7410.544303</td>\n",
              "      <td>9570.708952</td>\n",
              "      <td>0.397762</td>\n",
              "      <td>0.459090</td>\n",
              "      <td>0.275176</td>\n",
              "      <td>0.329337</td>\n",
              "      <td>0.393768</td>\n",
              "      <td>0.300566</td>\n",
              "      <td>0.137623</td>\n",
              "      <td>104.827436</td>\n",
              "      <td>1.162643</td>\n",
              "      <td>0.206340</td>\n",
              "      <td>0.370122</td>\n",
              "      <td>0.161833</td>\n",
              "      <td>0.357483</td>\n",
              "      <td>0.516006</td>\n",
              "      <td>0.160600</td>\n",
              "      <td>0.575083</td>\n",
              "      <td>0.160600</td>\n",
              "      <td>0.106634</td>\n",
              "    </tr>\n",
              "    <tr>\n",
              "      <th>min</th>\n",
              "      <td>0.000000</td>\n",
              "      <td>10000.000000</td>\n",
              "      <td>0.000000</td>\n",
              "      <td>0.000000</td>\n",
              "      <td>0.000000</td>\n",
              "      <td>0.000000</td>\n",
              "      <td>0.000000</td>\n",
              "      <td>0.000000</td>\n",
              "      <td>0.000000</td>\n",
              "      <td>0.000000</td>\n",
              "      <td>0.000000</td>\n",
              "      <td>-34.340000</td>\n",
              "      <td>-33813.000000</td>\n",
              "      <td>0.000000e+00</td>\n",
              "      <td>-2.092436e+04</td>\n",
              "      <td>-957.010000</td>\n",
              "      <td>0.000000</td>\n",
              "      <td>0.000000</td>\n",
              "      <td>0.000000</td>\n",
              "      <td>0.000000</td>\n",
              "      <td>0.000000</td>\n",
              "      <td>0.000000</td>\n",
              "      <td>0.000000</td>\n",
              "      <td>0.000000</td>\n",
              "      <td>0.000000</td>\n",
              "      <td>0.000000</td>\n",
              "      <td>0.000000</td>\n",
              "      <td>1.025000</td>\n",
              "      <td>1.425000</td>\n",
              "      <td>1.125000</td>\n",
              "      <td>1.425000</td>\n",
              "      <td>1.175000</td>\n",
              "      <td>1.425000</td>\n",
              "      <td>0.525000</td>\n",
              "      <td>1.425000</td>\n",
              "      <td>1.125000</td>\n",
              "    </tr>\n",
              "    <tr>\n",
              "      <th>25%</th>\n",
              "      <td>0.000000</td>\n",
              "      <td>13499.005000</td>\n",
              "      <td>0.000000</td>\n",
              "      <td>0.000000</td>\n",
              "      <td>0.000000</td>\n",
              "      <td>0.000000</td>\n",
              "      <td>0.000000</td>\n",
              "      <td>0.000000</td>\n",
              "      <td>0.000000</td>\n",
              "      <td>0.000000</td>\n",
              "      <td>0.000000</td>\n",
              "      <td>0.000000</td>\n",
              "      <td>0.000000</td>\n",
              "      <td>0.000000e+00</td>\n",
              "      <td>0.000000e+00</td>\n",
              "      <td>0.000000</td>\n",
              "      <td>0.000000</td>\n",
              "      <td>0.000000</td>\n",
              "      <td>0.000000</td>\n",
              "      <td>0.000000</td>\n",
              "      <td>0.000000</td>\n",
              "      <td>0.000000</td>\n",
              "      <td>0.000000</td>\n",
              "      <td>0.000000</td>\n",
              "      <td>0.000000</td>\n",
              "      <td>0.000000</td>\n",
              "      <td>0.000000</td>\n",
              "      <td>1.425000</td>\n",
              "      <td>1.575000</td>\n",
              "      <td>1.425000</td>\n",
              "      <td>1.575000</td>\n",
              "      <td>1.575000</td>\n",
              "      <td>1.675000</td>\n",
              "      <td>0.525000</td>\n",
              "      <td>1.675000</td>\n",
              "      <td>1.375000</td>\n",
              "    </tr>\n",
              "    <tr>\n",
              "      <th>50%</th>\n",
              "      <td>0.000000</td>\n",
              "      <td>19982.570000</td>\n",
              "      <td>0.000000</td>\n",
              "      <td>0.000000</td>\n",
              "      <td>0.000000</td>\n",
              "      <td>0.000000</td>\n",
              "      <td>0.000000</td>\n",
              "      <td>0.000000</td>\n",
              "      <td>0.000000</td>\n",
              "      <td>0.000000</td>\n",
              "      <td>0.000000</td>\n",
              "      <td>0.000000</td>\n",
              "      <td>5670.000000</td>\n",
              "      <td>0.000000e+00</td>\n",
              "      <td>0.000000e+00</td>\n",
              "      <td>0.000000</td>\n",
              "      <td>0.000000</td>\n",
              "      <td>0.000000</td>\n",
              "      <td>0.000000</td>\n",
              "      <td>0.000000</td>\n",
              "      <td>0.000000</td>\n",
              "      <td>0.000000</td>\n",
              "      <td>0.000000</td>\n",
              "      <td>0.000000</td>\n",
              "      <td>0.000000</td>\n",
              "      <td>4.000000</td>\n",
              "      <td>0.000000</td>\n",
              "      <td>1.425000</td>\n",
              "      <td>1.925000</td>\n",
              "      <td>1.425000</td>\n",
              "      <td>1.675000</td>\n",
              "      <td>2.375000</td>\n",
              "      <td>1.675000</td>\n",
              "      <td>1.575000</td>\n",
              "      <td>1.675000</td>\n",
              "      <td>1.375000</td>\n",
              "    </tr>\n",
              "    <tr>\n",
              "      <th>75%</th>\n",
              "      <td>1.000000</td>\n",
              "      <td>30104.035000</td>\n",
              "      <td>0.000000</td>\n",
              "      <td>0.000000</td>\n",
              "      <td>0.000000</td>\n",
              "      <td>0.000000</td>\n",
              "      <td>0.000000</td>\n",
              "      <td>0.000000</td>\n",
              "      <td>0.000000</td>\n",
              "      <td>0.000000</td>\n",
              "      <td>0.000000</td>\n",
              "      <td>0.000000</td>\n",
              "      <td>17500.000000</td>\n",
              "      <td>2.000000e+03</td>\n",
              "      <td>5.500000e+03</td>\n",
              "      <td>0.000000</td>\n",
              "      <td>0.000000</td>\n",
              "      <td>0.000000</td>\n",
              "      <td>0.000000</td>\n",
              "      <td>1.000000</td>\n",
              "      <td>0.000000</td>\n",
              "      <td>0.000000</td>\n",
              "      <td>0.000000</td>\n",
              "      <td>0.000000</td>\n",
              "      <td>0.000000</td>\n",
              "      <td>12.000000</td>\n",
              "      <td>1.000000</td>\n",
              "      <td>1.575000</td>\n",
              "      <td>2.375000</td>\n",
              "      <td>1.575000</td>\n",
              "      <td>1.675000</td>\n",
              "      <td>2.375000</td>\n",
              "      <td>1.875000</td>\n",
              "      <td>1.575000</td>\n",
              "      <td>1.875000</td>\n",
              "      <td>1.375000</td>\n",
              "    </tr>\n",
              "    <tr>\n",
              "      <th>max</th>\n",
              "      <td>1.000000</td>\n",
              "      <td>50000.000000</td>\n",
              "      <td>2.000000</td>\n",
              "      <td>1.000000</td>\n",
              "      <td>1.000000</td>\n",
              "      <td>1.000000</td>\n",
              "      <td>1.000000</td>\n",
              "      <td>1.000000</td>\n",
              "      <td>1.000000</td>\n",
              "      <td>505000.000000</td>\n",
              "      <td>85500.000000</td>\n",
              "      <td>633506.040000</td>\n",
              "      <td>917005.000000</td>\n",
              "      <td>1.330000e+06</td>\n",
              "      <td>2.029492e+06</td>\n",
              "      <td>36186.980000</td>\n",
              "      <td>297055.190000</td>\n",
              "      <td>513627.920000</td>\n",
              "      <td>1.000000</td>\n",
              "      <td>1.000000</td>\n",
              "      <td>1.000000</td>\n",
              "      <td>1.000000</td>\n",
              "      <td>1.000000</td>\n",
              "      <td>1.000000</td>\n",
              "      <td>1.000000</td>\n",
              "      <td>6762.000000</td>\n",
              "      <td>56.000000</td>\n",
              "      <td>1.575000</td>\n",
              "      <td>2.375000</td>\n",
              "      <td>1.575000</td>\n",
              "      <td>2.375000</td>\n",
              "      <td>2.375000</td>\n",
              "      <td>1.875000</td>\n",
              "      <td>2.125000</td>\n",
              "      <td>1.875000</td>\n",
              "      <td>1.375000</td>\n",
              "    </tr>\n",
              "  </tbody>\n",
              "</table>\n",
              "</div>"
            ],
            "text/plain": [
              "             Target       Balance  ...    RateBefore  ReferenceRate\n",
              "count  63999.000000  63999.000000  ...  63999.000000   63999.000000\n",
              "mean       0.499773  22697.014218  ...      1.678434       1.315226\n",
              "std        0.500004  10819.489043  ...      0.160600       0.106634\n",
              "min        0.000000  10000.000000  ...      1.425000       1.125000\n",
              "25%        0.000000  13499.005000  ...      1.675000       1.375000\n",
              "50%        0.000000  19982.570000  ...      1.675000       1.375000\n",
              "75%        1.000000  30104.035000  ...      1.875000       1.375000\n",
              "max        1.000000  50000.000000  ...      1.875000       1.375000\n",
              "\n",
              "[8 rows x 36 columns]"
            ]
          },
          "metadata": {
            "tags": []
          },
          "execution_count": 18
        }
      ]
    },
    {
      "cell_type": "code",
      "metadata": {
        "id": "_jJkF8DlnUbV",
        "colab": {
          "base_uri": "https://localhost:8080/",
          "height": 175
        },
        "outputId": "53d19fc2-19dc-4767-c1b3-416e3f4c649f"
      },
      "source": [
        "# getting the basic descriptive statistics for the Categorical columns.\n",
        "df.describe(include=['datetime64','O'])"
      ],
      "execution_count": null,
      "outputs": [
        {
          "output_type": "execute_result",
          "data": {
            "text/html": [
              "<div>\n",
              "<style scoped>\n",
              "    .dataframe tbody tr th:only-of-type {\n",
              "        vertical-align: middle;\n",
              "    }\n",
              "\n",
              "    .dataframe tbody tr th {\n",
              "        vertical-align: top;\n",
              "    }\n",
              "\n",
              "    .dataframe thead th {\n",
              "        text-align: right;\n",
              "    }\n",
              "</style>\n",
              "<table border=\"1\" class=\"dataframe\">\n",
              "  <thead>\n",
              "    <tr style=\"text-align: right;\">\n",
              "      <th></th>\n",
              "      <th>Customer_id</th>\n",
              "    </tr>\n",
              "  </thead>\n",
              "  <tbody>\n",
              "    <tr>\n",
              "      <th>count</th>\n",
              "      <td>63999</td>\n",
              "    </tr>\n",
              "    <tr>\n",
              "      <th>unique</th>\n",
              "      <td>63999</td>\n",
              "    </tr>\n",
              "    <tr>\n",
              "      <th>top</th>\n",
              "      <td>CTSP053654</td>\n",
              "    </tr>\n",
              "    <tr>\n",
              "      <th>freq</th>\n",
              "      <td>1</td>\n",
              "    </tr>\n",
              "  </tbody>\n",
              "</table>\n",
              "</div>"
            ],
            "text/plain": [
              "       Customer_id\n",
              "count        63999\n",
              "unique       63999\n",
              "top     CTSP053654\n",
              "freq             1"
            ]
          },
          "metadata": {
            "tags": []
          },
          "execution_count": 19
        }
      ]
    },
    {
      "cell_type": "markdown",
      "metadata": {
        "id": "lRNBJofXUUEB"
      },
      "source": [
        "As it can be seen by the descriptive statistics above, quite a few of the columns data is zero. In fact, several of the columns are more than 75% zero. In addition, by looking at the mean of some of the binary fields like the product fields, you can see that most of the values in the column are zero. For example, the mean for Product 3 is 0.001766 meants only 0.1766% of the customers have product 3.\n",
        "\n",
        "Due to the low mean of some of the binary fields compared to the target, we suspect that they will not be as important to the model."
      ]
    },
    {
      "cell_type": "markdown",
      "metadata": {
        "id": "5qyR9G73Rnx7"
      },
      "source": [
        "## Correlations\n",
        "\n",
        "Lets see if there are any correlations that can be picked within the different categories of the raw data. Due to the large number of features, we are grouping some of the features into different Dataframes and comparing the correlations within."
      ]
    },
    {
      "cell_type": "code",
      "metadata": {
        "id": "J8dT6jQ4RtRn"
      },
      "source": [
        "# Creating a dataframe for the Transactions to look for correlations amongst the transactions and the Target\n",
        "transactions = df[['Target','Transaction1', 'Transaction2', 'Transaction3', 'Transaction4', 'Transaction5','Transaction6', 'Transaction7', 'Transaction8', 'Transaction9']]"
      ],
      "execution_count": null,
      "outputs": []
    },
    {
      "cell_type": "code",
      "metadata": {
        "colab": {
          "base_uri": "https://localhost:8080/",
          "height": 613
        },
        "id": "MJMY_jmZVjqq",
        "outputId": "be6191d3-4213-4cec-b8d9-cf3457a24b17"
      },
      "source": [
        "plt.subplots(figsize=(9,9))\n",
        "sns.heatmap(transactions.corr(), annot=True)"
      ],
      "execution_count": null,
      "outputs": [
        {
          "output_type": "execute_result",
          "data": {
            "text/plain": [
              "<matplotlib.axes._subplots.AxesSubplot at 0x7fe2c0961668>"
            ]
          },
          "metadata": {
            "tags": []
          },
          "execution_count": 21
        },
        {
          "output_type": "display_data",
          "data": {
            "image/png": "[encoded data removed]",
            "text/plain": [
              "<Figure size 648x648 with 2 Axes>"
            ]
          },
          "metadata": {
            "tags": [],
            "needs_background": "light"
          }
        }
      ]
    },
    {
      "cell_type": "markdown",
      "metadata": {
        "id": "zOaZuYQBg_7I"
      },
      "source": [
        "As can be seen on the correlation heatmap above it can be observed that only transaction 4 seems to have some correlation to the target with the others having very weak correlations. Transactions 4 and 5 and 8 and 3 are decently correlated with each other.\n"
      ]
    },
    {
      "cell_type": "code",
      "metadata": {
        "id": "Wt2tQt9OcaRP"
      },
      "source": [
        "# Creating a dataframe of the different rates to check for correclation amongst them and the target\n",
        "rates = df[['Target','CompetitiveRate1', 'CompetitiveRate2', 'CompetitiveRate3', 'CompetitiveRate4', 'CompetitiveRate5', 'CompetitiveRate6', 'CompetitiveRate7', 'RateBefore', 'ReferenceRate']]"
      ],
      "execution_count": null,
      "outputs": []
    },
    {
      "cell_type": "code",
      "metadata": {
        "colab": {
          "base_uri": "https://localhost:8080/",
          "height": 639
        },
        "id": "NPpqge-Kc_Dj",
        "outputId": "d4781fec-a128-46a4-e902-1202799538e7"
      },
      "source": [
        "plt.subplots(figsize=(9,9))\n",
        "sns.heatmap(rates.corr(), annot=True)"
      ],
      "execution_count": null,
      "outputs": [
        {
          "output_type": "execute_result",
          "data": {
            "text/plain": [
              "<matplotlib.axes._subplots.AxesSubplot at 0x7fe28ca9d780>"
            ]
          },
          "metadata": {
            "tags": []
          },
          "execution_count": 23
        },
        {
          "output_type": "display_data",
          "data": {
            "image/png": "[encoded data removed]",
            "text/plain": [
              "<Figure size 648x648 with 2 Axes>"
            ]
          },
          "metadata": {
            "tags": [],
            "needs_background": "light"
          }
        }
      ]
    },
    {
      "cell_type": "markdown",
      "metadata": {
        "id": "XXS22uR6ljWM"
      },
      "source": [
        "As you can see in the heatmap above, there are some strong correlations between some of the rates (both close to 1 and -1). This could be attributed to the fact that the different customers might be bucketed into different categories which gives them a certain promotional rate and with the different campaigns the promo rates go up or down and every customer's offer goes up or down by a specific amount\n",
        "\n",
        "There is one concern we have however: Competititve Rate 6 has a correlation of 1 with Rate Before. Upon detailed analysis we found that the rates are the same so we will be dropping Competitive rate 6 during feature engineering to prevent the risk of overfitting."
      ]
    },
    {
      "cell_type": "code",
      "metadata": {
        "id": "RKvgyknUe1Il"
      },
      "source": [
        "# Creating a dataframe of the Products to look at correlations between the different products and the target\n",
        "products = df[['Target','Product1','Product2','Product3', 'Product4', 'Product5', 'Product6']]"
      ],
      "execution_count": null,
      "outputs": []
    },
    {
      "cell_type": "code",
      "metadata": {
        "colab": {
          "base_uri": "https://localhost:8080/",
          "height": 559
        },
        "id": "Q4d1DcLc70KR",
        "outputId": "b92e5479-fd18-441c-bdac-a1ff62ebdef3"
      },
      "source": [
        "plt.subplots(figsize=(9,9))\n",
        "sns.heatmap(products.corr(), annot=True)"
      ],
      "execution_count": null,
      "outputs": [
        {
          "output_type": "execute_result",
          "data": {
            "text/plain": [
              "<matplotlib.axes._subplots.AxesSubplot at 0x7fe28abbc9b0>"
            ]
          },
          "metadata": {
            "tags": []
          },
          "execution_count": 25
        },
        {
          "output_type": "display_data",
          "data": {
            "image/png": "[encoded data removed]",
            "text/plain": [
              "<Figure size 648x648 with 2 Axes>"
            ]
          },
          "metadata": {
            "tags": [],
            "needs_background": "light"
          }
        }
      ]
    },
    {
      "cell_type": "markdown",
      "metadata": {
        "id": "d4WbVpjU2vCX"
      },
      "source": [
        "The product features have very little correlation with one another and very little with the target itself (the highest reaching a mere 0.11)."
      ]
    },
    {
      "cell_type": "code",
      "metadata": {
        "id": "TMKk_wku8UT6"
      },
      "source": [
        "# Creating a dataframe of the External Accounts to look at correlations between the different external accounts and the target\n",
        "ext_accounts = df[['Target', 'ExternalAccount1', 'ExternalAccount2', 'ExternalAccount3', 'ExternalAccount4', 'ExternalAccount5', 'ExternalAccount6', 'ExternalAccount7']]"
      ],
      "execution_count": null,
      "outputs": []
    },
    {
      "cell_type": "code",
      "metadata": {
        "colab": {
          "base_uri": "https://localhost:8080/",
          "height": 637
        },
        "id": "G5UzmLLL8ZmX",
        "outputId": "4ad030b7-734b-4287-ee6c-9aebf6305899"
      },
      "source": [
        "plt.subplots(figsize=(9,9))\n",
        "sns.heatmap(ext_accounts.corr(), annot=True)"
      ],
      "execution_count": null,
      "outputs": [
        {
          "output_type": "execute_result",
          "data": {
            "text/plain": [
              "<matplotlib.axes._subplots.AxesSubplot at 0x7fe28ac12fd0>"
            ]
          },
          "metadata": {
            "tags": []
          },
          "execution_count": 27
        },
        {
          "output_type": "display_data",
          "data": {
            "image/png": "[encoded data removed]",
            "text/plain": [
              "<Figure size 648x648 with 2 Axes>"
            ]
          },
          "metadata": {
            "tags": [],
            "needs_background": "light"
          }
        }
      ]
    },
    {
      "cell_type": "markdown",
      "metadata": {
        "id": "b8DYh-qCwwmo"
      },
      "source": [
        "## Target Analysis"
      ]
    },
    {
      "cell_type": "code",
      "metadata": {
        "id": "EQpZKVC3p2Qh",
        "colab": {
          "base_uri": "https://localhost:8080/"
        },
        "outputId": "498dfce3-192d-41b9-e1e6-48e13d860186"
      },
      "source": [
        "# Checking the response rate of the campaign in the training data\n",
        "df_respond_rate=df[['Target']].groupby(['Target']).agg({'Target':'count'})\n",
        "df_respond_rate['%']=df_respond_rate['Target']/len(df['Target'])*100\n",
        "print (f'\\033[31m > Responding Rate% \\033[0m' )\n",
        "print(df_respond_rate)"
      ],
      "execution_count": null,
      "outputs": [
        {
          "output_type": "stream",
          "text": [
            "\u001b[31m > Responding Rate% \u001b[0m\n",
            "        Target          %\n",
            "Target                   \n",
            "0        32014  50.022657\n",
            "1        31985  49.977343\n"
          ],
          "name": "stdout"
        }
      ]
    },
    {
      "cell_type": "markdown",
      "metadata": {
        "id": "pX0CBQ4T22Mz"
      },
      "source": [
        "# 2. Feature engineering and and detailed analysis\n",
        "\n",
        "In the following section, we start detailed analysis of the different features in the raw data and conduct feature engineering.\n",
        "\n",
        "You will notice below that we are binning several of our features. This is due to the wide range of data but most of the distribution near zero."
      ]
    },
    {
      "cell_type": "code",
      "metadata": {
        "id": "ChYMK77L2eXx"
      },
      "source": [
        "# Taking total sum of Products and Accounts for each customer\n",
        "df.drop(['Product_Sum','ExternalAccount_Sum'],axis=1,inplace=True, errors='ignore')\n",
        "df['Product_Sum']=df[df.filter(like='Product').columns].sum(axis = 1)\n",
        "df['ExternalAccount_Sum']=df[df.filter(like='ExternalAccount').columns].sum(axis = 1)"
      ],
      "execution_count": null,
      "outputs": []
    },
    {
      "cell_type": "code",
      "metadata": {
        "id": "Ema6AnJH6mTE"
      },
      "source": [
        "# Flooring to minimize noise and impove the fit for the transactions\n",
        "trans_floor=50\n",
        "\n",
        "df.drop(df.filter(like='Transaction_').columns,axis=1,inplace=True, errors='ignore')\n",
        "df_trans=df[df.filter(like='Transaction').columns]\n",
        "df['Transaction_Sum']=df_trans.sum(axis = 1)\n",
        "df['Transaction_Min']=df_trans[(df_trans >trans_floor)].min(axis=1)\n",
        "df['Transaction_Min'] = df['Transaction_Min'].fillna(10)\n",
        "df['Transaction_Max']=df_trans.max(axis=1)\n",
        "df['Transaction_Mean']=df_trans.mean(axis=1)\n",
        "df['Transaction_Median']=df_trans[(df_trans >trans_floor)].median(axis=1)\n",
        "df['Transaction_Median'] = df['Transaction_Median'].fillna(0)\n",
        "df['Transaction_Std']=df_trans[(df_trans >trans_floor)].std(axis=1)\n",
        "df['Transaction_Std'] = df['Transaction_Std'].fillna(0)\n",
        "df['Transaction_Count']=df_trans[(df_trans >trans_floor)].count(axis=1)"
      ],
      "execution_count": null,
      "outputs": []
    },
    {
      "cell_type": "code",
      "metadata": {
        "id": "8Nh7BE68HXWg"
      },
      "source": [
        "# Dropping Competitive Rates 6 as mentioned before due to a correlation of 1 with the Rate Before and upon further investigation, we found that the rates are the same\n",
        "df['Rate_Drop'] = df['RateBefore'].sub(df['ReferenceRate'], axis = 0)\n",
        "df.drop(['CompetitiveRate6'],axis=1,inplace=True, errors='ignore')"
      ],
      "execution_count": null,
      "outputs": []
    },
    {
      "cell_type": "code",
      "metadata": {
        "id": "IPIHdQswLZTA"
      },
      "source": [
        "# Creating a feature comparing Rate 4 to Rate Before and Rate 3 to Reference Rate due to strong correlations\n",
        "df['R4EqBefore']=0\n",
        "df.loc[df.CompetitiveRate4==df.RateBefore,'R4EqBefore']=1\n",
        "df['R3EqRef']=0\n",
        "df.loc[df.CompetitiveRate3==df.ReferenceRate,'R3EqRef']=1"
      ],
      "execution_count": null,
      "outputs": []
    },
    {
      "cell_type": "markdown",
      "metadata": {
        "id": "yRWn7ig5n7Mk"
      },
      "source": [
        "## Binning\n",
        "\n",
        "We are binning data as mentioned before. You will see a graph showing the normal data distribution and the binned distribution."
      ]
    },
    {
      "cell_type": "code",
      "metadata": {
        "colab": {
          "base_uri": "https://localhost:8080/",
          "height": 283
        },
        "id": "HXep1GWId2Wb",
        "outputId": "08507141-6050-49df-f6e1-5289632bd3e1"
      },
      "source": [
        "# Checking the distribution of the balance\n",
        "df['Balance'].hist(bins=20)"
      ],
      "execution_count": null,
      "outputs": [
        {
          "output_type": "execute_result",
          "data": {
            "text/plain": [
              "<matplotlib.axes._subplots.AxesSubplot at 0x7fe28a994710>"
            ]
          },
          "metadata": {
            "tags": []
          },
          "execution_count": 35
        },
        {
          "output_type": "display_data",
          "data": {
            "image/png": "[encoded data removed]",
            "text/plain": [
              "<Figure size 432x288 with 1 Axes>"
            ]
          },
          "metadata": {
            "tags": [],
            "needs_background": "light"
          }
        }
      ]
    },
    {
      "cell_type": "code",
      "metadata": {
        "colab": {
          "base_uri": "https://localhost:8080/",
          "height": 283
        },
        "id": "XdUTxcqReIyU",
        "outputId": "c0fa0ffc-b8f7-4877-ab3f-f2ce5a8e4f16"
      },
      "source": [
        "# Grouping the Balance into multiple bins\n",
        "cut_bins = [-np.inf,0, 50, 100, 200, 400, 800, 1600, 3200, 6400,12800, np.inf]\n",
        "df['Balance_Bin'] = pd.cut(df['Balance'], bins=20, labels=False,right=True)\n",
        "df['Balance_Bin'].hist(bins=20)"
      ],
      "execution_count": null,
      "outputs": [
        {
          "output_type": "execute_result",
          "data": {
            "text/plain": [
              "<matplotlib.axes._subplots.AxesSubplot at 0x7fe28a8cf4e0>"
            ]
          },
          "metadata": {
            "tags": []
          },
          "execution_count": 36
        },
        {
          "output_type": "display_data",
          "data": {
            "image/png": "[encoded data removed]",
            "text/plain": [
              "<Figure size 432x288 with 1 Axes>"
            ]
          },
          "metadata": {
            "tags": [],
            "needs_background": "light"
          }
        }
      ]
    },
    {
      "cell_type": "code",
      "metadata": {
        "colab": {
          "base_uri": "https://localhost:8080/",
          "height": 283
        },
        "id": "UZ0tYiyaetEP",
        "outputId": "a93dc8b2-9a3e-4058-ce85-9d14b17d934d"
      },
      "source": [
        "df.loc[df.Transaction1>0,'Transaction1'].hist(bins=20)"
      ],
      "execution_count": null,
      "outputs": [
        {
          "output_type": "execute_result",
          "data": {
            "text/plain": [
              "<matplotlib.axes._subplots.AxesSubplot at 0x7fe28a82c908>"
            ]
          },
          "metadata": {
            "tags": []
          },
          "execution_count": 37
        },
        {
          "output_type": "display_data",
          "data": {
            "image/png": "[encoded data removed]",
            "text/plain": [
              "<Figure size 432x288 with 1 Axes>"
            ]
          },
          "metadata": {
            "tags": [],
            "needs_background": "light"
          }
        }
      ]
    },
    {
      "cell_type": "code",
      "metadata": {
        "colab": {
          "base_uri": "https://localhost:8080/",
          "height": 283
        },
        "id": "5EwJpJa8fDYL",
        "outputId": "0b87981f-a8ca-49a6-aef2-c4181e0dc482"
      },
      "source": [
        "# Bining the Tranasactions into 20 categories\n",
        "# Tried to bin them by percentage and percentile however that did not help. Therefore we use fixed values to bin them into categories.\n",
        "cut_bins = [-np.inf,0, 100, 200, 400, 600,800, 1000, 2000, 4000,6000,8000,10000,20000,40000, 60000,80000,100000,200000,np.inf]\n",
        "df['Transaction1_Bin'] = pd.cut(df['Transaction1'], bins=cut_bins, labels=False,right=True)\n",
        "df.loc[df.Transaction1>0,'Transaction1_Bin'].hist(bins=20)"
      ],
      "execution_count": null,
      "outputs": [
        {
          "output_type": "execute_result",
          "data": {
            "text/plain": [
              "<matplotlib.axes._subplots.AxesSubplot at 0x7fe28abbc438>"
            ]
          },
          "metadata": {
            "tags": []
          },
          "execution_count": 38
        },
        {
          "output_type": "display_data",
          "data": {
            "image/png": "[encoded data removed]",
            "text/plain": [
              "<Figure size 432x288 with 1 Axes>"
            ]
          },
          "metadata": {
            "tags": [],
            "needs_background": "light"
          }
        }
      ]
    },
    {
      "cell_type": "code",
      "metadata": {
        "colab": {
          "base_uri": "https://localhost:8080/",
          "height": 283
        },
        "id": "01DzIr70i6Nu",
        "outputId": "df3bac13-04c2-48b5-a7d7-46e2e43afa94"
      },
      "source": [
        "df.loc[df.Transaction2>0,'Transaction2'].hist(bins=20)"
      ],
      "execution_count": null,
      "outputs": [
        {
          "output_type": "execute_result",
          "data": {
            "text/plain": [
              "<matplotlib.axes._subplots.AxesSubplot at 0x7fe28a7be3c8>"
            ]
          },
          "metadata": {
            "tags": []
          },
          "execution_count": 39
        },
        {
          "output_type": "display_data",
          "data": {
            "image/png": "[encoded data removed]",
            "text/plain": [
              "<Figure size 432x288 with 1 Axes>"
            ]
          },
          "metadata": {
            "tags": [],
            "needs_background": "light"
          }
        }
      ]
    },
    {
      "cell_type": "code",
      "metadata": {
        "colab": {
          "base_uri": "https://localhost:8080/",
          "height": 283
        },
        "id": "QKLb7CfOi6Nv",
        "outputId": "69dbc791-5fd6-4b91-ecc6-ef2eeb9617cb"
      },
      "source": [
        "cut_bins = [-np.inf,0, 100, 200, 400, 600,800, 1000, 2000, 4000,6000,8000,10000,20000,40000, 60000,80000,100000,200000,np.inf]\n",
        "df['Transaction2_Bin'] = pd.cut(df['Transaction2'], bins=cut_bins, labels=False,right=True)\n",
        "df.loc[df.Transaction2>0,'Transaction2_Bin'].hist(bins=20)"
      ],
      "execution_count": null,
      "outputs": [
        {
          "output_type": "execute_result",
          "data": {
            "text/plain": [
              "<matplotlib.axes._subplots.AxesSubplot at 0x7fe28a6715f8>"
            ]
          },
          "metadata": {
            "tags": []
          },
          "execution_count": 40
        },
        {
          "output_type": "display_data",
          "data": {
            "image/png": "[encoded data removed]",
            "text/plain": [
              "<Figure size 432x288 with 1 Axes>"
            ]
          },
          "metadata": {
            "tags": [],
            "needs_background": "light"
          }
        }
      ]
    },
    {
      "cell_type": "code",
      "metadata": {
        "colab": {
          "base_uri": "https://localhost:8080/",
          "height": 283
        },
        "id": "ub-gGpdFjQpN",
        "outputId": "68378951-797f-426c-d2da-39ac3d039a64"
      },
      "source": [
        "df.loc[df.Transaction3>0,'Transaction3'].hist(bins=20)"
      ],
      "execution_count": null,
      "outputs": [
        {
          "output_type": "execute_result",
          "data": {
            "text/plain": [
              "<matplotlib.axes._subplots.AxesSubplot at 0x7fe28a66c048>"
            ]
          },
          "metadata": {
            "tags": []
          },
          "execution_count": 41
        },
        {
          "output_type": "display_data",
          "data": {
            "image/png": "[encoded data removed]",
            "text/plain": [
              "<Figure size 432x288 with 1 Axes>"
            ]
          },
          "metadata": {
            "tags": [],
            "needs_background": "light"
          }
        }
      ]
    },
    {
      "cell_type": "code",
      "metadata": {
        "colab": {
          "base_uri": "https://localhost:8080/",
          "height": 283
        },
        "id": "SQ7P9JSPjQpN",
        "outputId": "15ac8b77-0944-4147-9b6f-49fd1b945b66"
      },
      "source": [
        "cut_bins = [-np.inf,0, 100, 200, 400, 600,800, 1000, 2000, 4000,6000,8000,10000,20000,40000, 60000,80000,100000,200000,np.inf]\n",
        "df['Transaction3_Bin'] = pd.cut(df['Transaction3'], bins=cut_bins, labels=False,right=True)\n",
        "df.loc[df.Transaction3>0,'Transaction3_Bin'].hist(bins=20)"
      ],
      "execution_count": null,
      "outputs": [
        {
          "output_type": "execute_result",
          "data": {
            "text/plain": [
              "<matplotlib.axes._subplots.AxesSubplot at 0x7fe28a52b320>"
            ]
          },
          "metadata": {
            "tags": []
          },
          "execution_count": 42
        },
        {
          "output_type": "display_data",
          "data": {
            "image/png": "[encoded data removed]",
            "text/plain": [
              "<Figure size 432x288 with 1 Axes>"
            ]
          },
          "metadata": {
            "tags": [],
            "needs_background": "light"
          }
        }
      ]
    },
    {
      "cell_type": "code",
      "metadata": {
        "colab": {
          "base_uri": "https://localhost:8080/",
          "height": 283
        },
        "id": "k-Ps_cOEjZuT",
        "outputId": "c1c5f4c2-8c5e-45ef-e1b8-165fc150d3be"
      },
      "source": [
        "df.loc[df.Transaction4>0,'Transaction4'].hist(bins=20)"
      ],
      "execution_count": null,
      "outputs": [
        {
          "output_type": "execute_result",
          "data": {
            "text/plain": [
              "<matplotlib.axes._subplots.AxesSubplot at 0x7fe28a52de80>"
            ]
          },
          "metadata": {
            "tags": []
          },
          "execution_count": 43
        },
        {
          "output_type": "display_data",
          "data": {
            "image/png": "[encoded data removed]",
            "text/plain": [
              "<Figure size 432x288 with 1 Axes>"
            ]
          },
          "metadata": {
            "tags": [],
            "needs_background": "light"
          }
        }
      ]
    },
    {
      "cell_type": "code",
      "metadata": {
        "colab": {
          "base_uri": "https://localhost:8080/",
          "height": 283
        },
        "id": "ucUbVtUsjZuT",
        "outputId": "bf3e737d-7389-44e8-819d-7fd5324a1b2d"
      },
      "source": [
        "cut_bins = [-np.inf,0, 100, 200, 400, 600,800, 1000, 2000, 4000,6000,8000,10000,20000,40000, 60000,80000,100000,200000,np.inf]\n",
        "df['Transaction4_Bin'] = pd.cut(df['Transaction4'], bins=cut_bins, labels=False,right=True)\n",
        "df.loc[df.Transaction4>0,'Transaction4_Bin'].hist(bins=20)"
      ],
      "execution_count": null,
      "outputs": [
        {
          "output_type": "execute_result",
          "data": {
            "text/plain": [
              "<matplotlib.axes._subplots.AxesSubplot at 0x7fe28a3dc898>"
            ]
          },
          "metadata": {
            "tags": []
          },
          "execution_count": 44
        },
        {
          "output_type": "display_data",
          "data": {
            "image/png": "[encoded data removed]",
            "text/plain": [
              "<Figure size 432x288 with 1 Axes>"
            ]
          },
          "metadata": {
            "tags": [],
            "needs_background": "light"
          }
        }
      ]
    },
    {
      "cell_type": "code",
      "metadata": {
        "colab": {
          "base_uri": "https://localhost:8080/",
          "height": 283
        },
        "id": "KLA10-8yjjsT",
        "outputId": "4311c963-895d-4bd4-fdb0-3f5a19bc2f59"
      },
      "source": [
        "df['Transaction5_Bin'] = pd.cut(df['Transaction5'], bins=cut_bins, labels=False,right=True)\n",
        "df.loc[df.Transaction5>0,'Transaction5_Bin'].hist(bins=20)"
      ],
      "execution_count": null,
      "outputs": [
        {
          "output_type": "execute_result",
          "data": {
            "text/plain": [
              "<matplotlib.axes._subplots.AxesSubplot at 0x7fe28a43acf8>"
            ]
          },
          "metadata": {
            "tags": []
          },
          "execution_count": 45
        },
        {
          "output_type": "display_data",
          "data": {
            "image/png": "[encoded data removed]",
            "text/plain": [
              "<Figure size 432x288 with 1 Axes>"
            ]
          },
          "metadata": {
            "tags": [],
            "needs_background": "light"
          }
        }
      ]
    },
    {
      "cell_type": "code",
      "metadata": {
        "colab": {
          "base_uri": "https://localhost:8080/",
          "height": 283
        },
        "id": "_vycS-gdjsEg",
        "outputId": "dfc0cc32-3332-4beb-a420-d5542e503bac"
      },
      "source": [
        "df['Transaction6_Bin'] = pd.cut(df['Transaction6'], bins=cut_bins, labels=False,right=True)\n",
        "df.loc[df.Transaction6>0,'Transaction6_Bin'].hist(bins=20)"
      ],
      "execution_count": null,
      "outputs": [
        {
          "output_type": "execute_result",
          "data": {
            "text/plain": [
              "<matplotlib.axes._subplots.AxesSubplot at 0x7fe28a2a0240>"
            ]
          },
          "metadata": {
            "tags": []
          },
          "execution_count": 46
        },
        {
          "output_type": "display_data",
          "data": {
            "image/png": "[encoded data removed]",
            "text/plain": [
              "<Figure size 432x288 with 1 Axes>"
            ]
          },
          "metadata": {
            "tags": [],
            "needs_background": "light"
          }
        }
      ]
    },
    {
      "cell_type": "code",
      "metadata": {
        "colab": {
          "base_uri": "https://localhost:8080/",
          "height": 287
        },
        "id": "rsFCu50pjvgp",
        "outputId": "15cb3b84-62ac-4db3-97f4-e97c58a8f91d"
      },
      "source": [
        "df['Transaction7_Bin'] = pd.cut(df['Transaction7'], bins=cut_bins, labels=False,right=True)\n",
        "df.loc[df.Transaction7>0,'Transaction7_Bin'].hist(bins=20)"
      ],
      "execution_count": null,
      "outputs": [
        {
          "output_type": "execute_result",
          "data": {
            "text/plain": [
              "<matplotlib.axes._subplots.AxesSubplot at 0x7fe28a2d42e8>"
            ]
          },
          "metadata": {
            "tags": []
          },
          "execution_count": 47
        },
        {
          "output_type": "display_data",
          "data": {
            "image/png": "[encoded data removed]",
            "text/plain": [
              "<Figure size 432x288 with 1 Axes>"
            ]
          },
          "metadata": {
            "tags": [],
            "needs_background": "light"
          }
        }
      ]
    },
    {
      "cell_type": "code",
      "metadata": {
        "colab": {
          "base_uri": "https://localhost:8080/",
          "height": 283
        },
        "id": "Lw3vlh4NjzlG",
        "outputId": "37ce0c1f-ebc4-4d5d-994f-a54457f4e593"
      },
      "source": [
        "df['Transaction8_Bin'] = pd.cut(df['Transaction8'], bins=cut_bins, labels=False,right=True)\n",
        "df.loc[df.Transaction8>0,'Transaction8_Bin'].hist(bins=20)"
      ],
      "execution_count": null,
      "outputs": [
        {
          "output_type": "execute_result",
          "data": {
            "text/plain": [
              "<matplotlib.axes._subplots.AxesSubplot at 0x7fe28a1b9278>"
            ]
          },
          "metadata": {
            "tags": []
          },
          "execution_count": 48
        },
        {
          "output_type": "display_data",
          "data": {
            "image/png": "[encoded data removed]",
            "text/plain": [
              "<Figure size 432x288 with 1 Axes>"
            ]
          },
          "metadata": {
            "tags": [],
            "needs_background": "light"
          }
        }
      ]
    },
    {
      "cell_type": "code",
      "metadata": {
        "colab": {
          "base_uri": "https://localhost:8080/",
          "height": 285
        },
        "id": "pdzwx-mvj7fJ",
        "outputId": "9f27f431-c07c-469a-f7b1-a5ab94c23f92"
      },
      "source": [
        "df['Transaction9_Bin'] = pd.cut(df['Transaction9'], bins=cut_bins, labels=False,right=True)\n",
        "df.loc[df.Transaction9>0,'Transaction9_Bin'].hist(bins=20)"
      ],
      "execution_count": null,
      "outputs": [
        {
          "output_type": "execute_result",
          "data": {
            "text/plain": [
              "<matplotlib.axes._subplots.AxesSubplot at 0x7fe28a11e0b8>"
            ]
          },
          "metadata": {
            "tags": []
          },
          "execution_count": 49
        },
        {
          "output_type": "display_data",
          "data": {
            "image/png": "[encoded data removed]",
            "text/plain": [
              "<Figure size 432x288 with 1 Axes>"
            ]
          },
          "metadata": {
            "tags": [],
            "needs_background": "light"
          }
        }
      ]
    },
    {
      "cell_type": "code",
      "metadata": {
        "colab": {
          "base_uri": "https://localhost:8080/",
          "height": 283
        },
        "id": "XWH7zncvlmVW",
        "outputId": "721906f7-4139-4c87-eee8-2ff1c10d4dfa"
      },
      "source": [
        "df['Transaction_Max_Bin'] = pd.cut(df['Transaction_Max'], bins=cut_bins, labels=False,right=True)\n",
        "df.loc[:,'Transaction_Max_Bin'].hist(bins=20)"
      ],
      "execution_count": null,
      "outputs": [
        {
          "output_type": "execute_result",
          "data": {
            "text/plain": [
              "<matplotlib.axes._subplots.AxesSubplot at 0x7fe28a3d9cc0>"
            ]
          },
          "metadata": {
            "tags": []
          },
          "execution_count": 50
        },
        {
          "output_type": "display_data",
          "data": {
            "image/png": "[encoded data removed]",
            "text/plain": [
              "<Figure size 432x288 with 1 Axes>"
            ]
          },
          "metadata": {
            "tags": [],
            "needs_background": "light"
          }
        }
      ]
    },
    {
      "cell_type": "code",
      "metadata": {
        "colab": {
          "base_uri": "https://localhost:8080/",
          "height": 283
        },
        "id": "d8ZQdJUol7i3",
        "outputId": "9df48485-df82-4cb9-9e85-97c360798ddc"
      },
      "source": [
        "df['Transaction_Min_Bin'] = pd.cut(df['Transaction_Min'], bins=10, labels=False,right=True)\n",
        "df.loc[df.Transaction_Min>50,'Transaction_Min_Bin'].hist(bins=20)"
      ],
      "execution_count": null,
      "outputs": [
        {
          "output_type": "execute_result",
          "data": {
            "text/plain": [
              "<matplotlib.axes._subplots.AxesSubplot at 0x7fe289fa8f28>"
            ]
          },
          "metadata": {
            "tags": []
          },
          "execution_count": 51
        },
        {
          "output_type": "display_data",
          "data": {
            "image/png": "[encoded data removed]",
            "text/plain": [
              "<Figure size 432x288 with 1 Axes>"
            ]
          },
          "metadata": {
            "tags": [],
            "needs_background": "light"
          }
        }
      ]
    },
    {
      "cell_type": "code",
      "metadata": {
        "colab": {
          "base_uri": "https://localhost:8080/",
          "height": 283
        },
        "id": "vZd842WImZ6U",
        "outputId": "931f27ef-ccf3-43bf-96fa-2a8685f97a5f"
      },
      "source": [
        "df['Transaction_Mean_Bin'] = pd.cut(df['Transaction_Mean'], bins=cut_bins, labels=False,right=True)\n",
        "df.loc[:,'Transaction_Mean_Bin'].hist(bins=20)"
      ],
      "execution_count": null,
      "outputs": [
        {
          "output_type": "execute_result",
          "data": {
            "text/plain": [
              "<matplotlib.axes._subplots.AxesSubplot at 0x7fe28a06fe10>"
            ]
          },
          "metadata": {
            "tags": []
          },
          "execution_count": 52
        },
        {
          "output_type": "display_data",
          "data": {
            "image/png": "[encoded data removed]",
            "text/plain": [
              "<Figure size 432x288 with 1 Axes>"
            ]
          },
          "metadata": {
            "tags": [],
            "needs_background": "light"
          }
        }
      ]
    },
    {
      "cell_type": "code",
      "metadata": {
        "colab": {
          "base_uri": "https://localhost:8080/",
          "height": 283
        },
        "id": "WXEzUbHUmkuj",
        "outputId": "95f571f7-dce7-4c38-90e0-f6e4a47b5d19"
      },
      "source": [
        "df['Transaction_Median_Bin'] = pd.cut(df['Transaction_Median'], bins=cut_bins, labels=False,right=True)\n",
        "df.loc[:,'Transaction_Median_Bin'].hist(bins=20)"
      ],
      "execution_count": null,
      "outputs": [
        {
          "output_type": "execute_result",
          "data": {
            "text/plain": [
              "<matplotlib.axes._subplots.AxesSubplot at 0x7fe289fa8208>"
            ]
          },
          "metadata": {
            "tags": []
          },
          "execution_count": 53
        },
        {
          "output_type": "display_data",
          "data": {
            "image/png": "[encoded data removed]",
            "text/plain": [
              "<Figure size 432x288 with 1 Axes>"
            ]
          },
          "metadata": {
            "tags": [],
            "needs_background": "light"
          }
        }
      ]
    },
    {
      "cell_type": "code",
      "metadata": {
        "colab": {
          "base_uri": "https://localhost:8080/",
          "height": 283
        },
        "id": "Wjg5LuX8mqPb",
        "outputId": "b348d35e-0965-482d-f106-c1be806ae543"
      },
      "source": [
        "df['Transaction_Std_Bin'] = pd.cut(df['Transaction_Std'], bins=cut_bins, labels=False,right=True)\n",
        "df.loc[:,'Transaction_Std_Bin'].hist(bins=20)"
      ],
      "execution_count": null,
      "outputs": [
        {
          "output_type": "execute_result",
          "data": {
            "text/plain": [
              "<matplotlib.axes._subplots.AxesSubplot at 0x7fe28a1d3f28>"
            ]
          },
          "metadata": {
            "tags": []
          },
          "execution_count": 54
        },
        {
          "output_type": "display_data",
          "data": {
            "image/png": "[encoded data removed]",
            "text/plain": [
              "<Figure size 432x288 with 1 Axes>"
            ]
          },
          "metadata": {
            "tags": [],
            "needs_background": "light"
          }
        }
      ]
    },
    {
      "cell_type": "code",
      "metadata": {
        "colab": {
          "base_uri": "https://localhost:8080/",
          "height": 283
        },
        "id": "ejG94RdZmzJn",
        "outputId": "0e777ad0-567f-4db6-d50f-0edc33681029"
      },
      "source": [
        "df['Transaction_Sum_Bin'] = pd.cut(df['Transaction_Sum'], bins=cut_bins, labels=False,right=True)\n",
        "df.loc[:,'Transaction_Sum_Bin'].hist(bins=20)"
      ],
      "execution_count": null,
      "outputs": [
        {
          "output_type": "execute_result",
          "data": {
            "text/plain": [
              "<matplotlib.axes._subplots.AxesSubplot at 0x7fe289d96860>"
            ]
          },
          "metadata": {
            "tags": []
          },
          "execution_count": 55
        },
        {
          "output_type": "display_data",
          "data": {
            "image/png": "[encoded data removed]",
            "text/plain": [
              "<Figure size 432x288 with 1 Axes>"
            ]
          },
          "metadata": {
            "tags": [],
            "needs_background": "light"
          }
        }
      ]
    },
    {
      "cell_type": "code",
      "metadata": {
        "colab": {
          "base_uri": "https://localhost:8080/",
          "height": 285
        },
        "id": "DhuZr8DClOjw",
        "outputId": "73df2592-4159-4358-b19e-84a02e717170"
      },
      "source": [
        "\n",
        "df.loc[df.ActivityIndicator>50,'ActivityIndicator'].hist(bins=20)"
      ],
      "execution_count": null,
      "outputs": [
        {
          "output_type": "execute_result",
          "data": {
            "text/plain": [
              "<matplotlib.axes._subplots.AxesSubplot at 0x7fe289d66da0>"
            ]
          },
          "metadata": {
            "tags": []
          },
          "execution_count": 56
        },
        {
          "output_type": "display_data",
          "data": {
            "image/png": "[encoded data removed]",
            "text/plain": [
              "<Figure size 432x288 with 1 Axes>"
            ]
          },
          "metadata": {
            "tags": [],
            "needs_background": "light"
          }
        }
      ]
    },
    {
      "cell_type": "code",
      "metadata": {
        "colab": {
          "base_uri": "https://localhost:8080/",
          "height": 283
        },
        "id": "8GDjAsINkMi6",
        "outputId": "4b830631-0751-4200-c6b9-042f9708c400"
      },
      "source": [
        "cut_bins = [-np.inf,0, 5, 10, 25, 50,75,100, 200,300,400,500,750,1000,np.inf]\n",
        "df['ActivityIndicator_Bin'] = pd.cut(df['ActivityIndicator'], bins=cut_bins, labels=False,right=True)\n",
        "df.loc[:,'ActivityIndicator_Bin'].hist(bins=20)\n"
      ],
      "execution_count": null,
      "outputs": [
        {
          "output_type": "execute_result",
          "data": {
            "text/plain": [
              "<matplotlib.axes._subplots.AxesSubplot at 0x7fe28a81de80>"
            ]
          },
          "metadata": {
            "tags": []
          },
          "execution_count": 57
        },
        {
          "output_type": "display_data",
          "data": {
            "image/png": "[encoded data removed]",
            "text/plain": [
              "<Figure size 432x288 with 1 Axes>"
            ]
          },
          "metadata": {
            "tags": [],
            "needs_background": "light"
          }
        }
      ]
    },
    {
      "cell_type": "code",
      "metadata": {
        "id": "HX-Xezy-I1EV"
      },
      "source": [
        "# g = sns.PairGrid(df_train)\n",
        "# g.map_upper(sns.histplot)\n",
        "# g.map_lower(sns.kdeplot, fill=True)\n",
        "# g.map_diag(sns.histplot, kde=True)"
      ],
      "execution_count": null,
      "outputs": []
    },
    {
      "cell_type": "markdown",
      "metadata": {
        "id": "AwVAnZGZ_MNt"
      },
      "source": [
        "Through testing, we were able to narrow down the number of important features to the list below"
      ]
    },
    {
      "cell_type": "code",
      "metadata": {
        "id": "iFVv0Pda_F_W"
      },
      "source": [
        "# Defining the features we found the best\n",
        "feature_cols=['Balance_Bin',\t'ActivityIndicator_Bin',\t'Transaction4_Bin',\t'Transaction_Max_Bin',\t'Transaction_Median_Bin',\t'Transaction_Mean_Bin',\t'Transaction_Sum_Bin',\t'Transaction_Std_Bin',\t'Transaction6_Bin',\t'RegularInteractionIndicator',\t'Transaction5_Bin',\t'ExternalAccount_Sum',\t'Transaction_Count',\t'Product_Sum']"
      ],
      "execution_count": null,
      "outputs": []
    },
    {
      "cell_type": "code",
      "metadata": {
        "id": "NrtxCKSztsfX",
        "colab": {
          "base_uri": "https://localhost:8080/"
        },
        "outputId": "6dd5a61e-8664-4224-9002-7d94fc8f2df6"
      },
      "source": [
        "# Splitting the DataFrame into X and Y.\n",
        "df.reset_index(drop=True, inplace=True)\n",
        "df_x=df[feature_cols]\n",
        "df_y=df['Target']\n",
        "\n",
        "\n",
        "df_x.shape"
      ],
      "execution_count": null,
      "outputs": [
        {
          "output_type": "execute_result",
          "data": {
            "text/plain": [
              "(63999, 14)"
            ]
          },
          "metadata": {
            "tags": []
          },
          "execution_count": 63
        }
      ]
    },
    {
      "cell_type": "markdown",
      "metadata": {
        "id": "33pIWpMxAGPv"
      },
      "source": [
        "Since we need to train several models and test the accuarcy, precision etc, we are going to have to reduce the datasize to allow the models to be trained before the Colab connection times out.\n",
        "\n",
        "We found that if we dont reduce the training dataset size we were timing out during testing below.\n",
        "\n",
        "To ensure that the dataset is properly distributed, we are taking a stratified subset of the data using the StratifiedShuffleSplit function in SkLearn"
      ]
    },
    {
      "cell_type": "code",
      "metadata": {
        "id": "xolzWNwb2Ep8",
        "colab": {
          "base_uri": "https://localhost:8080/"
        },
        "outputId": "825b0885-fb7d-4566-8c07-29e2fd8df771"
      },
      "source": [
        "# Creating a stratified test sample that we will be using for testing several models at once.\n",
        "sss = StratifiedShuffleSplit(n_splits=1, test_size=0.1, random_state=random_seed)\n",
        "\n",
        "for train_index, test_index in sss.split(df_x, df_y):\n",
        "  df_x, df_y = df_x.iloc[test_index,:], df_y.iloc[test_index]\n",
        "\n",
        "df_x.reset_index(drop=True, inplace=True)\n",
        "df_y.reset_index(drop=True, inplace=True)\n",
        "df_x.shape"
      ],
      "execution_count": null,
      "outputs": [
        {
          "output_type": "execute_result",
          "data": {
            "text/plain": [
              "(6400, 14)"
            ]
          },
          "metadata": {
            "tags": []
          },
          "execution_count": 64
        }
      ]
    },
    {
      "cell_type": "code",
      "metadata": {
        "id": "YNBSXelCtaQW",
        "colab": {
          "base_uri": "https://localhost:8080/",
          "height": 381
        },
        "outputId": "1356d5d3-becf-4c49-fc58-0570c4e1eb67"
      },
      "source": [
        "# Shuffle the sample and split data into 7:3 between traning and testing.\n",
        "x_train, x_test,y_train,y_test=train_test_split(df_x,df_y,test_size=0.3,random_state=random_seed)\n",
        "\n",
        "train_list=x_train.index\n",
        "test_list=x_test.index\n",
        "\n",
        "scaler = StandardScaler()\n",
        "x_train_std=scaler.fit_transform(x_train)\n",
        "x_test_std=scaler.transform(x_test)\n",
        "\n",
        "\n",
        "\n",
        "df_train=x_train.merge(pd.DataFrame(data=y_train), left_index=True, right_index=True)\n",
        "df_train"
      ],
      "execution_count": null,
      "outputs": [
        {
          "output_type": "execute_result",
          "data": {
            "text/html": [
              "<div>\n",
              "<style scoped>\n",
              "    .dataframe tbody tr th:only-of-type {\n",
              "        vertical-align: middle;\n",
              "    }\n",
              "\n",
              "    .dataframe tbody tr th {\n",
              "        vertical-align: top;\n",
              "    }\n",
              "\n",
              "    .dataframe thead th {\n",
              "        text-align: right;\n",
              "    }\n",
              "</style>\n",
              "<table border=\"1\" class=\"dataframe\">\n",
              "  <thead>\n",
              "    <tr style=\"text-align: right;\">\n",
              "      <th></th>\n",
              "      <th>Balance_Bin</th>\n",
              "      <th>ActivityIndicator_Bin</th>\n",
              "      <th>Transaction4_Bin</th>\n",
              "      <th>Transaction_Max_Bin</th>\n",
              "      <th>Transaction_Median_Bin</th>\n",
              "      <th>Transaction_Mean_Bin</th>\n",
              "      <th>Transaction_Sum_Bin</th>\n",
              "      <th>Transaction_Std_Bin</th>\n",
              "      <th>Transaction6_Bin</th>\n",
              "      <th>RegularInteractionIndicator</th>\n",
              "      <th>Transaction5_Bin</th>\n",
              "      <th>ExternalAccount_Sum</th>\n",
              "      <th>Transaction_Count</th>\n",
              "      <th>Product_Sum</th>\n",
              "      <th>Target</th>\n",
              "    </tr>\n",
              "  </thead>\n",
              "  <tbody>\n",
              "    <tr>\n",
              "      <th>6061</th>\n",
              "      <td>14</td>\n",
              "      <td>0</td>\n",
              "      <td>13</td>\n",
              "      <td>13</td>\n",
              "      <td>13</td>\n",
              "      <td>9</td>\n",
              "      <td>13</td>\n",
              "      <td>0</td>\n",
              "      <td>0</td>\n",
              "      <td>0</td>\n",
              "      <td>0</td>\n",
              "      <td>1</td>\n",
              "      <td>1</td>\n",
              "      <td>1</td>\n",
              "      <td>1</td>\n",
              "    </tr>\n",
              "    <tr>\n",
              "      <th>2885</th>\n",
              "      <td>0</td>\n",
              "      <td>2</td>\n",
              "      <td>7</td>\n",
              "      <td>13</td>\n",
              "      <td>9</td>\n",
              "      <td>9</td>\n",
              "      <td>14</td>\n",
              "      <td>12</td>\n",
              "      <td>13</td>\n",
              "      <td>0</td>\n",
              "      <td>10</td>\n",
              "      <td>1</td>\n",
              "      <td>4</td>\n",
              "      <td>2</td>\n",
              "      <td>1</td>\n",
              "    </tr>\n",
              "    <tr>\n",
              "      <th>2492</th>\n",
              "      <td>3</td>\n",
              "      <td>0</td>\n",
              "      <td>13</td>\n",
              "      <td>13</td>\n",
              "      <td>13</td>\n",
              "      <td>9</td>\n",
              "      <td>14</td>\n",
              "      <td>13</td>\n",
              "      <td>0</td>\n",
              "      <td>1</td>\n",
              "      <td>8</td>\n",
              "      <td>1</td>\n",
              "      <td>2</td>\n",
              "      <td>0</td>\n",
              "      <td>1</td>\n",
              "    </tr>\n",
              "    <tr>\n",
              "      <th>33</th>\n",
              "      <td>2</td>\n",
              "      <td>0</td>\n",
              "      <td>0</td>\n",
              "      <td>0</td>\n",
              "      <td>0</td>\n",
              "      <td>0</td>\n",
              "      <td>0</td>\n",
              "      <td>0</td>\n",
              "      <td>0</td>\n",
              "      <td>0</td>\n",
              "      <td>0</td>\n",
              "      <td>1</td>\n",
              "      <td>0</td>\n",
              "      <td>0</td>\n",
              "      <td>0</td>\n",
              "    </tr>\n",
              "    <tr>\n",
              "      <th>...</th>\n",
              "      <td>...</td>\n",
              "      <td>...</td>\n",
              "      <td>...</td>\n",
              "      <td>...</td>\n",
              "      <td>...</td>\n",
              "      <td>...</td>\n",
              "      <td>...</td>\n",
              "      <td>...</td>\n",
              "      <td>...</td>\n",
              "      <td>...</td>\n",
              "      <td>...</td>\n",
              "      <td>...</td>\n",
              "      <td>...</td>\n",
              "      <td>...</td>\n",
              "      <td>...</td>\n",
              "    </tr>\n",
              "    <tr>\n",
              "      <th>4060</th>\n",
              "      <td>1</td>\n",
              "      <td>2</td>\n",
              "      <td>12</td>\n",
              "      <td>12</td>\n",
              "      <td>12</td>\n",
              "      <td>7</td>\n",
              "      <td>12</td>\n",
              "      <td>0</td>\n",
              "      <td>0</td>\n",
              "      <td>0</td>\n",
              "      <td>0</td>\n",
              "      <td>1</td>\n",
              "      <td>1</td>\n",
              "      <td>1</td>\n",
              "      <td>0</td>\n",
              "    </tr>\n",
              "    <tr>\n",
              "      <th>1346</th>\n",
              "      <td>15</td>\n",
              "      <td>0</td>\n",
              "      <td>0</td>\n",
              "      <td>0</td>\n",
              "      <td>0</td>\n",
              "      <td>0</td>\n",
              "      <td>0</td>\n",
              "      <td>0</td>\n",
              "      <td>0</td>\n",
              "      <td>0</td>\n",
              "      <td>0</td>\n",
              "      <td>2</td>\n",
              "      <td>0</td>\n",
              "      <td>0</td>\n",
              "      <td>0</td>\n",
              "    </tr>\n",
              "    <tr>\n",
              "      <th>3454</th>\n",
              "      <td>4</td>\n",
              "      <td>1</td>\n",
              "      <td>0</td>\n",
              "      <td>9</td>\n",
              "      <td>9</td>\n",
              "      <td>4</td>\n",
              "      <td>9</td>\n",
              "      <td>0</td>\n",
              "      <td>9</td>\n",
              "      <td>0</td>\n",
              "      <td>0</td>\n",
              "      <td>1</td>\n",
              "      <td>1</td>\n",
              "      <td>0</td>\n",
              "      <td>1</td>\n",
              "    </tr>\n",
              "    <tr>\n",
              "      <th>3582</th>\n",
              "      <td>0</td>\n",
              "      <td>0</td>\n",
              "      <td>0</td>\n",
              "      <td>0</td>\n",
              "      <td>0</td>\n",
              "      <td>0</td>\n",
              "      <td>0</td>\n",
              "      <td>0</td>\n",
              "      <td>0</td>\n",
              "      <td>0</td>\n",
              "      <td>0</td>\n",
              "      <td>1</td>\n",
              "      <td>0</td>\n",
              "      <td>0</td>\n",
              "      <td>0</td>\n",
              "    </tr>\n",
              "  </tbody>\n",
              "</table>\n",
              "<p>4480 rows × 15 columns</p>\n",
              "</div>"
            ],
            "text/plain": [
              "      Balance_Bin  ActivityIndicator_Bin  ...  Product_Sum  Target\n",
              "6061           14                      0  ...            1       1\n",
              "2885            0                      2  ...            2       1\n",
              "2492            3                      0  ...            0       1\n",
              "33              2                      0  ...            0       0\n",
              "...           ...                    ...  ...          ...     ...\n",
              "4060            1                      2  ...            1       0\n",
              "1346           15                      0  ...            0       0\n",
              "3454            4                      1  ...            0       1\n",
              "3582            0                      0  ...            0       0\n",
              "\n",
              "[4480 rows x 15 columns]"
            ]
          },
          "metadata": {
            "tags": []
          },
          "execution_count": 65
        }
      ]
    },
    {
      "cell_type": "markdown",
      "metadata": {
        "id": "RZBJ2gxqSl6_"
      },
      "source": [
        "# 3. Model Training and Selection"
      ]
    },
    {
      "cell_type": "markdown",
      "metadata": {
        "id": "RiTtQTkPwz_r"
      },
      "source": [
        "## Train and Test Preparation"
      ]
    },
    {
      "cell_type": "code",
      "metadata": {
        "id": "-wKmkrw2H7k_"
      },
      "source": [
        "# We tested 95% PCA. The performance is similar. Uncomment the lines to include PCA.\n",
        "# pca = PCA(.95)\n",
        "# x_train=pca.fit_transform(x_train)\n",
        "# x_test=pca.transform(x_test)\n",
        "# plt.plot(np.cumsum(pca.explained_variance_ratio_))\n",
        "# plt.xlabel('number of components')\n",
        "# plt.ylabel('cumulative explained variance');\n",
        "# pca_std = PCA(.95)\n",
        "# x_train_std=pca_std.fit_transform(x_train_std)\n",
        "# x_test_std=pca_std.transform(x_test_std)\n",
        "# plt.plot(np.cumsum(pca_std.explained_variance_ratio_))\n",
        "# plt.xlabel('number of components')\n",
        "# plt.ylabel('cumulative explained variance');"
      ],
      "execution_count": null,
      "outputs": []
    },
    {
      "cell_type": "code",
      "metadata": {
        "id": "kvFwrFQ5tWB9"
      },
      "source": [
        "# Generate list of algorithms\n",
        "classifiers = {\n",
        "    \"DT\": tree.DecisionTreeClassifier()\n",
        "    ,\"KNN\": KNeighborsClassifier()\n",
        "    ,\"SVC\": svm.SVC()\n",
        "    ,\"ADA\": AdaBoostClassifier()\n",
        "    ,\"XGB\": GradientBoostingClassifier()\n",
        "    ,\"LR\": LogisticRegression()\n",
        "    ,\"RFC\": RandomForestClassifier()\n",
        "    ,\"NN\":keras.wrappers.scikit_learn.KerasClassifier(build_model) #Calling the DNN model here\n",
        "}\n",
        "\n",
        "# Define search space for LinearRegression\n",
        "search_space_lr = {\n",
        "    'penalty': ['l2'],\n",
        "    'C':scipy.stats.expon(scale=100),\n",
        "    'max_iter': [2000],\n",
        "    'solver':['newton-cg', 'lbfgs', 'liblinear', 'sag', 'saga'],\n",
        "    'random_state':[random_seed]\n",
        "}\n",
        "\n",
        "\n",
        "# Define search space for KNN\n",
        "search_space_knn = {\n",
        "    'weights':['uniform','distance'],\n",
        "    'algorithm':['auto'],\n",
        "    'n_neighbors':randint(2,20),\n",
        "     'p':[1,2]\n",
        "}\n",
        "\n",
        "# Define search space for SVM\n",
        "search_space_svc = {\n",
        "    'C':scipy.stats.expon(scale=100),\n",
        "    'kernel':['linear', 'poly', 'rbf', 'sigmoid'],\n",
        "    'degree':randint(1,10),\n",
        "    'gamma':['auto'],\n",
        "    'probability':[True],\n",
        "    'random_state':[random_seed]\n",
        "}\n",
        "\n",
        "# Define search space for AdaBoostClassifier\n",
        "search_space_ada = {\n",
        "    'learning_rate':sp_randFloat(),\n",
        "    'n_estimators': randint(5,2000),\n",
        "    'algorithm': ['SAMME','SAMME.R'],\n",
        "    'random_state':[random_seed]\n",
        "}\n",
        "\n",
        "# Define search space for GradientBoostingClassifier\n",
        "search_space_xgb = {\n",
        "    'loss':['deviance', 'exponential'],\n",
        "    'learning_rate':sp_randFloat(),\n",
        "    'n_estimators': randint(5,2000),\n",
        "    'max_features': ['auto'],\n",
        "    'random_state':[random_seed]\n",
        "}\n",
        "\n",
        "\n",
        "# Define search space for DecisionTreeClassifier\n",
        "search_space_dt = {\n",
        "    'max_depth': randint(1, 200),\n",
        "    'criterion':['gini','entropy'],\n",
        "    'splitter':['best','random'],\n",
        "      'min_weight_fraction_leaf':[0.01,0.03,0.05,0.08,0.1],\n",
        "    'random_state':[random_seed]\n",
        "}\n",
        "\n",
        "# Define search space for RandomForestClassifier\n",
        "search_space_rfc = {\n",
        "    'n_estimators': randint(5,2000),\n",
        "    'max_depth': randint(1, 200),\n",
        "    'criterion':['gini','entropy'],\n",
        "    'random_state':[random_seed]\n",
        "}\n",
        "\n",
        "search_space_nn = {\n",
        "    \"n_hidden\": randint(0, 5),\n",
        "    \"n_neurons\": randint(1, df.shape[1]+5)\n",
        "}\n",
        "\n",
        "# Stack up search spaces\n",
        "search_space_all=[search_space_dt\n",
        "                  ,search_space_knn\n",
        "                  ,search_space_svc\n",
        "                  ,search_space_ada\n",
        "                  ,search_space_xgb\n",
        "                  ,search_space_lr\n",
        "                  ,search_space_rfc\n",
        "                  ,search_space_nn\n",
        "                 ]\n",
        "\n",
        "\n",
        "# Define dictionary of search space positions\n",
        "search_space_pos={'DT': 0\n",
        "                ,'KNN': 1\n",
        "                ,'SVC': 2\n",
        "                ,'ADA': 3\n",
        "                ,'XGB': 4\n",
        "                ,'LR':  5\n",
        "                ,'RFC': 6\n",
        "                ,'NN':  7\n",
        "                 }"
      ],
      "execution_count": null,
      "outputs": []
    },
    {
      "cell_type": "markdown",
      "metadata": {
        "id": "d9v-X4A2FXzp"
      },
      "source": [
        "## Model Training and Testing"
      ]
    },
    {
      "cell_type": "code",
      "metadata": {
        "id": "wFJpMZKCGrLF",
        "colab": {
          "base_uri": "https://localhost:8080/",
          "height": 1000
        },
        "outputId": "27cc540d-8fe6-41c5-a913-f563f9626192"
      },
      "source": [
        "# Create blank dataframes for result matrics\n",
        "# Then fitting all of the models called above\n",
        "tuningOutcome_All=pd.DataFrame()\n",
        "probaOutlier_All=pd.DataFrame()\n",
        "result_All=pd.DataFrame()\n",
        "classifierTuned={}\n",
        "\n",
        "for key, classifier in classifiers.items():\n",
        "    search_space =search_space_all[search_space_pos[key]]\n",
        "    if 'trained_DT' in locals():\n",
        "      classifiers['ADA']=AdaBoostClassifier(trained_DT)\n",
        "      classifiers['XGB']=GradientBoostingClassifier(trained_DT)\n",
        "    rand_search = RandomizedSearchCV(estimator=classifier, scoring=\"accuracy\",param_distributions=search_space,return_train_score=True)\n",
        "\n",
        "\n",
        "    rand_search.fit(x_train_std,y_train)\n",
        "\n",
        "    tuningOutcome = pd.DataFrame(rand_search.cv_results_).sort_values(by='mean_test_score', ascending=False)\n",
        "    tuningOutcome['Algorithm']=key\n",
        "    tuningOutcome_All=pd.concat([tuningOutcome,tuningOutcome_All])\n",
        "\n",
        "    # Re-run classifier with best parameters\n",
        "    classifierTuned[key]= rand_search.best_estimator_\n",
        "    if key == \"DT\":\n",
        "      trained_DT=classifierTuned[key]\n",
        "\n",
        "\n",
        "    classifierTuned[key].fit(x_train_std,y_train)\n",
        "\n",
        "    # Predict class probabilities\n",
        "    probaOutlier = classifierTuned[key].predict_proba(x_test_std)\n",
        "\n",
        "    #Predict y with test set\n",
        "    y_pred= classifierTuned[key].predict(x_test_std)\n",
        "\n",
        "    # # Keep only the positive class\n",
        "    # probaOutlier = [p[1] for p in probaOutlier]\n",
        "    # # Append to main probability table\n",
        "    # probaOutlier_All[key + \"_Proba\"]=probaOutlier\n",
        "\n",
        "    # Tabulate result matrix\n",
        "    result=pandas_classification_report(y_test, y_pred)\n",
        "    # # Log AUROC score\n",
        "    # result['AUROC']=roc_auc_score(y_test, probaOutlier)\n",
        "    # Add model name\n",
        "    result['Algorithm']=key\n",
        "    # Append to main Result table\n",
        "    result_All=pd.concat([result,result_All])\n",
        "\n",
        "\n",
        "    #Defining the confusion matrix\n",
        "    cm = confusion_matrix(y_test,y_pred)\n",
        "\n",
        "    #Plotting the confusion matrix\n",
        "    plot_confusion_matrix(cm, xclasses=x_class_names,yclasses=y_class_names, title='Confusion matrix - ' + key,index=idx)\n",
        "    idx+=1\n",
        "\n"
      ],
      "execution_count": null,
      "outputs": [
        {
          "output_type": "stream",
          "text": [
            "112/112 [==============================] - 0s 1ms/step - loss: 0.6739 - accuracy: 0.5865\n",
            "WARNING:tensorflow:From /usr/local/lib/python3.6/dist-packages/tensorflow/python/keras/wrappers/scikit_learn.py:241: Sequential.predict_classes (from tensorflow.python.keras.engine.sequential) is deprecated and will be removed after 2021-01-01.\n",
            "Instructions for updating:\n",
            "Please use instead:* `np.argmax(model.predict(x), axis=-1)`,   if your model does multi-class classification   (e.g. if it uses a `softmax` last-layer activation).* `(model.predict(x) > 0.5).astype(\"int32\")`,   if your model does binary classification   (e.g. if it uses a `sigmoid` last-layer activation).\n",
            "112/112 [==============================] - 0s 1ms/step - loss: 0.6710 - accuracy: 0.6030\n",
            "112/112 [==============================] - 0s 1ms/step - loss: 0.6728 - accuracy: 0.5965\n",
            "112/112 [==============================] - 0s 1ms/step - loss: 0.6774 - accuracy: 0.5695\n",
            "112/112 [==============================] - 0s 1ms/step - loss: 0.6746 - accuracy: 0.5879\n",
            "112/112 [==============================] - 0s 1ms/step - loss: 0.6651 - accuracy: 0.6077\n",
            "112/112 [==============================] - 0s 1ms/step - loss: 0.6685 - accuracy: 0.5977\n",
            "112/112 [==============================] - 0s 1ms/step - loss: 0.6682 - accuracy: 0.5965\n",
            "112/112 [==============================] - 0s 1ms/step - loss: 0.6705 - accuracy: 0.5957\n",
            "112/112 [==============================] - 0s 1ms/step - loss: 0.6681 - accuracy: 0.6024\n",
            "112/112 [==============================] - 0s 1ms/step - loss: 0.6682 - accuracy: 0.5960\n",
            "112/112 [==============================] - 0s 1ms/step - loss: 0.6677 - accuracy: 0.6057\n",
            "112/112 [==============================] - 0s 1ms/step - loss: 0.6694 - accuracy: 0.5960\n",
            "112/112 [==============================] - 0s 1ms/step - loss: 0.6723 - accuracy: 0.5971\n",
            "112/112 [==============================] - 0s 1ms/step - loss: 0.6708 - accuracy: 0.5988\n",
            "112/112 [==============================] - 0s 1ms/step - loss: 0.6803 - accuracy: 0.5871\n",
            "112/112 [==============================] - 0s 1ms/step - loss: 0.6795 - accuracy: 0.5742\n",
            "112/112 [==============================] - 0s 1ms/step - loss: 0.6794 - accuracy: 0.5711\n",
            "112/112 [==============================] - 0s 1ms/step - loss: 0.6846 - accuracy: 0.5393\n",
            "112/112 [==============================] - 0s 1ms/step - loss: 0.6965 - accuracy: 0.5067\n",
            "112/112 [==============================] - 0s 1ms/step - loss: 0.6685 - accuracy: 0.5951\n",
            "112/112 [==============================] - 0s 1ms/step - loss: 0.6701 - accuracy: 0.6007\n",
            "112/112 [==============================] - 0s 1ms/step - loss: 0.6734 - accuracy: 0.5901\n",
            "112/112 [==============================] - 0s 1ms/step - loss: 0.6703 - accuracy: 0.5876\n",
            "112/112 [==============================] - 0s 1ms/step - loss: 0.6682 - accuracy: 0.6021\n",
            "112/112 [==============================] - 0s 1ms/step - loss: 0.6661 - accuracy: 0.6018\n",
            "112/112 [==============================] - 0s 1ms/step - loss: 0.6649 - accuracy: 0.6044\n",
            "112/112 [==============================] - 0s 1ms/step - loss: 0.6716 - accuracy: 0.5882\n",
            "112/112 [==============================] - 0s 1ms/step - loss: 0.6724 - accuracy: 0.5910\n",
            "112/112 [==============================] - 0s 1ms/step - loss: 0.6673 - accuracy: 0.6016\n",
            "112/112 [==============================] - 0s 996us/step - loss: 0.6856 - accuracy: 0.5926\n",
            "112/112 [==============================] - 0s 886us/step - loss: 0.6722 - accuracy: 0.5940\n",
            "112/112 [==============================] - 0s 911us/step - loss: 0.7205 - accuracy: 0.5357\n",
            "112/112 [==============================] - 0s 993us/step - loss: 0.6965 - accuracy: 0.5633\n",
            "112/112 [==============================] - 0s 930us/step - loss: 0.6838 - accuracy: 0.5879\n",
            "112/112 [==============================] - 0s 913us/step - loss: 0.6888 - accuracy: 0.5667\n",
            "112/112 [==============================] - 0s 1ms/step - loss: 0.6964 - accuracy: 0.5547\n",
            "112/112 [==============================] - 0s 974us/step - loss: 0.6985 - accuracy: 0.5547\n",
            "112/112 [==============================] - 0s 966us/step - loss: 0.7101 - accuracy: 0.5419\n",
            "112/112 [==============================] - 0s 876us/step - loss: 0.6888 - accuracy: 0.5787\n",
            "112/112 [==============================] - 0s 1ms/step - loss: 0.6733 - accuracy: 0.5943\n",
            "112/112 [==============================] - 0s 1ms/step - loss: 0.6744 - accuracy: 0.5879\n",
            "112/112 [==============================] - 0s 1ms/step - loss: 0.6724 - accuracy: 0.5890\n",
            "112/112 [==============================] - 0s 1ms/step - loss: 0.6834 - accuracy: 0.5572\n",
            "112/112 [==============================] - 0s 1ms/step - loss: 0.6793 - accuracy: 0.5692\n",
            "112/112 [==============================] - 0s 1ms/step - loss: 0.6781 - accuracy: 0.5645\n",
            "112/112 [==============================] - 0s 1ms/step - loss: 0.6724 - accuracy: 0.6002\n",
            "112/112 [==============================] - 0s 1ms/step - loss: 0.6822 - accuracy: 0.5664\n",
            "112/112 [==============================] - 0s 1ms/step - loss: 0.6812 - accuracy: 0.5700\n",
            "112/112 [==============================] - 0s 1ms/step - loss: 0.6815 - accuracy: 0.5739\n",
            "140/140 [==============================] - 0s 1ms/step - loss: 0.6683 - accuracy: 0.5955\n",
            "140/140 [==============================] - 0s 1ms/step - loss: 0.6682 - accuracy: 0.6036\n",
            "WARNING:tensorflow:From /usr/local/lib/python3.6/dist-packages/tensorflow/python/keras/wrappers/scikit_learn.py:264: Sequential.predict_proba (from tensorflow.python.keras.engine.sequential) is deprecated and will be removed after 2021-01-01.\n",
            "Instructions for updating:\n",
            "Please use `model.predict()` instead.\n"
          ],
          "name": "stdout"
        },
        {
          "output_type": "display_data",
          "data": {
            "image/png": "[encoded data removed]",
            "text/plain": [
              "<Figure size 432x288 with 2 Axes>"
            ]
          },
          "metadata": {
            "tags": [],
            "needs_background": "light"
          }
        },
        {
          "output_type": "display_data",
          "data": {
            "image/png": "[encoded data removed]",
            "text/plain": [
              "<Figure size 432x288 with 2 Axes>"
            ]
          },
          "metadata": {
            "tags": [],
            "needs_background": "light"
          }
        },
        {
          "output_type": "display_data",
          "data": {
            "image/png": "[encoded data removed]",
            "text/plain": [
              "<Figure size 432x288 with 2 Axes>"
            ]
          },
          "metadata": {
            "tags": [],
            "needs_background": "light"
          }
        },
        {
          "output_type": "display_data",
          "data": {
            "image/png": "[encoded data removed]",
            "text/plain": [
              "<Figure size 432x288 with 2 Axes>"
            ]
          },
          "metadata": {
            "tags": [],
            "needs_background": "light"
          }
        },
        {
          "output_type": "display_data",
          "data": {
            "image/png": "[encoded data removed]",
            "text/plain": [
              "<Figure size 432x288 with 2 Axes>"
            ]
          },
          "metadata": {
            "tags": [],
            "needs_background": "light"
          }
        },
        {
          "output_type": "display_data",
          "data": {
            "image/png": "[encoded data removed]",
            "text/plain": [
              "<Figure size 432x288 with 2 Axes>"
            ]
          },
          "metadata": {
            "tags": [],
            "needs_background": "light"
          }
        },
        {
          "output_type": "display_data",
          "data": {
            "image/png": "[encoded data removed]",
            "text/plain": [
              "<Figure size 432x288 with 2 Axes>"
            ]
          },
          "metadata": {
            "tags": [],
            "needs_background": "light"
          }
        },
        {
          "output_type": "display_data",
          "data": {
            "image/png": "[encoded data removed]",
            "text/plain": [
              "<Figure size 432x288 with 2 Axes>"
            ]
          },
          "metadata": {
            "tags": [],
            "needs_background": "light"
          }
        }
      ]
    },
    {
      "cell_type": "code",
      "metadata": {
        "id": "ndP0NzEsG9qO"
      },
      "source": [
        "# Defining the Voting Classifier. We tried both hard voting and soft voting. The Hard Voting gave us better results\n",
        "voting_clf = VotingClassifier(\n",
        "               estimators=[('LR', classifierTuned[\"LR\"]), ('RFC', classifierTuned['RFC']), ('SVC', classifierTuned['SVC'])\n",
        "               , ('ADA', classifierTuned['ADA']), ('XGB', classifierTuned['XGB'])]\n",
        "              ,voting='hard')\n",
        "voting_clf.fit(x_train_std,y_train)\n",
        "y_pred= voting_clf.predict(x_test_std)\n",
        "# Tabulate result matrix\n",
        "result=pandas_classification_report(y_test, y_pred)\n",
        "# # Log AUROC score\n",
        "# result['AUROC']=roc_auc_score(y_test, probaOutlier)\n",
        "# Add model name\n",
        "result['Algorithm']='Vote'\n",
        "# Append to main Result table\n",
        "result_All=pd.concat([result,result_All])"
      ],
      "execution_count": null,
      "outputs": []
    },
    {
      "cell_type": "code",
      "metadata": {
        "id": "ae7XxpIce8AR",
        "colab": {
          "base_uri": "https://localhost:8080/",
          "height": 896
        },
        "outputId": "38a2d568-f83f-4c61-c882-fced6f5437c1"
      },
      "source": [
        "pd.options.display.max_rows=50\n",
        "result_All"
      ],
      "execution_count": null,
      "outputs": [
        {
          "output_type": "execute_result",
          "data": {
            "text/html": [
              "<div>\n",
              "<style scoped>\n",
              "    .dataframe tbody tr th:only-of-type {\n",
              "        vertical-align: middle;\n",
              "    }\n",
              "\n",
              "    .dataframe tbody tr th {\n",
              "        vertical-align: top;\n",
              "    }\n",
              "\n",
              "    .dataframe thead th {\n",
              "        text-align: right;\n",
              "    }\n",
              "</style>\n",
              "<table border=\"1\" class=\"dataframe\">\n",
              "  <thead>\n",
              "    <tr style=\"text-align: right;\">\n",
              "      <th></th>\n",
              "      <th>precision</th>\n",
              "      <th>recall</th>\n",
              "      <th>f1-score</th>\n",
              "      <th>support</th>\n",
              "      <th>Algorithm</th>\n",
              "    </tr>\n",
              "  </thead>\n",
              "  <tbody>\n",
              "    <tr>\n",
              "      <th>0</th>\n",
              "      <td>0.646432</td>\n",
              "      <td>0.629668</td>\n",
              "      <td>0.637940</td>\n",
              "      <td>964.0</td>\n",
              "      <td>Vote</td>\n",
              "    </tr>\n",
              "    <tr>\n",
              "      <th>1</th>\n",
              "      <td>0.636086</td>\n",
              "      <td>0.652720</td>\n",
              "      <td>0.644295</td>\n",
              "      <td>956.0</td>\n",
              "      <td>Vote</td>\n",
              "    </tr>\n",
              "    <tr>\n",
              "      <th>avg / total</th>\n",
              "      <td>0.641281</td>\n",
              "      <td>0.641146</td>\n",
              "      <td>0.641104</td>\n",
              "      <td>1920.0</td>\n",
              "      <td>Vote</td>\n",
              "    </tr>\n",
              "    <tr>\n",
              "      <th>0</th>\n",
              "      <td>0.598268</td>\n",
              "      <td>0.716805</td>\n",
              "      <td>0.652194</td>\n",
              "      <td>964.0</td>\n",
              "      <td>NN</td>\n",
              "    </tr>\n",
              "    <tr>\n",
              "      <th>1</th>\n",
              "      <td>0.643137</td>\n",
              "      <td>0.514644</td>\n",
              "      <td>0.571761</td>\n",
              "      <td>956.0</td>\n",
              "      <td>NN</td>\n",
              "    </tr>\n",
              "    <tr>\n",
              "      <th>avg / total</th>\n",
              "      <td>0.620609</td>\n",
              "      <td>0.616146</td>\n",
              "      <td>0.612145</td>\n",
              "      <td>1920.0</td>\n",
              "      <td>NN</td>\n",
              "    </tr>\n",
              "    <tr>\n",
              "      <th>0</th>\n",
              "      <td>0.651238</td>\n",
              "      <td>0.627593</td>\n",
              "      <td>0.639197</td>\n",
              "      <td>964.0</td>\n",
              "      <td>RFC</td>\n",
              "    </tr>\n",
              "    <tr>\n",
              "      <th>1</th>\n",
              "      <td>0.637740</td>\n",
              "      <td>0.661088</td>\n",
              "      <td>0.649204</td>\n",
              "      <td>956.0</td>\n",
              "      <td>RFC</td>\n",
              "    </tr>\n",
              "    <tr>\n",
              "      <th>avg / total</th>\n",
              "      <td>0.644517</td>\n",
              "      <td>0.644271</td>\n",
              "      <td>0.644180</td>\n",
              "      <td>1920.0</td>\n",
              "      <td>RFC</td>\n",
              "    </tr>\n",
              "    <tr>\n",
              "      <th>0</th>\n",
              "      <td>0.637804</td>\n",
              "      <td>0.626556</td>\n",
              "      <td>0.632130</td>\n",
              "      <td>964.0</td>\n",
              "      <td>LR</td>\n",
              "    </tr>\n",
              "    <tr>\n",
              "      <th>1</th>\n",
              "      <td>0.630010</td>\n",
              "      <td>0.641213</td>\n",
              "      <td>0.635562</td>\n",
              "      <td>956.0</td>\n",
              "      <td>LR</td>\n",
              "    </tr>\n",
              "    <tr>\n",
              "      <th>avg / total</th>\n",
              "      <td>0.633923</td>\n",
              "      <td>0.633854</td>\n",
              "      <td>0.633839</td>\n",
              "      <td>1920.0</td>\n",
              "      <td>LR</td>\n",
              "    </tr>\n",
              "    <tr>\n",
              "      <th>0</th>\n",
              "      <td>0.615764</td>\n",
              "      <td>0.648340</td>\n",
              "      <td>0.631632</td>\n",
              "      <td>964.0</td>\n",
              "      <td>XGB</td>\n",
              "    </tr>\n",
              "    <tr>\n",
              "      <th>1</th>\n",
              "      <td>0.625414</td>\n",
              "      <td>0.592050</td>\n",
              "      <td>0.608275</td>\n",
              "      <td>956.0</td>\n",
              "      <td>XGB</td>\n",
              "    </tr>\n",
              "    <tr>\n",
              "      <th>avg / total</th>\n",
              "      <td>0.620569</td>\n",
              "      <td>0.620313</td>\n",
              "      <td>0.620002</td>\n",
              "      <td>1920.0</td>\n",
              "      <td>XGB</td>\n",
              "    </tr>\n",
              "    <tr>\n",
              "      <th>0</th>\n",
              "      <td>0.631857</td>\n",
              "      <td>0.621369</td>\n",
              "      <td>0.626569</td>\n",
              "      <td>964.0</td>\n",
              "      <td>ADA</td>\n",
              "    </tr>\n",
              "    <tr>\n",
              "      <th>1</th>\n",
              "      <td>0.624486</td>\n",
              "      <td>0.634937</td>\n",
              "      <td>0.629668</td>\n",
              "      <td>956.0</td>\n",
              "      <td>ADA</td>\n",
              "    </tr>\n",
              "    <tr>\n",
              "      <th>avg / total</th>\n",
              "      <td>0.628186</td>\n",
              "      <td>0.628125</td>\n",
              "      <td>0.628112</td>\n",
              "      <td>1920.0</td>\n",
              "      <td>ADA</td>\n",
              "    </tr>\n",
              "    <tr>\n",
              "      <th>0</th>\n",
              "      <td>0.635667</td>\n",
              "      <td>0.602697</td>\n",
              "      <td>0.618743</td>\n",
              "      <td>964.0</td>\n",
              "      <td>SVC</td>\n",
              "    </tr>\n",
              "    <tr>\n",
              "      <th>1</th>\n",
              "      <td>0.619284</td>\n",
              "      <td>0.651674</td>\n",
              "      <td>0.635066</td>\n",
              "      <td>956.0</td>\n",
              "      <td>SVC</td>\n",
              "    </tr>\n",
              "    <tr>\n",
              "      <th>avg / total</th>\n",
              "      <td>0.627510</td>\n",
              "      <td>0.627083</td>\n",
              "      <td>0.626871</td>\n",
              "      <td>1920.0</td>\n",
              "      <td>SVC</td>\n",
              "    </tr>\n",
              "    <tr>\n",
              "      <th>0</th>\n",
              "      <td>0.601719</td>\n",
              "      <td>0.653527</td>\n",
              "      <td>0.626554</td>\n",
              "      <td>964.0</td>\n",
              "      <td>KNN</td>\n",
              "    </tr>\n",
              "    <tr>\n",
              "      <th>1</th>\n",
              "      <td>0.617411</td>\n",
              "      <td>0.563808</td>\n",
              "      <td>0.589393</td>\n",
              "      <td>956.0</td>\n",
              "      <td>KNN</td>\n",
              "    </tr>\n",
              "    <tr>\n",
              "      <th>avg / total</th>\n",
              "      <td>0.609533</td>\n",
              "      <td>0.608854</td>\n",
              "      <td>0.608051</td>\n",
              "      <td>1920.0</td>\n",
              "      <td>KNN</td>\n",
              "    </tr>\n",
              "    <tr>\n",
              "      <th>0</th>\n",
              "      <td>0.616684</td>\n",
              "      <td>0.605809</td>\n",
              "      <td>0.611198</td>\n",
              "      <td>964.0</td>\n",
              "      <td>DT</td>\n",
              "    </tr>\n",
              "    <tr>\n",
              "      <th>1</th>\n",
              "      <td>0.609455</td>\n",
              "      <td>0.620293</td>\n",
              "      <td>0.614826</td>\n",
              "      <td>956.0</td>\n",
              "      <td>DT</td>\n",
              "    </tr>\n",
              "    <tr>\n",
              "      <th>avg / total</th>\n",
              "      <td>0.613085</td>\n",
              "      <td>0.613021</td>\n",
              "      <td>0.613005</td>\n",
              "      <td>1920.0</td>\n",
              "      <td>DT</td>\n",
              "    </tr>\n",
              "  </tbody>\n",
              "</table>\n",
              "</div>"
            ],
            "text/plain": [
              "             precision    recall  f1-score  support Algorithm\n",
              "0             0.646432  0.629668  0.637940    964.0      Vote\n",
              "1             0.636086  0.652720  0.644295    956.0      Vote\n",
              "avg / total   0.641281  0.641146  0.641104   1920.0      Vote\n",
              "0             0.598268  0.716805  0.652194    964.0        NN\n",
              "1             0.643137  0.514644  0.571761    956.0        NN\n",
              "avg / total   0.620609  0.616146  0.612145   1920.0        NN\n",
              "0             0.651238  0.627593  0.639197    964.0       RFC\n",
              "1             0.637740  0.661088  0.649204    956.0       RFC\n",
              "avg / total   0.644517  0.644271  0.644180   1920.0       RFC\n",
              "0             0.637804  0.626556  0.632130    964.0        LR\n",
              "1             0.630010  0.641213  0.635562    956.0        LR\n",
              "avg / total   0.633923  0.633854  0.633839   1920.0        LR\n",
              "0             0.615764  0.648340  0.631632    964.0       XGB\n",
              "1             0.625414  0.592050  0.608275    956.0       XGB\n",
              "avg / total   0.620569  0.620313  0.620002   1920.0       XGB\n",
              "0             0.631857  0.621369  0.626569    964.0       ADA\n",
              "1             0.624486  0.634937  0.629668    956.0       ADA\n",
              "avg / total   0.628186  0.628125  0.628112   1920.0       ADA\n",
              "0             0.635667  0.602697  0.618743    964.0       SVC\n",
              "1             0.619284  0.651674  0.635066    956.0       SVC\n",
              "avg / total   0.627510  0.627083  0.626871   1920.0       SVC\n",
              "0             0.601719  0.653527  0.626554    964.0       KNN\n",
              "1             0.617411  0.563808  0.589393    956.0       KNN\n",
              "avg / total   0.609533  0.608854  0.608051   1920.0       KNN\n",
              "0             0.616684  0.605809  0.611198    964.0        DT\n",
              "1             0.609455  0.620293  0.614826    956.0        DT\n",
              "avg / total   0.613085  0.613021  0.613005   1920.0        DT"
            ]
          },
          "metadata": {
            "tags": []
          },
          "execution_count": 69
        }
      ]
    },
    {
      "cell_type": "markdown",
      "metadata": {
        "id": "yePcrqqtk9pV"
      },
      "source": [
        "Findings:\n",
        "  1.   With the training set: XGB is the best model\n",
        "  2.   With the test set: LR is the better"
      ]
    },
    {
      "cell_type": "code",
      "metadata": {
        "id": "k9vPdCZfeG9d",
        "colab": {
          "base_uri": "https://localhost:8080/",
          "height": 592
        },
        "outputId": "b0535c01-adb4-4977-e6fc-3d4cfa62efa2"
      },
      "source": [
        "# print feature importance table and graph from Logistic Regression\n",
        "viz_importance_LR(np.reshape(classifierTuned[\"LR\"].coef_, (classifierTuned[\"LR\"].coef_.shape[1], )),df_x.columns)"
      ],
      "execution_count": null,
      "outputs": [
        {
          "output_type": "display_data",
          "data": {
            "text/html": [
              "<table border=\"1\" class=\"dataframe\">\n",
              "  <thead>\n",
              "    <tr style=\"text-align: right;\">\n",
              "      <th>Transaction_Sum_Bin</th>\n",
              "      <th>Transaction_Mean_Bin</th>\n",
              "      <th>Transaction_Max_Bin</th>\n",
              "      <th>ActivityIndicator_Bin</th>\n",
              "      <th>Balance_Bin</th>\n",
              "      <th>Transaction6_Bin</th>\n",
              "      <th>Transaction_Median_Bin</th>\n",
              "      <th>Transaction5_Bin</th>\n",
              "      <th>Transaction_Count</th>\n",
              "      <th>Transaction4_Bin</th>\n",
              "      <th>ExternalAccount_Sum</th>\n",
              "      <th>RegularInteractionIndicator</th>\n",
              "      <th>Product_Sum</th>\n",
              "      <th>Transaction_Std_Bin</th>\n",
              "    </tr>\n",
              "  </thead>\n",
              "  <tbody>\n",
              "    <tr>\n",
              "      <td>-1.055536</td>\n",
              "      <td>1.012488</td>\n",
              "      <td>0.700422</td>\n",
              "      <td>0.278456</td>\n",
              "      <td>-0.213295</td>\n",
              "      <td>-0.191613</td>\n",
              "      <td>-0.11414</td>\n",
              "      <td>-0.106171</td>\n",
              "      <td>-0.105552</td>\n",
              "      <td>0.055307</td>\n",
              "      <td>0.035197</td>\n",
              "      <td>-0.026514</td>\n",
              "      <td>-0.02589</td>\n",
              "      <td>0.023437</td>\n",
              "    </tr>\n",
              "  </tbody>\n",
              "</table>"
            ],
            "text/plain": [
              "<IPython.core.display.HTML object>"
            ]
          },
          "metadata": {
            "tags": []
          }
        },
        {
          "output_type": "display_data",
          "data": {
            "text/plain": [
              "<Figure size 432x288 with 0 Axes>"
            ]
          },
          "metadata": {
            "tags": []
          }
        },
        {
          "output_type": "display_data",
          "data": {
            "image/png": "[encoded data removed]",
            "text/plain": [
              "<Figure size 864x432 with 1 Axes>"
            ]
          },
          "metadata": {
            "tags": [],
            "needs_background": "light"
          }
        }
      ]
    },
    {
      "cell_type": "code",
      "metadata": {
        "id": "yLqbmCcs2GXk",
        "colab": {
          "base_uri": "https://localhost:8080/",
          "height": 491
        },
        "outputId": "a181220c-80ff-4673-ab82-fd768461281b"
      },
      "source": [
        "# print feature importance table and graph from RFC\n",
        "viz_importance(classifierTuned['RFC'].feature_importances_,x_train.columns)"
      ],
      "execution_count": null,
      "outputs": [
        {
          "output_type": "display_data",
          "data": {
            "text/html": [
              "<table border=\"1\" class=\"dataframe\">\n",
              "  <thead>\n",
              "    <tr style=\"text-align: right;\">\n",
              "      <th>Transaction4_Bin</th>\n",
              "      <th>Balance_Bin</th>\n",
              "      <th>ActivityIndicator_Bin</th>\n",
              "      <th>Transaction_Max_Bin</th>\n",
              "      <th>Transaction_Median_Bin</th>\n",
              "      <th>Transaction_Mean_Bin</th>\n",
              "      <th>Transaction_Sum_Bin</th>\n",
              "      <th>Transaction_Std_Bin</th>\n",
              "      <th>Transaction5_Bin</th>\n",
              "      <th>Transaction6_Bin</th>\n",
              "      <th>Transaction_Count</th>\n",
              "      <th>RegularInteractionIndicator</th>\n",
              "      <th>Product_Sum</th>\n",
              "      <th>ExternalAccount_Sum</th>\n",
              "    </tr>\n",
              "  </thead>\n",
              "  <tbody>\n",
              "    <tr>\n",
              "      <td>0.124829</td>\n",
              "      <td>0.121277</td>\n",
              "      <td>0.120901</td>\n",
              "      <td>0.093091</td>\n",
              "      <td>0.084385</td>\n",
              "      <td>0.081559</td>\n",
              "      <td>0.073581</td>\n",
              "      <td>0.059488</td>\n",
              "      <td>0.049167</td>\n",
              "      <td>0.049071</td>\n",
              "      <td>0.038836</td>\n",
              "      <td>0.037199</td>\n",
              "      <td>0.035808</td>\n",
              "      <td>0.030808</td>\n",
              "    </tr>\n",
              "  </tbody>\n",
              "</table>"
            ],
            "text/plain": [
              "<IPython.core.display.HTML object>"
            ]
          },
          "metadata": {
            "tags": []
          }
        },
        {
          "output_type": "display_data",
          "data": {
            "text/plain": [
              "<Figure size 432x288 with 0 Axes>"
            ]
          },
          "metadata": {
            "tags": []
          }
        },
        {
          "output_type": "display_data",
          "data": {
            "image/png": "[encoded data removed]",
            "text/plain": [
              "<Figure size 864x432 with 1 Axes>"
            ]
          },
          "metadata": {
            "tags": [],
            "needs_background": "light"
          }
        }
      ]
    },
    {
      "cell_type": "markdown",
      "metadata": {
        "id": "B-Xr9OlnhIb2"
      },
      "source": [
        "## Predictions"
      ]
    },
    {
      "cell_type": "code",
      "metadata": {
        "id": "9oViFIlC1UpM",
        "colab": {
          "base_uri": "https://localhost:8080/",
          "height": 51
        },
        "outputId": "5637e9c2-59e0-4a1d-cf25-52b9d2bd8d39"
      },
      "source": [
        "filePath =\"/content/gdrive/My Drive/test.csv\"\n",
        "df = pd.read_csv(filePath)\n",
        "\n",
        "# Dependent Variables\n",
        "print (f'\\033[31m > # of N/As: \\033[31m' )\n",
        "if df.isnull().values.sum()==0:\n",
        "    print(f'\\033[32m No N/A \\033[32m')\n",
        "else:\n",
        "    for column_name,column in df.transpose().iterrows():\n",
        "        if df.isnull()[column_name].values.sum() !=0:\n",
        "            print(f'\\033[32m Number of error in column {column_name}: {df.isnull()[column_name].values.sum():,} \\033[32m')\n",
        "\n",
        "df.loc[df.Customer_id.duplicated(),:].shape[0]\n",
        "df.describe()\n",
        "df.describe(include=['datetime64','O'])\n",
        "# df['New_Customer_id'] = df.Customer_id.str[5:]\n",
        "\n",
        "# df['New_Customer_id'] = df['New_Customer_id'].apply(pd.to_numeric)\n",
        "# df['New_Customer_id']\n",
        "df.drop(['Product_Sum','ExternalAccount_Sum'],axis=1,inplace=True, errors='ignore')\n",
        "df['Product_Sum']=df[df.filter(like='Product').columns].sum(axis = 1)\n",
        "df['ExternalAccount_Sum']=df[df.filter(like='ExternalAccount').columns].sum(axis = 1)\n",
        "\n",
        "df.drop(df.filter(like='Transaction_').columns,axis=1,inplace=True, errors='ignore')\n",
        "df_trans=df[df.filter(like='Transaction').columns]\n",
        "df['Transaction_Sum']=df_trans.sum(axis = 1)\n",
        "df['Transaction_Min']=df_trans[(df_trans >50)].min(axis=1)\n",
        "df['Transaction_Min'] = df['Transaction_Min'].fillna(10)\n",
        "df['Transaction_Max']=df_trans.max(axis=1)\n",
        "df['Transaction_Mean']=df_trans.mean(axis=1)\n",
        "df['Transaction_Median']=df_trans[(df_trans >50)].median(axis=1)\n",
        "df['Transaction_Median'] = df['Transaction_Median'].fillna(0)\n",
        "df['Transaction_Std']=df_trans[(df_trans >50)].std(axis=1)\n",
        "df['Transaction_Std'] = df['Transaction_Std'].fillna(0)\n",
        "df['Transaction_Count']=df_trans[(df_trans >50)].count(axis=1)\n",
        "df['Rate_Drop'] = df['RateBefore'].sub(df['ReferenceRate'], axis = 0)\n",
        "df.drop(['CompetitiveRate6'],axis=1,inplace=True, errors='ignore')\n",
        "df['R4EqBefore']=0\n",
        "df.loc[df.CompetitiveRate4==df.RateBefore,'R4EqBefore']=1\n",
        "df['R3EqRef']=0\n",
        "df.loc[df.CompetitiveRate3==df.ReferenceRate,'R3EqRef']=1\n",
        "df.drop(['CompetitiveRate1'],axis=1,inplace=True, errors='ignore')\n",
        "df.drop(['CompetitiveRate3'],axis=1,inplace=True, errors='ignore')\n",
        "df.drop(['CompetitiveRate4'],axis=1,inplace=True, errors='ignore')\n",
        "\n",
        "cut_bins = [-np.inf,0, 50, 100, 200, 400, 800, 1600, 3200, 6400,12800, np.inf]\n",
        "df['Balance_Bin'] = pd.cut(df['Balance'], bins=20, labels=False,right=True)\n",
        "\n",
        "cut_bins = [-np.inf,0, 100, 200, 400, 600,800, 1000, 2000, 4000,6000,8000,10000,20000,40000, 60000,80000,100000,200000,np.inf]\n",
        "df['Transaction1_Bin'] = pd.cut(df['Transaction1'], bins=cut_bins, labels=False,right=True)\n",
        "\n",
        "cut_bins = [-np.inf,0, 100, 200, 400, 600,800, 1000, 2000, 4000,6000,8000,10000,20000,40000, 60000,80000,100000,200000,np.inf]\n",
        "df['Transaction2_Bin'] = pd.cut(df['Transaction2'], bins=cut_bins, labels=False,right=True)\n",
        "\n",
        "cut_bins = [-np.inf,0, 100, 200, 400, 600,800, 1000, 2000, 4000,6000,8000,10000,20000,40000, 60000,80000,100000,200000,np.inf]\n",
        "df['Transaction3_Bin'] = pd.cut(df['Transaction3'], bins=cut_bins, labels=False,right=True)\n",
        "\n",
        "\n",
        "cut_bins = [-np.inf,0, 100, 200, 400, 600,800, 1000, 2000, 4000,6000,8000,10000,20000,40000, 60000,80000,100000,200000,np.inf]\n",
        "df['Transaction4_Bin'] = pd.cut(df['Transaction4'], bins=cut_bins, labels=False,right=True)\n",
        "\n",
        "df['Transaction5_Bin'] = pd.cut(df['Transaction5'], bins=cut_bins, labels=False,right=True)\n",
        "\n",
        "df['Transaction6_Bin'] = pd.cut(df['Transaction6'], bins=cut_bins, labels=False,right=True)\n",
        "\n",
        "df['Transaction7_Bin'] = pd.cut(df['Transaction7'], bins=cut_bins, labels=False,right=True)\n",
        "\n",
        "df['Transaction8_Bin'] = pd.cut(df['Transaction8'], bins=cut_bins, labels=False,right=True)\n",
        "\n",
        "df['Transaction9_Bin'] = pd.cut(df['Transaction9'], bins=cut_bins, labels=False,right=True)\n",
        "\n",
        "df['Transaction_Max_Bin'] = pd.cut(df['Transaction_Max'], bins=cut_bins, labels=False,right=True)\n",
        "\n",
        "df['Transaction_Min_Bin'] = pd.cut(df['Transaction_Min'], bins=10, labels=False,right=True)\n",
        "\n",
        "df['Transaction_Mean_Bin'] = pd.cut(df['Transaction_Mean'], bins=cut_bins, labels=False,right=True)\n",
        "\n",
        "df['Transaction_Median_Bin'] = pd.cut(df['Transaction_Median'], bins=cut_bins, labels=False,right=True)\n",
        "\n",
        "df['Transaction_Std_Bin'] = pd.cut(df['Transaction_Std'], bins=cut_bins, labels=False,right=True)\n",
        "\n",
        "df['Transaction_Sum_Bin'] = pd.cut(df['Transaction_Sum'], bins=cut_bins, labels=False,right=True)\n",
        "\n",
        "\n",
        "\n",
        "cut_bins = [-np.inf,0, 5, 10, 25, 50,75,100, 200,300,400,500,750,1000,np.inf]\n",
        "df['ActivityIndicator_Bin'] = pd.cut(df['ActivityIndicator'], bins=cut_bins, labels=False,right=True)\n",
        "\n",
        "df_x=df[feature_cols]\n",
        "df_x_std=scaler.transform(df_x)\n",
        "for key in classifiers:\n",
        "\n",
        "  y_predit=classifierTuned[key].predict(df_x_std)\n",
        "  df_pred = pd.DataFrame(data=y_predit,  columns=[\"Target\"])\n",
        "\n",
        "  df_submit = df.merge(df_pred, left_index=True, right_index=True)\n",
        "  df_submit=df_submit[['Customer_id','Target']]\n",
        "\n",
        "  df_submit.to_csv('/content/gdrive/My Drive/Submission_'+key+'.csv',index=False)\n",
        "  files.download('/content/gdrive/My Drive/Submission_'+key+'.csv')\n",
        "\n",
        "y_predit=voting_clf.predict(df_x_std)\n",
        "df_pred = pd.DataFrame(data=y_predit,  columns=[\"Target\"])\n",
        "\n",
        "df_submit = df.merge(df_pred, left_index=True, right_index=True)\n",
        "df_submit=df_submit[['Customer_id','Target']]\n",
        "\n",
        "df_submit.to_csv('/content/gdrive/My Drive/Submission_Vote.csv',index=False)\n",
        "files.download('/content/gdrive/My Drive/Submission_Vote.csv')\n",
        "\n"
      ],
      "execution_count": null,
      "outputs": [
        {
          "output_type": "stream",
          "text": [
            "\u001b[31m > # of N/As: \u001b[31m\n",
            "\u001b[32m No N/A \u001b[32m\n"
          ],
          "name": "stdout"
        },
        {
          "output_type": "display_data",
          "data": {
            "application/javascript": [
              "\n",
              "    async function download(id, filename, size) {\n",
              "      if (!google.colab.kernel.accessAllowed) {\n",
              "        return;\n",
              "      }\n",
              "      const div = document.createElement('div');\n",
              "      const label = document.createElement('label');\n",
              "      label.textContent = `Downloading \"${filename}\": `;\n",
              "      div.appendChild(label);\n",
              "      const progress = document.createElement('progress');\n",
              "      progress.max = size;\n",
              "      div.appendChild(progress);\n",
              "      document.body.appendChild(div);\n",
              "\n",
              "      const buffers = [];\n",
              "      let downloaded = 0;\n",
              "\n",
              "      const channel = await google.colab.kernel.comms.open(id);\n",
              "      // Send a message to notify the kernel that we're ready.\n",
              "      channel.send({})\n",
              "\n",
              "      for await (const message of channel.messages) {\n",
              "        // Send a message to notify the kernel that we're ready.\n",
              "        channel.send({})\n",
              "        if (message.buffers) {\n",
              "          for (const buffer of message.buffers) {\n",
              "            buffers.push(buffer);\n",
              "            downloaded += buffer.byteLength;\n",
              "            progress.value = downloaded;\n",
              "          }\n",
              "        }\n",
              "      }\n",
              "      const blob = new Blob(buffers, {type: 'application/binary'});\n",
              "      const a = document.createElement('a');\n",
              "      a.href = window.URL.createObjectURL(blob);\n",
              "      a.download = filename;\n",
              "      div.appendChild(a);\n",
              "      a.click();\n",
              "      div.remove();\n",
              "    }\n",
              "  "
            ],
            "text/plain": [
              "<IPython.core.display.Javascript object>"
            ]
          },
          "metadata": {
            "tags": []
          }
        },
        {
          "output_type": "display_data",
          "data": {
            "application/javascript": [
              "download(\"download_b7149a10-e1ba-48fb-85a2-1e72d2e035a3\", \"Submission_DT.csv\", 19259)"
            ],
            "text/plain": [
              "<IPython.core.display.Javascript object>"
            ]
          },
          "metadata": {
            "tags": []
          }
        },
        {
          "output_type": "display_data",
          "data": {
            "application/javascript": [
              "\n",
              "    async function download(id, filename, size) {\n",
              "      if (!google.colab.kernel.accessAllowed) {\n",
              "        return;\n",
              "      }\n",
              "      const div = document.createElement('div');\n",
              "      const label = document.createElement('label');\n",
              "      label.textContent = `Downloading \"${filename}\": `;\n",
              "      div.appendChild(label);\n",
              "      const progress = document.createElement('progress');\n",
              "      progress.max = size;\n",
              "      div.appendChild(progress);\n",
              "      document.body.appendChild(div);\n",
              "\n",
              "      const buffers = [];\n",
              "      let downloaded = 0;\n",
              "\n",
              "      const channel = await google.colab.kernel.comms.open(id);\n",
              "      // Send a message to notify the kernel that we're ready.\n",
              "      channel.send({})\n",
              "\n",
              "      for await (const message of channel.messages) {\n",
              "        // Send a message to notify the kernel that we're ready.\n",
              "        channel.send({})\n",
              "        if (message.buffers) {\n",
              "          for (const buffer of message.buffers) {\n",
              "            buffers.push(buffer);\n",
              "            downloaded += buffer.byteLength;\n",
              "            progress.value = downloaded;\n",
              "          }\n",
              "        }\n",
              "      }\n",
              "      const blob = new Blob(buffers, {type: 'application/binary'});\n",
              "      const a = document.createElement('a');\n",
              "      a.href = window.URL.createObjectURL(blob);\n",
              "      a.download = filename;\n",
              "      div.appendChild(a);\n",
              "      a.click();\n",
              "      div.remove();\n",
              "    }\n",
              "  "
            ],
            "text/plain": [
              "<IPython.core.display.Javascript object>"
            ]
          },
          "metadata": {
            "tags": []
          }
        },
        {
          "output_type": "display_data",
          "data": {
            "application/javascript": [
              "download(\"download_236da4f8-d68d-4c27-a1b7-9c1f75ecbc92\", \"Submission_KNN.csv\", 19259)"
            ],
            "text/plain": [
              "<IPython.core.display.Javascript object>"
            ]
          },
          "metadata": {
            "tags": []
          }
        },
        {
          "output_type": "display_data",
          "data": {
            "application/javascript": [
              "\n",
              "    async function download(id, filename, size) {\n",
              "      if (!google.colab.kernel.accessAllowed) {\n",
              "        return;\n",
              "      }\n",
              "      const div = document.createElement('div');\n",
              "      const label = document.createElement('label');\n",
              "      label.textContent = `Downloading \"${filename}\": `;\n",
              "      div.appendChild(label);\n",
              "      const progress = document.createElement('progress');\n",
              "      progress.max = size;\n",
              "      div.appendChild(progress);\n",
              "      document.body.appendChild(div);\n",
              "\n",
              "      const buffers = [];\n",
              "      let downloaded = 0;\n",
              "\n",
              "      const channel = await google.colab.kernel.comms.open(id);\n",
              "      // Send a message to notify the kernel that we're ready.\n",
              "      channel.send({})\n",
              "\n",
              "      for await (const message of channel.messages) {\n",
              "        // Send a message to notify the kernel that we're ready.\n",
              "        channel.send({})\n",
              "        if (message.buffers) {\n",
              "          for (const buffer of message.buffers) {\n",
              "            buffers.push(buffer);\n",
              "            downloaded += buffer.byteLength;\n",
              "            progress.value = downloaded;\n",
              "          }\n",
              "        }\n",
              "      }\n",
              "      const blob = new Blob(buffers, {type: 'application/binary'});\n",
              "      const a = document.createElement('a');\n",
              "      a.href = window.URL.createObjectURL(blob);\n",
              "      a.download = filename;\n",
              "      div.appendChild(a);\n",
              "      a.click();\n",
              "      div.remove();\n",
              "    }\n",
              "  "
            ],
            "text/plain": [
              "<IPython.core.display.Javascript object>"
            ]
          },
          "metadata": {
            "tags": []
          }
        },
        {
          "output_type": "display_data",
          "data": {
            "application/javascript": [
              "download(\"download_529d101a-ff6d-464a-a802-01d584cb99ec\", \"Submission_SVC.csv\", 19259)"
            ],
            "text/plain": [
              "<IPython.core.display.Javascript object>"
            ]
          },
          "metadata": {
            "tags": []
          }
        },
        {
          "output_type": "display_data",
          "data": {
            "application/javascript": [
              "\n",
              "    async function download(id, filename, size) {\n",
              "      if (!google.colab.kernel.accessAllowed) {\n",
              "        return;\n",
              "      }\n",
              "      const div = document.createElement('div');\n",
              "      const label = document.createElement('label');\n",
              "      label.textContent = `Downloading \"${filename}\": `;\n",
              "      div.appendChild(label);\n",
              "      const progress = document.createElement('progress');\n",
              "      progress.max = size;\n",
              "      div.appendChild(progress);\n",
              "      document.body.appendChild(div);\n",
              "\n",
              "      const buffers = [];\n",
              "      let downloaded = 0;\n",
              "\n",
              "      const channel = await google.colab.kernel.comms.open(id);\n",
              "      // Send a message to notify the kernel that we're ready.\n",
              "      channel.send({})\n",
              "\n",
              "      for await (const message of channel.messages) {\n",
              "        // Send a message to notify the kernel that we're ready.\n",
              "        channel.send({})\n",
              "        if (message.buffers) {\n",
              "          for (const buffer of message.buffers) {\n",
              "            buffers.push(buffer);\n",
              "            downloaded += buffer.byteLength;\n",
              "            progress.value = downloaded;\n",
              "          }\n",
              "        }\n",
              "      }\n",
              "      const blob = new Blob(buffers, {type: 'application/binary'});\n",
              "      const a = document.createElement('a');\n",
              "      a.href = window.URL.createObjectURL(blob);\n",
              "      a.download = filename;\n",
              "      div.appendChild(a);\n",
              "      a.click();\n",
              "      div.remove();\n",
              "    }\n",
              "  "
            ],
            "text/plain": [
              "<IPython.core.display.Javascript object>"
            ]
          },
          "metadata": {
            "tags": []
          }
        },
        {
          "output_type": "display_data",
          "data": {
            "application/javascript": [
              "download(\"download_dbed5bba-e8d8-4000-a6cf-c0feff1c2618\", \"Submission_ADA.csv\", 19259)"
            ],
            "text/plain": [
              "<IPython.core.display.Javascript object>"
            ]
          },
          "metadata": {
            "tags": []
          }
        },
        {
          "output_type": "display_data",
          "data": {
            "application/javascript": [
              "\n",
              "    async function download(id, filename, size) {\n",
              "      if (!google.colab.kernel.accessAllowed) {\n",
              "        return;\n",
              "      }\n",
              "      const div = document.createElement('div');\n",
              "      const label = document.createElement('label');\n",
              "      label.textContent = `Downloading \"${filename}\": `;\n",
              "      div.appendChild(label);\n",
              "      const progress = document.createElement('progress');\n",
              "      progress.max = size;\n",
              "      div.appendChild(progress);\n",
              "      document.body.appendChild(div);\n",
              "\n",
              "      const buffers = [];\n",
              "      let downloaded = 0;\n",
              "\n",
              "      const channel = await google.colab.kernel.comms.open(id);\n",
              "      // Send a message to notify the kernel that we're ready.\n",
              "      channel.send({})\n",
              "\n",
              "      for await (const message of channel.messages) {\n",
              "        // Send a message to notify the kernel that we're ready.\n",
              "        channel.send({})\n",
              "        if (message.buffers) {\n",
              "          for (const buffer of message.buffers) {\n",
              "            buffers.push(buffer);\n",
              "            downloaded += buffer.byteLength;\n",
              "            progress.value = downloaded;\n",
              "          }\n",
              "        }\n",
              "      }\n",
              "      const blob = new Blob(buffers, {type: 'application/binary'});\n",
              "      const a = document.createElement('a');\n",
              "      a.href = window.URL.createObjectURL(blob);\n",
              "      a.download = filename;\n",
              "      div.appendChild(a);\n",
              "      a.click();\n",
              "      div.remove();\n",
              "    }\n",
              "  "
            ],
            "text/plain": [
              "<IPython.core.display.Javascript object>"
            ]
          },
          "metadata": {
            "tags": []
          }
        },
        {
          "output_type": "display_data",
          "data": {
            "application/javascript": [
              "download(\"download_1416e9db-4dc3-42ee-839c-c5098ef3e10a\", \"Submission_XGB.csv\", 19259)"
            ],
            "text/plain": [
              "<IPython.core.display.Javascript object>"
            ]
          },
          "metadata": {
            "tags": []
          }
        },
        {
          "output_type": "display_data",
          "data": {
            "application/javascript": [
              "\n",
              "    async function download(id, filename, size) {\n",
              "      if (!google.colab.kernel.accessAllowed) {\n",
              "        return;\n",
              "      }\n",
              "      const div = document.createElement('div');\n",
              "      const label = document.createElement('label');\n",
              "      label.textContent = `Downloading \"${filename}\": `;\n",
              "      div.appendChild(label);\n",
              "      const progress = document.createElement('progress');\n",
              "      progress.max = size;\n",
              "      div.appendChild(progress);\n",
              "      document.body.appendChild(div);\n",
              "\n",
              "      const buffers = [];\n",
              "      let downloaded = 0;\n",
              "\n",
              "      const channel = await google.colab.kernel.comms.open(id);\n",
              "      // Send a message to notify the kernel that we're ready.\n",
              "      channel.send({})\n",
              "\n",
              "      for await (const message of channel.messages) {\n",
              "        // Send a message to notify the kernel that we're ready.\n",
              "        channel.send({})\n",
              "        if (message.buffers) {\n",
              "          for (const buffer of message.buffers) {\n",
              "            buffers.push(buffer);\n",
              "            downloaded += buffer.byteLength;\n",
              "            progress.value = downloaded;\n",
              "          }\n",
              "        }\n",
              "      }\n",
              "      const blob = new Blob(buffers, {type: 'application/binary'});\n",
              "      const a = document.createElement('a');\n",
              "      a.href = window.URL.createObjectURL(blob);\n",
              "      a.download = filename;\n",
              "      div.appendChild(a);\n",
              "      a.click();\n",
              "      div.remove();\n",
              "    }\n",
              "  "
            ],
            "text/plain": [
              "<IPython.core.display.Javascript object>"
            ]
          },
          "metadata": {
            "tags": []
          }
        },
        {
          "output_type": "display_data",
          "data": {
            "application/javascript": [
              "download(\"download_6515442e-47d5-4d34-95b9-dd99745066d7\", \"Submission_LR.csv\", 19259)"
            ],
            "text/plain": [
              "<IPython.core.display.Javascript object>"
            ]
          },
          "metadata": {
            "tags": []
          }
        },
        {
          "output_type": "display_data",
          "data": {
            "application/javascript": [
              "\n",
              "    async function download(id, filename, size) {\n",
              "      if (!google.colab.kernel.accessAllowed) {\n",
              "        return;\n",
              "      }\n",
              "      const div = document.createElement('div');\n",
              "      const label = document.createElement('label');\n",
              "      label.textContent = `Downloading \"${filename}\": `;\n",
              "      div.appendChild(label);\n",
              "      const progress = document.createElement('progress');\n",
              "      progress.max = size;\n",
              "      div.appendChild(progress);\n",
              "      document.body.appendChild(div);\n",
              "\n",
              "      const buffers = [];\n",
              "      let downloaded = 0;\n",
              "\n",
              "      const channel = await google.colab.kernel.comms.open(id);\n",
              "      // Send a message to notify the kernel that we're ready.\n",
              "      channel.send({})\n",
              "\n",
              "      for await (const message of channel.messages) {\n",
              "        // Send a message to notify the kernel that we're ready.\n",
              "        channel.send({})\n",
              "        if (message.buffers) {\n",
              "          for (const buffer of message.buffers) {\n",
              "            buffers.push(buffer);\n",
              "            downloaded += buffer.byteLength;\n",
              "            progress.value = downloaded;\n",
              "          }\n",
              "        }\n",
              "      }\n",
              "      const blob = new Blob(buffers, {type: 'application/binary'});\n",
              "      const a = document.createElement('a');\n",
              "      a.href = window.URL.createObjectURL(blob);\n",
              "      a.download = filename;\n",
              "      div.appendChild(a);\n",
              "      a.click();\n",
              "      div.remove();\n",
              "    }\n",
              "  "
            ],
            "text/plain": [
              "<IPython.core.display.Javascript object>"
            ]
          },
          "metadata": {
            "tags": []
          }
        },
        {
          "output_type": "display_data",
          "data": {
            "application/javascript": [
              "download(\"download_32254f75-6117-425e-8c56-23120fdaafb1\", \"Submission_RFC.csv\", 19259)"
            ],
            "text/plain": [
              "<IPython.core.display.Javascript object>"
            ]
          },
          "metadata": {
            "tags": []
          }
        },
        {
          "output_type": "display_data",
          "data": {
            "application/javascript": [
              "\n",
              "    async function download(id, filename, size) {\n",
              "      if (!google.colab.kernel.accessAllowed) {\n",
              "        return;\n",
              "      }\n",
              "      const div = document.createElement('div');\n",
              "      const label = document.createElement('label');\n",
              "      label.textContent = `Downloading \"${filename}\": `;\n",
              "      div.appendChild(label);\n",
              "      const progress = document.createElement('progress');\n",
              "      progress.max = size;\n",
              "      div.appendChild(progress);\n",
              "      document.body.appendChild(div);\n",
              "\n",
              "      const buffers = [];\n",
              "      let downloaded = 0;\n",
              "\n",
              "      const channel = await google.colab.kernel.comms.open(id);\n",
              "      // Send a message to notify the kernel that we're ready.\n",
              "      channel.send({})\n",
              "\n",
              "      for await (const message of channel.messages) {\n",
              "        // Send a message to notify the kernel that we're ready.\n",
              "        channel.send({})\n",
              "        if (message.buffers) {\n",
              "          for (const buffer of message.buffers) {\n",
              "            buffers.push(buffer);\n",
              "            downloaded += buffer.byteLength;\n",
              "            progress.value = downloaded;\n",
              "          }\n",
              "        }\n",
              "      }\n",
              "      const blob = new Blob(buffers, {type: 'application/binary'});\n",
              "      const a = document.createElement('a');\n",
              "      a.href = window.URL.createObjectURL(blob);\n",
              "      a.download = filename;\n",
              "      div.appendChild(a);\n",
              "      a.click();\n",
              "      div.remove();\n",
              "    }\n",
              "  "
            ],
            "text/plain": [
              "<IPython.core.display.Javascript object>"
            ]
          },
          "metadata": {
            "tags": []
          }
        },
        {
          "output_type": "display_data",
          "data": {
            "application/javascript": [
              "download(\"download_28bf4835-1464-4cbf-b9e2-00ef62f96d8c\", \"Submission_NN.csv\", 19259)"
            ],
            "text/plain": [
              "<IPython.core.display.Javascript object>"
            ]
          },
          "metadata": {
            "tags": []
          }
        },
        {
          "output_type": "display_data",
          "data": {
            "application/javascript": [
              "\n",
              "    async function download(id, filename, size) {\n",
              "      if (!google.colab.kernel.accessAllowed) {\n",
              "        return;\n",
              "      }\n",
              "      const div = document.createElement('div');\n",
              "      const label = document.createElement('label');\n",
              "      label.textContent = `Downloading \"${filename}\": `;\n",
              "      div.appendChild(label);\n",
              "      const progress = document.createElement('progress');\n",
              "      progress.max = size;\n",
              "      div.appendChild(progress);\n",
              "      document.body.appendChild(div);\n",
              "\n",
              "      const buffers = [];\n",
              "      let downloaded = 0;\n",
              "\n",
              "      const channel = await google.colab.kernel.comms.open(id);\n",
              "      // Send a message to notify the kernel that we're ready.\n",
              "      channel.send({})\n",
              "\n",
              "      for await (const message of channel.messages) {\n",
              "        // Send a message to notify the kernel that we're ready.\n",
              "        channel.send({})\n",
              "        if (message.buffers) {\n",
              "          for (const buffer of message.buffers) {\n",
              "            buffers.push(buffer);\n",
              "            downloaded += buffer.byteLength;\n",
              "            progress.value = downloaded;\n",
              "          }\n",
              "        }\n",
              "      }\n",
              "      const blob = new Blob(buffers, {type: 'application/binary'});\n",
              "      const a = document.createElement('a');\n",
              "      a.href = window.URL.createObjectURL(blob);\n",
              "      a.download = filename;\n",
              "      div.appendChild(a);\n",
              "      a.click();\n",
              "      div.remove();\n",
              "    }\n",
              "  "
            ],
            "text/plain": [
              "<IPython.core.display.Javascript object>"
            ]
          },
          "metadata": {
            "tags": []
          }
        },
        {
          "output_type": "display_data",
          "data": {
            "application/javascript": [
              "download(\"download_6bbcac71-4d1a-4117-9f2a-0ee6a183e684\", \"Submission_Vote.csv\", 19259)"
            ],
            "text/plain": [
              "<IPython.core.display.Javascript object>"
            ]
          },
          "metadata": {
            "tags": []
          }
        }
      ]
    },
    {
      "cell_type": "markdown",
      "metadata": {
        "id": "kAbeoBC7XMa5"
      },
      "source": [
        "# Pipeline\n",
        "\n",
        "The section below is the pipeline based on our feature engineering above. We are using the tuned Logistic Regression from our tests above to fit and predict"
      ]
    },
    {
      "cell_type": "markdown",
      "metadata": {
        "id": "q39Z-pYxVDED"
      },
      "source": [
        "## Data loading"
      ]
    },
    {
      "cell_type": "code",
      "metadata": {
        "id": "rYZAab0Wsuod"
      },
      "source": [
        "# Pulling in the labelled dataset for the pipeline and splitting it into test and train.\n",
        "\n",
        "df=df_raw.copy(deep=True)\n",
        "df_x = df.drop(['Target'], axis=1)\n",
        "df_y = df['Target']\n",
        "\n",
        "sss = StratifiedShuffleSplit(n_splits=1, test_size=0.2, random_state=random_seed)\n",
        "\n",
        "for train_index, test_index in sss.split(df_x, df_y):\n",
        "  df_x_tr, df_y_tr = df_x.iloc[train_index, :], df_y.iloc[train_index]\n",
        "  df_x_ts, df_y_ts = df_x.iloc[test_index,:], df_y.iloc[test_index]\n",
        "\n",
        "df_x.reset_index(drop=True, inplace=True)\n",
        "df_y.reset_index(drop=True, inplace=True)"
      ],
      "execution_count": null,
      "outputs": []
    },
    {
      "cell_type": "code",
      "metadata": {
        "id": "jIqoY_WcHvf4"
      },
      "source": [
        "# Bringing in the unlabelled dataset where we need to predict the values after training the model\n",
        "filePath =\"/content/gdrive/My Drive/3253 ML Project - Group 8/test.csv\"\n",
        "df_pred = pd.read_csv(filePath)"
      ],
      "execution_count": null,
      "outputs": []
    },
    {
      "cell_type": "code",
      "metadata": {
        "id": "S8LYjC1qJSnO"
      },
      "source": [
        "# Bringing in the Logistic Regression model and applying the tuned parameters from the parameter search done before\n",
        "log_reg = classifierTuned['LR']\n"
      ],
      "execution_count": null,
      "outputs": []
    },
    {
      "cell_type": "markdown",
      "metadata": {
        "id": "WykDrF0PXPBJ"
      },
      "source": [
        "## Custom Transformers for Feature Engineering\n",
        "\n",
        "The following are the transformers and the pipeline for the feature engineering. We broke the transformers into different categories to allow us to easily tune one group of features at a time."
      ]
    },
    {
      "cell_type": "code",
      "metadata": {
        "id": "YJqz148gMO6E"
      },
      "source": [
        "# The following transformer takes the sum of the Products and External Accounts that each of the customer owns\n",
        "class SumFeatures(BaseEstimator,TransformerMixin):\n",
        "  def _init_(self):\n",
        "    self\n",
        "  def fit(self, X, y=None):\n",
        "    return self\n",
        "  def transform(self, X, y=None):\n",
        "    X.drop(['Product_Sum','ExternalAccount_Sum'],axis=1,inplace=True, errors='ignore')\n",
        "    X['Product_Sum']=X[df_x.filter(like='Product').columns].sum(axis = 1)\n",
        "    X['ExternalAccount_Sum']=X[X.filter(like='ExternalAccount').columns].sum(axis = 1)\n",
        "    return X"
      ],
      "execution_count": null,
      "outputs": []
    },
    {
      "cell_type": "code",
      "metadata": {
        "id": "yizl6ekpT91L"
      },
      "source": [
        "# The following transformer is for new feature creation and cleanup for the Transactions in the original data.\n",
        "# We are creating new features based on the basic statistics. We are also reducing the noise introduced by the Transactions by flooring the transactions amounts at $50\n",
        "class Trans_Feature_Eng(BaseEstimator, TransformerMixin):\n",
        "  def _init_(self):\n",
        "    self\n",
        "  def fit(self, X, y=None):\n",
        "    return self\n",
        "  def transform(self, X, y=None):\n",
        "    trans_floor=50\n",
        "    X.drop(X.filter(like='Transaction_').columns,axis=1,inplace=True, errors='ignore')\n",
        "    df_trans=X[X.filter(like='Transaction').columns]\n",
        "    X['Transaction_Sum']=df_trans.sum(axis = 1)    #taking the sum of the transactions\n",
        "    X['Transaction_Min']=df_trans[(df_trans >trans_floor)].min(axis=1)\n",
        "    X['Transaction_Min'] = X['Transaction_Min'].fillna(10)\n",
        "    X['Transaction_Max']=df_trans.max(axis=1)\n",
        "    X['Transaction_Mean']=df_trans.mean(axis=1)\n",
        "    X['Transaction_Median']=df_trans[(df_trans >trans_floor)].median(axis=1)\n",
        "    X['Transaction_Median'] = X['Transaction_Median'].fillna(0)\n",
        "    X['Transaction_Std']=df_trans[(df_trans >trans_floor)].std(axis=1)\n",
        "    X['Transaction_Std'] = X['Transaction_Std'].fillna(0)\n",
        "    X['Transaction_Count']=df_trans[(df_trans >trans_floor)].count(axis=1)\n",
        "    return X"
      ],
      "execution_count": null,
      "outputs": []
    },
    {
      "cell_type": "code",
      "metadata": {
        "id": "BbUUL54zXZhr"
      },
      "source": [
        "# The following transformer is conducting feature engineering on the Rates. We are calculating differences and\n",
        "class Rates_Feature_Eng(BaseEstimator, TransformerMixin):\n",
        "  def _init_(self):\n",
        "    self\n",
        "  def fit(self, X, y=None):\n",
        "    return self\n",
        "  def transform(self, X, y=None):\n",
        "    X.drop(['Rate_Drop','R4EqBefore','R3EqRef'], axis=1, inplace=True, errors='ignore')\n",
        "    X['Rate_Drop'] = X['RateBefore'] - X['ReferenceRate']\n",
        "    X.drop(['CompetitiveRate6'],axis=1,inplace=True, errors='ignore') # Dropping Competitive Rate 6 because it is the same as the Rate Before as we saw earlier on the Correlation Heatmap where the correlation was 1\n",
        "    X['R4EqBefore']=0\n",
        "    X.loc[X.CompetitiveRate4==X.RateBefore,'R4EqBefore']=1\n",
        "    X['R3EqRef']=0\n",
        "    X.loc[X.CompetitiveRate3==X.ReferenceRate,'R3EqRef']=1\n",
        "    return X"
      ],
      "execution_count": null,
      "outputs": []
    },
    {
      "cell_type": "code",
      "metadata": {
        "id": "9Dy4GGVOg9GO"
      },
      "source": [
        "# Binning Transformer\n",
        "class Feature_Binning(BaseEstimator, TransformerMixin):\n",
        "  def _init_ (self):\n",
        "    self\n",
        "  def fit(self, X, y=None):\n",
        "    return self\n",
        "  def transform(self, X, y=None):\n",
        "    X.drop(X.filter(like='_Bin').columns,axis=1,inplace=True, errors='ignore') #Remove any existing Bin columns\n",
        "    cut_bins = [-np.inf,0, 50, 100, 200, 400, 800, 1600, 3200, 6400,12800, np.inf]\n",
        "    X['Balance_Bin'] = pd.cut(X['Balance'], bins=20, labels=False,right=True)\n",
        "    cut_bins = [-np.inf,0, 100, 200, 400, 600,800, 1000, 2000, 4000,6000,8000,10000,20000,40000, 60000,80000,100000,200000,np.inf]\n",
        "    X['Transaction1_Bin'] = pd.cut(X['Transaction1'], bins=cut_bins, labels=False,right=True)\n",
        "    X['Transaction2_Bin'] = pd.cut(X['Transaction2'], bins=cut_bins, labels=False,right=True)\n",
        "    X['Transaction3_Bin'] = pd.cut(X['Transaction3'], bins=cut_bins, labels=False,right=True)\n",
        "    X['Transaction4_Bin'] = pd.cut(X['Transaction4'], bins=cut_bins, labels=False,right=True)\n",
        "    X['Transaction5_Bin'] = pd.cut(X['Transaction5'], bins=cut_bins, labels=False,right=True)\n",
        "    X['Transaction6_Bin'] = pd.cut(X['Transaction6'], bins=cut_bins, labels=False,right=True)\n",
        "    X['Transaction7_Bin'] = pd.cut(X['Transaction7'], bins=cut_bins, labels=False,right=True)\n",
        "    X['Transaction8_Bin'] = pd.cut(X['Transaction8'], bins=cut_bins, labels=False,right=True)\n",
        "    X['Transaction9_Bin'] = pd.cut(X['Transaction9'], bins=cut_bins, labels=False,right=True)\n",
        "    X['Transaction_Max_Bin'] = pd.cut(X['Transaction_Max'], bins=cut_bins, labels=False,right=True)\n",
        "    X['Transaction_Min_Bin'] = pd.cut(X['Transaction_Min'], bins=10, labels=False,right=True)\n",
        "    X['Transaction_Mean_Bin'] = pd.cut(X['Transaction_Mean'], bins=cut_bins, labels=False,right=True)\n",
        "    X['Transaction_Median_Bin'] = pd.cut(X['Transaction_Median'], bins=cut_bins, labels=False,right=True)\n",
        "    X['Transaction_Std_Bin'] = pd.cut(X['Transaction_Std'], bins=cut_bins, labels=False,right=True)\n",
        "    X['Transaction_Sum_Bin'] = pd.cut(X['Transaction_Sum'], bins=cut_bins, labels=False,right=True)\n",
        "    cut_bins = [-np.inf,0, 5, 10, 25, 50,75,100, 200,300,400,500,750,1000,np.inf]\n",
        "    X['ActivityIndicator_Bin'] = pd.cut(X['ActivityIndicator'], bins=cut_bins, labels=False,right=True)\n",
        "    return X"
      ],
      "execution_count": null,
      "outputs": []
    },
    {
      "cell_type": "code",
      "metadata": {
        "id": "yziBA2--omy2"
      },
      "source": [
        "# Select variables. This is the best feature combination I found.\n",
        "#features = list(df_x.columns)\n",
        "#feature_cols=['Balance_Bin',\t'ActivityIndicator_Bin',\t'Transaction4_Bin',\t'Transaction_Max_Bin',\t'Transaction_Median_Bin',\t'Transaction_Mean_Bin',\t'Transaction_Sum_Bin',\t'Transaction_Std_Bin',\t'Transaction6_Bin',\t'RegularInteractionIndicator',\t'Transaction5_Bin',\t'ExternalAccount_Sum',\t'Transaction_Count',\t'Product_Sum']\n",
        "#features"
      ],
      "execution_count": null,
      "outputs": []
    },
    {
      "cell_type": "code",
      "metadata": {
        "id": "4qNSYdRuzv3p"
      },
      "source": [
        "# Feature selection\n",
        "class Feature_Selection(BaseEstimator, TransformerMixin):\n",
        "    def __init__(self):\n",
        "        self\n",
        "    def fit(self, X, y=None):\n",
        "        return self\n",
        "    def transform(self, X):\n",
        "        X = X[['Balance_Bin',\t'ActivityIndicator_Bin',\t'Transaction4_Bin',\t'Transaction_Max_Bin',\t'Transaction_Median_Bin',\t'Transaction_Mean_Bin',\t'Transaction_Sum_Bin',\t'Transaction_Std_Bin',\t'Transaction6_Bin',\t'RegularInteractionIndicator',\t'Transaction5_Bin',\t'ExternalAccount_Sum',\t'Transaction_Count',\t'Product_Sum']]\n",
        "        return X"
      ],
      "execution_count": null,
      "outputs": []
    },
    {
      "cell_type": "markdown",
      "metadata": {
        "id": "RnX_dw6nFtla"
      },
      "source": [
        "## Pipelines"
      ]
    },
    {
      "cell_type": "code",
      "metadata": {
        "id": "TZBUipqjNrao"
      },
      "source": [
        "# Feature Columns and Feature Engineering Pipeline\n",
        "Feature_Eng_Pipe = Pipeline(steps=[\n",
        "                                   ('sum_features',SumFeatures()),\n",
        "                                   ('trans_feat_eng', Trans_Feature_Eng()),\n",
        "                                   ('rates_feat_eng', Rates_Feature_Eng()),\n",
        "                                   ('feature_binning',Feature_Binning()),\n",
        "                                   ('feature_selection', Feature_Selection()),\n",
        "                                   ('std_scaler', StandardScaler())\n",
        "])"
      ],
      "execution_count": null,
      "outputs": []
    },
    {
      "cell_type": "code",
      "metadata": {
        "id": "DOvBRzo8M8-v"
      },
      "source": [
        "# Full Pipeline\n",
        "Full_Pipe = Pipeline(steps=[\n",
        "                            ('feature_transform', Feature_Eng_Pipe),\n",
        "                            ('log_reg', log_reg) # This is a tuned\n",
        "])"
      ],
      "execution_count": null,
      "outputs": []
    },
    {
      "cell_type": "markdown",
      "metadata": {
        "id": "oo1k9ZAZo0mi"
      },
      "source": [
        "Lets do a quick run of the pipeline below"
      ]
    },
    {
      "cell_type": "code",
      "metadata": {
        "id": "iQxAMJtDSpoq"
      },
      "source": [
        "# Passing the training data to the pipeline\n",
        "Full_Pipe.fit(df_x_tr, df_y_tr)"
      ],
      "execution_count": null,
      "outputs": []
    },
    {
      "cell_type": "code",
      "metadata": {
        "id": "_T0Y0XjnS-DI"
      },
      "source": [
        "# Testing on the test data from the train/test split\n",
        "y_test_pred = Full_Pipe.predict(df_x_ts)"
      ],
      "execution_count": null,
      "outputs": []
    },
    {
      "cell_type": "code",
      "metadata": {
        "colab": {
          "base_uri": "https://localhost:8080/"
        },
        "id": "sSC9AgSBTJIn",
        "outputId": "65d0a2b1-139a-45cf-b0fb-1f2dd6bee637"
      },
      "source": [
        "y_test_pred"
      ],
      "execution_count": null,
      "outputs": [
        {
          "output_type": "execute_result",
          "data": {
            "text/plain": [
              "array([1, 0, 0, ..., 0, 0, 1])"
            ]
          },
          "metadata": {
            "tags": []
          },
          "execution_count": 92
        }
      ]
    },
    {
      "cell_type": "code",
      "metadata": {
        "colab": {
          "base_uri": "https://localhost:8080/"
        },
        "id": "vcPCYj7fTyym",
        "outputId": "4d1ab46c-f106-4813-bff6-1580ca46fca8"
      },
      "source": [
        "accuracy_score(y_test_pred, df_y_ts)"
      ],
      "execution_count": null,
      "outputs": [
        {
          "output_type": "execute_result",
          "data": {
            "text/plain": [
              "0.62125"
            ]
          },
          "metadata": {
            "tags": []
          },
          "execution_count": 93
        }
      ]
    },
    {
      "cell_type": "code",
      "metadata": {
        "id": "fowvDw63ZeDF"
      },
      "source": [
        "df_pred"
      ],
      "execution_count": null,
      "outputs": []
    },
    {
      "cell_type": "code",
      "metadata": {
        "id": "BVi0-paeXt2N"
      },
      "source": [
        "# Prediction on the real test data where there is no target and creating a final dataframe we can use for submission\n",
        "y_predit=Full_Pipe.predict(df_pred)\n",
        "df_pred_final = pd.DataFrame(data=y_predit,  columns=[\"Target\"])\n",
        "\n",
        "df_submit = df_pred.merge(df_pred_final, left_index=True, right_index=True)\n",
        "df_submit=df_submit[['Customer_id','Target']]"
      ],
      "execution_count": null,
      "outputs": []
    },
    {
      "cell_type": "code",
      "metadata": {
        "id": "TL6qknFtbUT9"
      },
      "source": [
        "# Submission output\n",
        "df_submit.to_csv('/content/gdrive/My Drive/Submission_LR.csv',index=False)\n",
        "files.download('/content/gdrive/My Drive/Submission_LR.csv')"
      ],
      "execution_count": null,
      "outputs": []
    }
  ]
}