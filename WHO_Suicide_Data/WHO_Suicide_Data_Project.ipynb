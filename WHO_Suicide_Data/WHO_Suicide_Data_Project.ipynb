{
  "nbformat": 4,
  "nbformat_minor": 0,
  "metadata": {
    "colab": {
      "provenance": []
    },
    "kernelspec": {
      "name": "python3",
      "display_name": "Python 3"
    }
  },
  "cells": [
    {
      "cell_type": "code",
      "metadata": {
        "id": "oESQSsQQNmIC"
      },
      "source": [
        "#importing libraries\n",
        "import pandas as pd\n",
        "import numpy as np\n",
        "import matplotlib.pyplot as plt\n",
        "import seaborn as sns\n",
        "#import geopandas as gpd\n",
        "import plotly.graph_objects as go\n",
        "%matplotlib inline\n"
      ],
      "execution_count": null,
      "outputs": []
    },
    {
      "cell_type": "code",
      "metadata": {
        "id": "F9lK-WfDQDzJ",
        "outputId": "41c6024a-431b-4526-f936-0fd422dcb1ce",
        "colab": {
          "base_uri": "https://localhost:8080/",
          "height": 34
        }
      },
      "source": [
        "from google.colab import drive\n",
        "drive.mount('/content/drive')\n",
        "#drive.mount('/drive.google.com/drive/folders/1paVzlTQFHpu1Of2xJkx3cFq1qfmo8qZ3')"
      ],
      "execution_count": null,
      "outputs": [
        {
          "output_type": "stream",
          "text": [
            "Drive already mounted at /content/drive; to attempt to forcibly remount, call drive.mount(\"/content/drive\", force_remount=True).\n"
          ],
          "name": "stdout"
        }
      ]
    },
    {
      "cell_type": "code",
      "metadata": {
        "id": "bBI4QzQ2R5Uk",
        "outputId": "677df1ca-8b7c-4211-feff-29ae0ea588c6",
        "colab": {
          "base_uri": "https://localhost:8080/",
          "height": 51
        }
      },
      "source": [
        "cd 'drive/My Drive/Data Science 2 - Project'"
      ],
      "execution_count": null,
      "outputs": [
        {
          "output_type": "stream",
          "text": [
            "[Errno 2] No such file or directory: 'drive/My Drive/Data Science 2 - Project'\n",
            "/content/drive/My Drive/Data Science 2 - Project\n"
          ],
          "name": "stdout"
        }
      ]
    },
    {
      "cell_type": "code",
      "metadata": {
        "id": "4cvGI8_wPSmP",
        "outputId": "2239a051-1028-47f9-b26e-3d725e338018",
        "colab": {
          "base_uri": "https://localhost:8080/",
          "height": 204
        }
      },
      "source": [
        "suicide = pd.read_csv(\"master.csv\",header= 0)\n",
        "suicide.head()"
      ],
      "execution_count": null,
      "outputs": [
        {
          "output_type": "execute_result",
          "data": {
            "text/html": [
              "<div>\n",
              "<style scoped>\n",
              "    .dataframe tbody tr th:only-of-type {\n",
              "        vertical-align: middle;\n",
              "    }\n",
              "\n",
              "    .dataframe tbody tr th {\n",
              "        vertical-align: top;\n",
              "    }\n",
              "\n",
              "    .dataframe thead th {\n",
              "        text-align: right;\n",
              "    }\n",
              "</style>\n",
              "<table border=\"1\" class=\"dataframe\">\n",
              "  <thead>\n",
              "    <tr style=\"text-align: right;\">\n",
              "      <th></th>\n",
              "      <th>country</th>\n",
              "      <th>year</th>\n",
              "      <th>sex</th>\n",
              "      <th>age</th>\n",
              "      <th>suicides_no</th>\n",
              "      <th>population</th>\n",
              "      <th>suicides/100k pop</th>\n",
              "      <th>country-year</th>\n",
              "      <th>HDI for year</th>\n",
              "      <th>gdp_for_year ($)</th>\n",
              "      <th>gdp_per_capita ($)</th>\n",
              "      <th>generation</th>\n",
              "    </tr>\n",
              "  </thead>\n",
              "  <tbody>\n",
              "    <tr>\n",
              "      <th>0</th>\n",
              "      <td>Albania</td>\n",
              "      <td>1987</td>\n",
              "      <td>male</td>\n",
              "      <td>15-24 years</td>\n",
              "      <td>21</td>\n",
              "      <td>312900</td>\n",
              "      <td>6.71</td>\n",
              "      <td>Albania1987</td>\n",
              "      <td>NaN</td>\n",
              "      <td>2,156,624,900</td>\n",
              "      <td>796</td>\n",
              "      <td>Generation X</td>\n",
              "    </tr>\n",
              "    <tr>\n",
              "      <th>1</th>\n",
              "      <td>Albania</td>\n",
              "      <td>1987</td>\n",
              "      <td>male</td>\n",
              "      <td>35-54 years</td>\n",
              "      <td>16</td>\n",
              "      <td>308000</td>\n",
              "      <td>5.19</td>\n",
              "      <td>Albania1987</td>\n",
              "      <td>NaN</td>\n",
              "      <td>2,156,624,900</td>\n",
              "      <td>796</td>\n",
              "      <td>Silent</td>\n",
              "    </tr>\n",
              "    <tr>\n",
              "      <th>2</th>\n",
              "      <td>Albania</td>\n",
              "      <td>1987</td>\n",
              "      <td>female</td>\n",
              "      <td>15-24 years</td>\n",
              "      <td>14</td>\n",
              "      <td>289700</td>\n",
              "      <td>4.83</td>\n",
              "      <td>Albania1987</td>\n",
              "      <td>NaN</td>\n",
              "      <td>2,156,624,900</td>\n",
              "      <td>796</td>\n",
              "      <td>Generation X</td>\n",
              "    </tr>\n",
              "    <tr>\n",
              "      <th>3</th>\n",
              "      <td>Albania</td>\n",
              "      <td>1987</td>\n",
              "      <td>male</td>\n",
              "      <td>75+ years</td>\n",
              "      <td>1</td>\n",
              "      <td>21800</td>\n",
              "      <td>4.59</td>\n",
              "      <td>Albania1987</td>\n",
              "      <td>NaN</td>\n",
              "      <td>2,156,624,900</td>\n",
              "      <td>796</td>\n",
              "      <td>G.I. Generation</td>\n",
              "    </tr>\n",
              "    <tr>\n",
              "      <th>4</th>\n",
              "      <td>Albania</td>\n",
              "      <td>1987</td>\n",
              "      <td>male</td>\n",
              "      <td>25-34 years</td>\n",
              "      <td>9</td>\n",
              "      <td>274300</td>\n",
              "      <td>3.28</td>\n",
              "      <td>Albania1987</td>\n",
              "      <td>NaN</td>\n",
              "      <td>2,156,624,900</td>\n",
              "      <td>796</td>\n",
              "      <td>Boomers</td>\n",
              "    </tr>\n",
              "  </tbody>\n",
              "</table>\n",
              "</div>"
            ],
            "text/plain": [
              "   country  year  ... gdp_per_capita ($)       generation\n",
              "0  Albania  1987  ...                796     Generation X\n",
              "1  Albania  1987  ...                796           Silent\n",
              "2  Albania  1987  ...                796     Generation X\n",
              "3  Albania  1987  ...                796  G.I. Generation\n",
              "4  Albania  1987  ...                796          Boomers\n",
              "\n",
              "[5 rows x 12 columns]"
            ]
          },
          "metadata": {
            "tags": []
          },
          "execution_count": 20
        }
      ]
    },
    {
      "cell_type": "code",
      "metadata": {
        "id": "RngFFCeHO6Sn",
        "outputId": "816b22f3-85c7-4972-ad0e-b6780901d652",
        "colab": {
          "base_uri": "https://localhost:8080/",
          "height": 297
        }
      },
      "source": [
        "#get some stats\n",
        "suicide.describe()"
      ],
      "execution_count": null,
      "outputs": [
        {
          "output_type": "execute_result",
          "data": {
            "text/html": [
              "<div>\n",
              "<style scoped>\n",
              "    .dataframe tbody tr th:only-of-type {\n",
              "        vertical-align: middle;\n",
              "    }\n",
              "\n",
              "    .dataframe tbody tr th {\n",
              "        vertical-align: top;\n",
              "    }\n",
              "\n",
              "    .dataframe thead th {\n",
              "        text-align: right;\n",
              "    }\n",
              "</style>\n",
              "<table border=\"1\" class=\"dataframe\">\n",
              "  <thead>\n",
              "    <tr style=\"text-align: right;\">\n",
              "      <th></th>\n",
              "      <th>year</th>\n",
              "      <th>suicides_no</th>\n",
              "      <th>population</th>\n",
              "      <th>suicides/100k pop</th>\n",
              "      <th>HDI for year</th>\n",
              "      <th>gdp_per_capita ($)</th>\n",
              "    </tr>\n",
              "  </thead>\n",
              "  <tbody>\n",
              "    <tr>\n",
              "      <th>count</th>\n",
              "      <td>27820.000000</td>\n",
              "      <td>27820.000000</td>\n",
              "      <td>2.782000e+04</td>\n",
              "      <td>27820.000000</td>\n",
              "      <td>8364.000000</td>\n",
              "      <td>27820.000000</td>\n",
              "    </tr>\n",
              "    <tr>\n",
              "      <th>mean</th>\n",
              "      <td>2001.258375</td>\n",
              "      <td>242.574407</td>\n",
              "      <td>1.844794e+06</td>\n",
              "      <td>12.816097</td>\n",
              "      <td>0.776601</td>\n",
              "      <td>16866.464414</td>\n",
              "    </tr>\n",
              "    <tr>\n",
              "      <th>std</th>\n",
              "      <td>8.469055</td>\n",
              "      <td>902.047917</td>\n",
              "      <td>3.911779e+06</td>\n",
              "      <td>18.961511</td>\n",
              "      <td>0.093367</td>\n",
              "      <td>18887.576472</td>\n",
              "    </tr>\n",
              "    <tr>\n",
              "      <th>min</th>\n",
              "      <td>1985.000000</td>\n",
              "      <td>0.000000</td>\n",
              "      <td>2.780000e+02</td>\n",
              "      <td>0.000000</td>\n",
              "      <td>0.483000</td>\n",
              "      <td>251.000000</td>\n",
              "    </tr>\n",
              "    <tr>\n",
              "      <th>25%</th>\n",
              "      <td>1995.000000</td>\n",
              "      <td>3.000000</td>\n",
              "      <td>9.749850e+04</td>\n",
              "      <td>0.920000</td>\n",
              "      <td>0.713000</td>\n",
              "      <td>3447.000000</td>\n",
              "    </tr>\n",
              "    <tr>\n",
              "      <th>50%</th>\n",
              "      <td>2002.000000</td>\n",
              "      <td>25.000000</td>\n",
              "      <td>4.301500e+05</td>\n",
              "      <td>5.990000</td>\n",
              "      <td>0.779000</td>\n",
              "      <td>9372.000000</td>\n",
              "    </tr>\n",
              "    <tr>\n",
              "      <th>75%</th>\n",
              "      <td>2008.000000</td>\n",
              "      <td>131.000000</td>\n",
              "      <td>1.486143e+06</td>\n",
              "      <td>16.620000</td>\n",
              "      <td>0.855000</td>\n",
              "      <td>24874.000000</td>\n",
              "    </tr>\n",
              "    <tr>\n",
              "      <th>max</th>\n",
              "      <td>2016.000000</td>\n",
              "      <td>22338.000000</td>\n",
              "      <td>4.380521e+07</td>\n",
              "      <td>224.970000</td>\n",
              "      <td>0.944000</td>\n",
              "      <td>126352.000000</td>\n",
              "    </tr>\n",
              "  </tbody>\n",
              "</table>\n",
              "</div>"
            ],
            "text/plain": [
              "               year   suicides_no  ...  HDI for year  gdp_per_capita ($)\n",
              "count  27820.000000  27820.000000  ...   8364.000000        27820.000000\n",
              "mean    2001.258375    242.574407  ...      0.776601        16866.464414\n",
              "std        8.469055    902.047917  ...      0.093367        18887.576472\n",
              "min     1985.000000      0.000000  ...      0.483000          251.000000\n",
              "25%     1995.000000      3.000000  ...      0.713000         3447.000000\n",
              "50%     2002.000000     25.000000  ...      0.779000         9372.000000\n",
              "75%     2008.000000    131.000000  ...      0.855000        24874.000000\n",
              "max     2016.000000  22338.000000  ...      0.944000       126352.000000\n",
              "\n",
              "[8 rows x 6 columns]"
            ]
          },
          "metadata": {
            "tags": []
          },
          "execution_count": 21
        }
      ]
    },
    {
      "cell_type": "code",
      "metadata": {
        "id": "wwRhrdQ4O_xW",
        "outputId": "2f99782e-6a3d-453b-fff0-10fd418ca8b2",
        "colab": {
          "base_uri": "https://localhost:8080/",
          "height": 340
        }
      },
      "source": [
        "suicide.info()#years 1985-2016"
      ],
      "execution_count": null,
      "outputs": [
        {
          "output_type": "stream",
          "text": [
            "<class 'pandas.core.frame.DataFrame'>\n",
            "RangeIndex: 27820 entries, 0 to 27819\n",
            "Data columns (total 12 columns):\n",
            " #   Column              Non-Null Count  Dtype  \n",
            "---  ------              --------------  -----  \n",
            " 0   country             27820 non-null  object \n",
            " 1   year                27820 non-null  int64  \n",
            " 2   sex                 27820 non-null  object \n",
            " 3   age                 27820 non-null  object \n",
            " 4   suicides_no         27820 non-null  int64  \n",
            " 5   population          27820 non-null  int64  \n",
            " 6   suicides/100k pop   27820 non-null  float64\n",
            " 7   country-year        27820 non-null  object \n",
            " 8   HDI for year        8364 non-null   float64\n",
            " 9    gdp_for_year ($)   27820 non-null  object \n",
            " 10  gdp_per_capita ($)  27820 non-null  int64  \n",
            " 11  generation          27820 non-null  object \n",
            "dtypes: float64(2), int64(4), object(6)\n",
            "memory usage: 2.5+ MB\n"
          ],
          "name": "stdout"
        }
      ]
    },
    {
      "cell_type": "code",
      "metadata": {
        "id": "XXBWxTTeTe5o",
        "outputId": "dbf323ab-ab0e-40cb-a479-b443d84c05f1",
        "colab": {
          "base_uri": "https://localhost:8080/",
          "height": 204
        }
      },
      "source": [
        "#The column headings include spaces and upper case strings\n",
        "#To clean this, remove the spaces and clean the columns\n",
        "suicide.columns = suicide.columns.str.replace(\" \",\"_\")\n",
        "suicide.columns = suicide.columns.str.lower()\n",
        "suicide.columns = suicide.columns.str.strip(\"_\")\n",
        "suicide.head()"
      ],
      "execution_count": null,
      "outputs": [
        {
          "output_type": "execute_result",
          "data": {
            "text/html": [
              "<div>\n",
              "<style scoped>\n",
              "    .dataframe tbody tr th:only-of-type {\n",
              "        vertical-align: middle;\n",
              "    }\n",
              "\n",
              "    .dataframe tbody tr th {\n",
              "        vertical-align: top;\n",
              "    }\n",
              "\n",
              "    .dataframe thead th {\n",
              "        text-align: right;\n",
              "    }\n",
              "</style>\n",
              "<table border=\"1\" class=\"dataframe\">\n",
              "  <thead>\n",
              "    <tr style=\"text-align: right;\">\n",
              "      <th></th>\n",
              "      <th>country</th>\n",
              "      <th>year</th>\n",
              "      <th>sex</th>\n",
              "      <th>age</th>\n",
              "      <th>suicides_no</th>\n",
              "      <th>population</th>\n",
              "      <th>suicides/100k_pop</th>\n",
              "      <th>country-year</th>\n",
              "      <th>hdi_for_year</th>\n",
              "      <th>gdp_for_year_($)</th>\n",
              "      <th>gdp_per_capita_($)</th>\n",
              "      <th>generation</th>\n",
              "    </tr>\n",
              "  </thead>\n",
              "  <tbody>\n",
              "    <tr>\n",
              "      <th>0</th>\n",
              "      <td>Albania</td>\n",
              "      <td>1987</td>\n",
              "      <td>male</td>\n",
              "      <td>15-24 years</td>\n",
              "      <td>21</td>\n",
              "      <td>312900</td>\n",
              "      <td>6.71</td>\n",
              "      <td>Albania1987</td>\n",
              "      <td>NaN</td>\n",
              "      <td>2,156,624,900</td>\n",
              "      <td>796</td>\n",
              "      <td>Generation X</td>\n",
              "    </tr>\n",
              "    <tr>\n",
              "      <th>1</th>\n",
              "      <td>Albania</td>\n",
              "      <td>1987</td>\n",
              "      <td>male</td>\n",
              "      <td>35-54 years</td>\n",
              "      <td>16</td>\n",
              "      <td>308000</td>\n",
              "      <td>5.19</td>\n",
              "      <td>Albania1987</td>\n",
              "      <td>NaN</td>\n",
              "      <td>2,156,624,900</td>\n",
              "      <td>796</td>\n",
              "      <td>Silent</td>\n",
              "    </tr>\n",
              "    <tr>\n",
              "      <th>2</th>\n",
              "      <td>Albania</td>\n",
              "      <td>1987</td>\n",
              "      <td>female</td>\n",
              "      <td>15-24 years</td>\n",
              "      <td>14</td>\n",
              "      <td>289700</td>\n",
              "      <td>4.83</td>\n",
              "      <td>Albania1987</td>\n",
              "      <td>NaN</td>\n",
              "      <td>2,156,624,900</td>\n",
              "      <td>796</td>\n",
              "      <td>Generation X</td>\n",
              "    </tr>\n",
              "    <tr>\n",
              "      <th>3</th>\n",
              "      <td>Albania</td>\n",
              "      <td>1987</td>\n",
              "      <td>male</td>\n",
              "      <td>75+ years</td>\n",
              "      <td>1</td>\n",
              "      <td>21800</td>\n",
              "      <td>4.59</td>\n",
              "      <td>Albania1987</td>\n",
              "      <td>NaN</td>\n",
              "      <td>2,156,624,900</td>\n",
              "      <td>796</td>\n",
              "      <td>G.I. Generation</td>\n",
              "    </tr>\n",
              "    <tr>\n",
              "      <th>4</th>\n",
              "      <td>Albania</td>\n",
              "      <td>1987</td>\n",
              "      <td>male</td>\n",
              "      <td>25-34 years</td>\n",
              "      <td>9</td>\n",
              "      <td>274300</td>\n",
              "      <td>3.28</td>\n",
              "      <td>Albania1987</td>\n",
              "      <td>NaN</td>\n",
              "      <td>2,156,624,900</td>\n",
              "      <td>796</td>\n",
              "      <td>Boomers</td>\n",
              "    </tr>\n",
              "  </tbody>\n",
              "</table>\n",
              "</div>"
            ],
            "text/plain": [
              "   country  year     sex  ... gdp_for_year_($)  gdp_per_capita_($)       generation\n",
              "0  Albania  1987    male  ...    2,156,624,900                 796     Generation X\n",
              "1  Albania  1987    male  ...    2,156,624,900                 796           Silent\n",
              "2  Albania  1987  female  ...    2,156,624,900                 796     Generation X\n",
              "3  Albania  1987    male  ...    2,156,624,900                 796  G.I. Generation\n",
              "4  Albania  1987    male  ...    2,156,624,900                 796          Boomers\n",
              "\n",
              "[5 rows x 12 columns]"
            ]
          },
          "metadata": {
            "tags": []
          },
          "execution_count": 23
        }
      ]
    },
    {
      "cell_type": "code",
      "metadata": {
        "id": "iWhROzvzPEip",
        "outputId": "5bc03efd-9c23-491b-b4a7-0c5ba07d6ca8",
        "colab": {
          "base_uri": "https://localhost:8080/",
          "height": 238
        }
      },
      "source": [
        "#Check for any missing values in the data set\n",
        "suicide.isnull().any()"
      ],
      "execution_count": null,
      "outputs": [
        {
          "output_type": "execute_result",
          "data": {
            "text/plain": [
              "country               False\n",
              "year                  False\n",
              "sex                   False\n",
              "age                   False\n",
              "suicides_no           False\n",
              "population            False\n",
              "suicides/100k_pop     False\n",
              "country-year          False\n",
              "hdi_for_year           True\n",
              "gdp_for_year_($)      False\n",
              "gdp_per_capita_($)    False\n",
              "generation            False\n",
              "dtype: bool"
            ]
          },
          "metadata": {
            "tags": []
          },
          "execution_count": 24
        }
      ]
    },
    {
      "cell_type": "code",
      "metadata": {
        "id": "k04KI33h8oBS",
        "outputId": "585f5add-846f-4ca8-8de4-86662b117162",
        "colab": {
          "base_uri": "https://localhost:8080/",
          "height": 238
        }
      },
      "source": [
        "suicide.dtypes"
      ],
      "execution_count": null,
      "outputs": [
        {
          "output_type": "execute_result",
          "data": {
            "text/plain": [
              "country                object\n",
              "year                    int64\n",
              "sex                    object\n",
              "age                    object\n",
              "suicides_no             int64\n",
              "population              int64\n",
              "suicides/100k_pop     float64\n",
              "country-year           object\n",
              "hdi_for_year          float64\n",
              "gdp_for_year_($)       object\n",
              "gdp_per_capita_($)      int64\n",
              "generation             object\n",
              "dtype: object"
            ]
          },
          "metadata": {
            "tags": []
          },
          "execution_count": 25
        }
      ]
    },
    {
      "cell_type": "code",
      "metadata": {
        "id": "PyAOM7XOPY0s",
        "outputId": "29afdd60-d501-4349-ccb7-71e6332edd04",
        "colab": {
          "base_uri": "https://localhost:8080/",
          "height": 51
        }
      },
      "source": [
        "suicide['age'].unique()"
      ],
      "execution_count": null,
      "outputs": [
        {
          "output_type": "execute_result",
          "data": {
            "text/plain": [
              "array(['15-24 years', '35-54 years', '75+ years', '25-34 years',\n",
              "       '55-74 years', '5-14 years'], dtype=object)"
            ]
          },
          "metadata": {
            "tags": []
          },
          "execution_count": 26
        }
      ]
    },
    {
      "cell_type": "code",
      "metadata": {
        "id": "IBpSKusiPbN6",
        "outputId": "86f5a8f3-2d7d-4e02-b04c-080150df0b6c",
        "colab": {
          "base_uri": "https://localhost:8080/",
          "height": 51
        }
      },
      "source": [
        "suicide['generation'].unique()"
      ],
      "execution_count": null,
      "outputs": [
        {
          "output_type": "execute_result",
          "data": {
            "text/plain": [
              "array(['Generation X', 'Silent', 'G.I. Generation', 'Boomers',\n",
              "       'Millenials', 'Generation Z'], dtype=object)"
            ]
          },
          "metadata": {
            "tags": []
          },
          "execution_count": 27
        }
      ]
    },
    {
      "cell_type": "code",
      "metadata": {
        "id": "x7oGEXYZPkhu"
      },
      "source": [
        "Capitalist_Countries = ['United States', 'Germany', 'Japan', 'Turkey', 'United Kingdom', 'France', 'Italy', 'South Korea',\n",
        "              'Spain', 'Canada', 'Australia', 'Netherlands', 'Belgium', 'Greece', 'Portugal',\n",
        "              'Sweden', 'Austria', 'Switzerland', 'Israel', 'Singapore', 'Denmark', 'Finland', 'Norway', 'Ireland',\n",
        "              'New Zeland', 'Cyprus', 'Luxembourg', 'Iceland']\n",
        "\n",
        "Socialist_Countries = ['Russian Federation', 'Ukraine', 'Poland', 'Uzbekistan', 'Romania', 'Kazakhstan', 'Azerbaijan', 'Czech Republic',\n",
        "               'Hungary', 'Belarus', 'Tajikistan', 'Serbia', 'Bulgaria', 'Slovakia', 'Croatia', 'Maldova', 'Georgia',\n",
        "               'Bosnia And Herzegovina', 'Albania', 'Armenia', 'Lithuania', 'Latvia', 'Brazil', 'Chile', 'Argentina',\n",
        "               'China', 'India', 'Bolivia', 'Romenia', 'Slovenia', 'Estonia',]"
      ],
      "execution_count": null,
      "outputs": []
    },
    {
      "cell_type": "code",
      "metadata": {
        "id": "uUvt5ldjPlL0"
      },
      "source": [
        "#populate array\n",
        "all_countries = []\n",
        "for i in range(len(suicide)):\n",
        "\n",
        "    if suicide['country'][i] in Capitalist_Countries:\n",
        "        all_countries.append('1')\n",
        "    elif suicide['country'][i] in Socialist_Countries:\n",
        "        all_countries.append('2')\n",
        "    else:\n",
        "        all_countries.append('3')\n",
        "\n",
        "#suicide['country_world'] = country_world"
      ],
      "execution_count": null,
      "outputs": []
    },
    {
      "cell_type": "code",
      "metadata": {
        "id": "I_NkYyaAP6oG",
        "outputId": "88bbc105-3ef6-40f7-cfaa-e28f07ee0994",
        "colab": {
          "base_uri": "https://localhost:8080/",
          "height": 365
        }
      },
      "source": [
        "suicide_plots = suicide.groupby('year') \\\n",
        "       .agg(suicide_rate=('suicides/100k_pop', 'mean')) \\\n",
        "       .reset_index()\n",
        "suicide_plots.head()\n",
        "#'''suicides_no_year = []\n",
        "#pop_no_year = []\n",
        "#for y in suicide['year'].unique():\n",
        "#    suicides_no_year.append(sum(suicide[suicide['year'] == y]['suicides_no']))\n",
        "#    pop_no_year.append(sum(suicide['year']==y['population']))\n",
        "#\n",
        "#n_suicides_year = pd.DataFrame(suicides_no_year, columns=['suicides_no_year'])\n",
        "#n_suicides_year['year'] = suicide['year'].unique()\n",
        "#\n",
        "#top_year = n_suicides_year.sort_values('suicides_no_year', ascending=False)['year']\n",
        "#top_suicides = n_suicides_year.sort_values('suicides_no_year', ascending=False)['suicides_no_year']\n",
        "#\n",
        "plt.figure(figsize=(8,5))\n",
        "plt.xticks(rotation=90)\n",
        "sns.barplot(x = suicide_plots.year, y = suicide_plots.suicide_rate).set_title('Suicide Rate by Year')\n",
        "plt.show()\n",
        "#'''\n"
      ],
      "execution_count": null,
      "outputs": [
        {
          "output_type": "display_data",
          "data": {
            "image/png": "[encoded data removed]",
            "text/plain": [
              "<Figure size 576x360 with 1 Axes>"
            ]
          },
          "metadata": {
            "tags": [],
            "needs_background": "light"
          }
        }
      ]
    },
    {
      "cell_type": "markdown",
      "metadata": {
        "id": "WhIeOZLC3aDy"
      },
      "source": [
        "Based on the figure above, there is an increase in the number of suicides since 1990. However, this could have been a lack of data gathering due to data collection limitations before the 90s."
      ]
    },
    {
      "cell_type": "code",
      "metadata": {
        "id": "EIwvjUDWQLn3",
        "outputId": "596c437a-1a0d-4be2-a141-32a22e862bfc",
        "colab": {
          "base_uri": "https://localhost:8080/",
          "height": 310
        }
      },
      "source": [
        "suicides_no_age = []\n",
        "\n",
        "for a in suicide['age'].unique():\n",
        "    suicides_no_age.append(sum(suicide[suicide['age'] == a]['suicides_no']))\n",
        "\n",
        "plt.xticks(rotation=30)\n",
        "order=['5-14 years','15-24 years','25-34 years','35-54 years','55-74 years','75+ years']\n",
        "ax = sns.barplot(x = suicide['age'].unique(), y = suicides_no_age)\n",
        "ax.set_title('Suicide Count by Age')\n",
        "plt.show()"
      ],
      "execution_count": null,
      "outputs": [
        {
          "output_type": "display_data",
          "data": {
            "image/png": "[encoded data removed]",
            "text/plain": [
              "<Figure size 432x288 with 1 Axes>"
            ]
          },
          "metadata": {
            "tags": [],
            "needs_background": "light"
          }
        }
      ]
    },
    {
      "cell_type": "code",
      "metadata": {
        "id": "jPIvMhDugrwU",
        "outputId": "916afa54-087d-4d4d-8457-a4030b153884",
        "colab": {
          "base_uri": "https://localhost:8080/",
          "height": 399
        }
      },
      "source": [
        "suicide_plots = suicide.groupby('age').agg(suicide_rate=('suicides/100k_pop', 'mean')).reset_index()\n",
        "\n",
        "plt.figure(figsize=(8,5))\n",
        "plt.xticks(rotation=90)\n",
        "sns.barplot(x = suicide_plots.age, y = suicide_plots.suicide_rate).set_title('Suicide Rate by Year')\n",
        "plt.show()"
      ],
      "execution_count": null,
      "outputs": [
        {
          "output_type": "display_data",
          "data": {
            "image/png": "[encoded data removed]",
            "text/plain": [
              "<Figure size 576x360 with 1 Axes>"
            ]
          },
          "metadata": {
            "tags": [],
            "needs_background": "light"
          }
        }
      ]
    },
    {
      "cell_type": "markdown",
      "metadata": {
        "id": "XBpgHMsJ6S_v"
      },
      "source": [
        "People aged '35 to 54' have the highest suicide count. '55 to 74' have the second highest suicide count."
      ]
    },
    {
      "cell_type": "code",
      "metadata": {
        "id": "aCWYSqKOQYul",
        "outputId": "f4039e4f-1ffb-4e9b-ce86-8b62887aa460",
        "colab": {
          "base_uri": "https://localhost:8080/",
          "height": 281
        }
      },
      "source": [
        "suicides_no_sex = []\n",
        "\n",
        "for s in suicide['sex'].unique():\n",
        "    suicides_no_sex.append(sum(suicide[suicide['sex'] == s]['suicides_no']))\n",
        "\n",
        "sns.barplot(x = suicide['sex'].unique(), y = suicides_no_sex).set_title('Suicide by Sex')\n",
        "plt.show()"
      ],
      "execution_count": null,
      "outputs": [
        {
          "output_type": "display_data",
          "data": {
            "image/png": "[encoded data removed]",
            "text/plain": [
              "<Figure size 432x288 with 1 Axes>"
            ]
          },
          "metadata": {
            "tags": [],
            "needs_background": "light"
          }
        }
      ]
    },
    {
      "cell_type": "code",
      "metadata": {
        "id": "aDf13shFQf7T",
        "outputId": "4834b3d0-e1bc-4022-9db2-bb3816b6f962",
        "colab": {
          "base_uri": "https://localhost:8080/",
          "height": 297
        }
      },
      "source": [
        "ax = sns.catplot(x='sex', y='suicides_no',col='age', data=suicide, estimator=np.median,height=4, aspect=.7,kind='bar')"
      ],
      "execution_count": null,
      "outputs": [
        {
          "output_type": "display_data",
          "data": {
            "image/png": "[encoded data removed]",
            "text/plain": [
              "<Figure size 1209.6x288 with 6 Axes>"
            ]
          },
          "metadata": {
            "tags": [],
            "needs_background": "light"
          }
        }
      ]
    },
    {
      "cell_type": "markdown",
      "metadata": {
        "id": "KZSQuZlI9o_1"
      },
      "source": [
        "Based on the dataset, males are more likely to commit suicide than females across all age groups (overall, males have approximately 4 times higher suicide count than females)."
      ]
    },
    {
      "cell_type": "code",
      "metadata": {
        "id": "uNxDgt2xQlTC",
        "outputId": "8887ee69-3665-4696-f96e-79ff369ff66c",
        "colab": {
          "base_uri": "https://localhost:8080/",
          "height": 295
        }
      },
      "source": [
        "suicides_no_country = []\n",
        "for c in suicide['country'].unique():\n",
        "    suicides_no_country.append(sum(suicide[suicide['country'] == c]['suicides_no']))\n",
        "\n",
        "n_suicides_country = pd.DataFrame(suicides_no_country, columns=['suicides_no_country'])\n",
        "n_suicides_country['country'] = suicide['country'].unique()\n",
        "\n",
        "quant = 15\n",
        "top_countries = n_suicides_country.sort_values('suicides_no_country', ascending=False)['country'][:quant]\n",
        "top_suicides = n_suicides_country.sort_values('suicides_no_country', ascending=False)['suicides_no_country'][:quant]\n",
        "ax = sns.barplot(x = top_suicides, y = top_countries)\n",
        "ax.set_title('Country Comparsion')\n",
        "ax.set_xlabel('Suicide Count')\n",
        "ax.set_ylabel('Country')\n",
        "plt.show()"
      ],
      "execution_count": null,
      "outputs": [
        {
          "output_type": "display_data",
          "data": {
            "image/png": "[encoded data removed]",
            "text/plain": [
              "<Figure size 432x288 with 1 Axes>"
            ]
          },
          "metadata": {
            "tags": [],
            "needs_background": "light"
          }
        }
      ]
    },
    {
      "cell_type": "markdown",
      "metadata": {
        "id": "wPI4JPLH-KX0"
      },
      "source": [
        "Total suicide counts by country. The top three countries are Russia, USA, and Japan."
      ]
    },
    {
      "cell_type": "code",
      "metadata": {
        "id": "4N2zZOywQ4Cr",
        "outputId": "7851e96a-edc5-441d-9154-a535e74d3839",
        "colab": {
          "base_uri": "https://localhost:8080/",
          "height": 336
        }
      },
      "source": [
        "suicides_no_gen=[]\n",
        "for g in suicide['generation'].unique():\n",
        "    suicides_no_gen.append(sum(suicide[suicide['generation'] == g]['suicides_no']))\n",
        "\n",
        "plt.figure(figsize=(8,5))\n",
        "sns.barplot(x = suicide['generation'].unique(), y = suicides_no_gen).set_title('Suicide by Generation')\n",
        "plt.show()"
      ],
      "execution_count": null,
      "outputs": [
        {
          "output_type": "display_data",
          "data": {
            "image/png": "[encoded data removed]",
            "text/plain": [
              "<Figure size 576x360 with 1 Axes>"
            ]
          },
          "metadata": {
            "tags": [],
            "needs_background": "light"
          }
        }
      ]
    },
    {
      "cell_type": "markdown",
      "metadata": {
        "id": "ksDHcedE_K9C"
      },
      "source": [
        "The high suicide count for Boomers is also reflected on the plot for 'Suicide by Age' (ages of 52 to 70 as this dataset was compiled in 2016)."
      ]
    },
    {
      "cell_type": "code",
      "metadata": {
        "id": "_j-e24eRRMF6",
        "outputId": "cb76ef0e-4764-48ad-ed2c-14a2eca69e13",
        "colab": {
          "base_uri": "https://localhost:8080/",
          "height": 297
        }
      },
      "source": [
        "sns.scatterplot(x = 'gdp_for_year_($)', y = 'suicides_no', data = suicide)"
      ],
      "execution_count": null,
      "outputs": [
        {
          "output_type": "execute_result",
          "data": {
            "text/plain": [
              "<matplotlib.axes._subplots.AxesSubplot at 0x7f0941483b38>"
            ]
          },
          "metadata": {
            "tags": []
          },
          "execution_count": 20
        },
        {
          "output_type": "display_data",
          "data": {
            "image/png": "[encoded data removed]",
            "text/plain": [
              "<Figure size 432x288 with 1 Axes>"
            ]
          },
          "metadata": {
            "tags": [],
            "needs_background": "light"
          }
        }
      ]
    },
    {
      "cell_type": "code",
      "metadata": {
        "id": "WEEfNloSROMe",
        "outputId": "f9f15b9f-1dfb-4bad-ff91-d9bab93ec0ee",
        "colab": {
          "base_uri": "https://localhost:8080/",
          "height": 296
        }
      },
      "source": [
        "sns.scatterplot(x = 'gdp_per_capita_($)', y = 'suicides_no', data = suicide).set_title('GDP per Capita vs Suicides')\n",
        "plt.show()"
      ],
      "execution_count": null,
      "outputs": [
        {
          "output_type": "display_data",
          "data": {
            "image/png": "[encoded data removed]",
            "text/plain": [
              "<Figure size 432x288 with 1 Axes>"
            ]
          },
          "metadata": {
            "tags": [],
            "needs_background": "light"
          }
        }
      ]
    },
    {
      "cell_type": "markdown",
      "metadata": {
        "id": "cfmmv6m6DJYg"
      },
      "source": [
        "GDP per Captia is a measure of a country's economic output that accounts for its number of people (GDP/Total Pop). Scatter plot of GDP per Capita vs Suicide count suggest that in general, lower standard of living or impoverished countries have a higher suicide rate. Though, from 20,000, the suicide count increases with GDP per Capita."
      ]
    },
    {
      "cell_type": "code",
      "metadata": {
        "id": "A4MOmPdqRWFT",
        "outputId": "7f9ea39d-a504-49f6-ed18-25733a9dad56",
        "colab": {
          "base_uri": "https://localhost:8080/",
          "height": 530
        }
      },
      "source": [
        "plt.figure(figsize=(8,7))\n",
        "sns.heatmap(suicide.corr(), cmap = 'coolwarm', annot=True).set_title('Attributes Correlation Analysis')\n",
        "plt.show()\n"
      ],
      "execution_count": null,
      "outputs": [
        {
          "output_type": "display_data",
          "data": {
            "image/png": "[encoded data removed]",
            "text/plain": [
              "<Figure size 576x504 with 2 Axes>"
            ]
          },
          "metadata": {
            "tags": [],
            "needs_background": "light"
          }
        }
      ]
    },
    {
      "cell_type": "markdown",
      "metadata": {
        "id": "itAZglhQM7rq"
      },
      "source": [
        "Based on the heatmap generated above, it is observed that there is a high correlation between popluation and the number of suicides. A high correlation is also observed between GDP per Capita and HDI (Human development Index). This observation is reasonable as the HDI is a statistic composite index of life expectancy, education, and per capita income indicators."
      ]
    },
    {
      "cell_type": "code",
      "metadata": {
        "id": "KMSBip4dRZJM",
        "outputId": "d7bf184f-09b7-48ec-e26c-966bc544d17f",
        "colab": {
          "base_uri": "https://localhost:8080/",
          "height": 406
        }
      },
      "source": [
        "countries = ['Canada', 'United States', 'Mexico', 'Italy', 'Sapin', 'Germany', 'Japan', 'Australia', 'France']\n",
        "df_filtred = suicide[[suicide['country'][i] in countries for i in range(len(suicide))]]\n",
        "\n",
        "plt.figure(figsize=(12,6))\n",
        "sns.boxplot(x = 'suicides/100k_pop', y = 'country', data = df_filtred)"
      ],
      "execution_count": null,
      "outputs": [
        {
          "output_type": "execute_result",
          "data": {
            "text/plain": [
              "<matplotlib.axes._subplots.AxesSubplot at 0x7f09445d95c0>"
            ]
          },
          "metadata": {
            "tags": []
          },
          "execution_count": 23
        },
        {
          "output_type": "display_data",
          "data": {
            "image/png": "[encoded data removed]",
            "text/plain": [
              "<Figure size 864x432 with 1 Axes>"
            ]
          },
          "metadata": {
            "tags": [],
            "needs_background": "light"
          }
        }
      ]
    },
    {
      "cell_type": "code",
      "metadata": {
        "id": "kPEz1xxyWE07",
        "outputId": "6c0dd53f-4d1b-4804-9d04-44b867f81853",
        "colab": {
          "base_uri": "https://localhost:8080/",
          "height": 204
        }
      },
      "source": [
        "suicide['gdp_for_year_($)'] = suicide['gdp_for_year_($)'].str.replace(',', '').astype(float)\n",
        "suicide = suicide.groupby('country') \\\n",
        "       .agg(suicides_count=('suicides_no', 'size'), gdp_per_capita=('gdp_per_capita_($)', 'mean'), gdp=('gdp_for_year_($)', 'mean')) \\\n",
        "       .reset_index()\n",
        "suicide.head()"
      ],
      "execution_count": null,
      "outputs": [
        {
          "output_type": "execute_result",
          "data": {
            "text/html": [
              "<div>\n",
              "<style scoped>\n",
              "    .dataframe tbody tr th:only-of-type {\n",
              "        vertical-align: middle;\n",
              "    }\n",
              "\n",
              "    .dataframe tbody tr th {\n",
              "        vertical-align: top;\n",
              "    }\n",
              "\n",
              "    .dataframe thead th {\n",
              "        text-align: right;\n",
              "    }\n",
              "</style>\n",
              "<table border=\"1\" class=\"dataframe\">\n",
              "  <thead>\n",
              "    <tr style=\"text-align: right;\">\n",
              "      <th></th>\n",
              "      <th>country</th>\n",
              "      <th>suicides_count</th>\n",
              "      <th>gdp_per_capita</th>\n",
              "      <th>gdp</th>\n",
              "    </tr>\n",
              "  </thead>\n",
              "  <tbody>\n",
              "    <tr>\n",
              "      <th>0</th>\n",
              "      <td>Albania</td>\n",
              "      <td>264</td>\n",
              "      <td>1859.045455</td>\n",
              "      <td>5.211661e+09</td>\n",
              "    </tr>\n",
              "    <tr>\n",
              "      <th>1</th>\n",
              "      <td>Antigua and Barbuda</td>\n",
              "      <td>324</td>\n",
              "      <td>10448.185185</td>\n",
              "      <td>8.035452e+08</td>\n",
              "    </tr>\n",
              "    <tr>\n",
              "      <th>2</th>\n",
              "      <td>Argentina</td>\n",
              "      <td>372</td>\n",
              "      <td>7914.096774</td>\n",
              "      <td>2.742565e+11</td>\n",
              "    </tr>\n",
              "    <tr>\n",
              "      <th>3</th>\n",
              "      <td>Armenia</td>\n",
              "      <td>298</td>\n",
              "      <td>1873.919463</td>\n",
              "      <td>5.386592e+09</td>\n",
              "    </tr>\n",
              "    <tr>\n",
              "      <th>4</th>\n",
              "      <td>Aruba</td>\n",
              "      <td>168</td>\n",
              "      <td>24221.642857</td>\n",
              "      <td>2.196223e+09</td>\n",
              "    </tr>\n",
              "  </tbody>\n",
              "</table>\n",
              "</div>"
            ],
            "text/plain": [
              "               country  suicides_count  gdp_per_capita           gdp\n",
              "0              Albania             264     1859.045455  5.211661e+09\n",
              "1  Antigua and Barbuda             324    10448.185185  8.035452e+08\n",
              "2            Argentina             372     7914.096774  2.742565e+11\n",
              "3              Armenia             298     1873.919463  5.386592e+09\n",
              "4                Aruba             168    24221.642857  2.196223e+09"
            ]
          },
          "metadata": {
            "tags": []
          },
          "execution_count": 24
        }
      ]
    },
    {
      "cell_type": "code",
      "metadata": {
        "id": "xkEab5g61JRS",
        "outputId": "28fc91cd-78fe-4989-b8de-883a356c9bff",
        "colab": {
          "base_uri": "https://localhost:8080/",
          "height": 170
        }
      },
      "source": [
        "#To compare how the GDP and suicide rates are related, calculate the total number of suicides in a country\n",
        "#Bin the GDP's in three categories [Low, Medium, High]\n",
        "#The GDP's that fall in the lower 25% will be classified as low and similarly the top 25% will be classified as High. The remaining 50% will be Medium\n",
        "suicide[\"gdp_per_capita\"].describe()\n",
        "#Based on the below, we get our bin values"
      ],
      "execution_count": null,
      "outputs": [
        {
          "output_type": "execute_result",
          "data": {
            "text/plain": [
              "count      101.000000\n",
              "mean     15928.198677\n",
              "std      16368.116583\n",
              "min        720.730769\n",
              "25%       4124.000000\n",
              "50%       8829.037037\n",
              "75%      25836.391304\n",
              "max      68798.387097\n",
              "Name: gdp_per_capita, dtype: float64"
            ]
          },
          "metadata": {
            "tags": []
          },
          "execution_count": 25
        }
      ]
    },
    {
      "cell_type": "code",
      "metadata": {
        "id": "3NZEz4yJ_P5K",
        "outputId": "05b24916-646d-4eff-b4c0-78be1d6092b1",
        "colab": {
          "base_uri": "https://localhost:8080/",
          "height": 204
        }
      },
      "source": [
        "bins = [0,4124,25836,69000]\n",
        "bin_labels = [\"Low\",\"Medium\",\"High\"]\n",
        "suicide[\"GDP_level\"] = pd.cut(suicide[\"gdp_per_capita\"],bins, right = False, labels = bin_labels)\n",
        "suicide.head()"
      ],
      "execution_count": null,
      "outputs": [
        {
          "output_type": "execute_result",
          "data": {
            "text/html": [
              "<div>\n",
              "<style scoped>\n",
              "    .dataframe tbody tr th:only-of-type {\n",
              "        vertical-align: middle;\n",
              "    }\n",
              "\n",
              "    .dataframe tbody tr th {\n",
              "        vertical-align: top;\n",
              "    }\n",
              "\n",
              "    .dataframe thead th {\n",
              "        text-align: right;\n",
              "    }\n",
              "</style>\n",
              "<table border=\"1\" class=\"dataframe\">\n",
              "  <thead>\n",
              "    <tr style=\"text-align: right;\">\n",
              "      <th></th>\n",
              "      <th>country</th>\n",
              "      <th>suicides_count</th>\n",
              "      <th>gdp_per_capita</th>\n",
              "      <th>gdp</th>\n",
              "      <th>GDP_level</th>\n",
              "    </tr>\n",
              "  </thead>\n",
              "  <tbody>\n",
              "    <tr>\n",
              "      <th>0</th>\n",
              "      <td>Albania</td>\n",
              "      <td>264</td>\n",
              "      <td>1859.045455</td>\n",
              "      <td>5.211661e+09</td>\n",
              "      <td>Low</td>\n",
              "    </tr>\n",
              "    <tr>\n",
              "      <th>1</th>\n",
              "      <td>Antigua and Barbuda</td>\n",
              "      <td>324</td>\n",
              "      <td>10448.185185</td>\n",
              "      <td>8.035452e+08</td>\n",
              "      <td>Medium</td>\n",
              "    </tr>\n",
              "    <tr>\n",
              "      <th>2</th>\n",
              "      <td>Argentina</td>\n",
              "      <td>372</td>\n",
              "      <td>7914.096774</td>\n",
              "      <td>2.742565e+11</td>\n",
              "      <td>Medium</td>\n",
              "    </tr>\n",
              "    <tr>\n",
              "      <th>3</th>\n",
              "      <td>Armenia</td>\n",
              "      <td>298</td>\n",
              "      <td>1873.919463</td>\n",
              "      <td>5.386592e+09</td>\n",
              "      <td>Low</td>\n",
              "    </tr>\n",
              "    <tr>\n",
              "      <th>4</th>\n",
              "      <td>Aruba</td>\n",
              "      <td>168</td>\n",
              "      <td>24221.642857</td>\n",
              "      <td>2.196223e+09</td>\n",
              "      <td>Medium</td>\n",
              "    </tr>\n",
              "  </tbody>\n",
              "</table>\n",
              "</div>"
            ],
            "text/plain": [
              "               country  suicides_count  gdp_per_capita           gdp GDP_level\n",
              "0              Albania             264     1859.045455  5.211661e+09       Low\n",
              "1  Antigua and Barbuda             324    10448.185185  8.035452e+08    Medium\n",
              "2            Argentina             372     7914.096774  2.742565e+11    Medium\n",
              "3              Armenia             298     1873.919463  5.386592e+09       Low\n",
              "4                Aruba             168    24221.642857  2.196223e+09    Medium"
            ]
          },
          "metadata": {
            "tags": []
          },
          "execution_count": 26
        }
      ]
    },
    {
      "cell_type": "code",
      "metadata": {
        "id": "_riVQSWGAdwb",
        "outputId": "b3eba252-7e8c-4394-8367-9cc0e947cab1",
        "colab": {
          "base_uri": "https://localhost:8080/",
          "height": 419
        }
      },
      "source": [
        "suicide.round(2)"
      ],
      "execution_count": null,
      "outputs": [
        {
          "output_type": "execute_result",
          "data": {
            "text/html": [
              "<div>\n",
              "<style scoped>\n",
              "    .dataframe tbody tr th:only-of-type {\n",
              "        vertical-align: middle;\n",
              "    }\n",
              "\n",
              "    .dataframe tbody tr th {\n",
              "        vertical-align: top;\n",
              "    }\n",
              "\n",
              "    .dataframe thead th {\n",
              "        text-align: right;\n",
              "    }\n",
              "</style>\n",
              "<table border=\"1\" class=\"dataframe\">\n",
              "  <thead>\n",
              "    <tr style=\"text-align: right;\">\n",
              "      <th></th>\n",
              "      <th>country</th>\n",
              "      <th>suicides_count</th>\n",
              "      <th>gdp_per_capita</th>\n",
              "      <th>gdp</th>\n",
              "      <th>GDP_level</th>\n",
              "    </tr>\n",
              "  </thead>\n",
              "  <tbody>\n",
              "    <tr>\n",
              "      <th>0</th>\n",
              "      <td>Albania</td>\n",
              "      <td>264</td>\n",
              "      <td>1859.05</td>\n",
              "      <td>5.211661e+09</td>\n",
              "      <td>Low</td>\n",
              "    </tr>\n",
              "    <tr>\n",
              "      <th>1</th>\n",
              "      <td>Antigua and Barbuda</td>\n",
              "      <td>324</td>\n",
              "      <td>10448.19</td>\n",
              "      <td>8.035452e+08</td>\n",
              "      <td>Medium</td>\n",
              "    </tr>\n",
              "    <tr>\n",
              "      <th>2</th>\n",
              "      <td>Argentina</td>\n",
              "      <td>372</td>\n",
              "      <td>7914.10</td>\n",
              "      <td>2.742565e+11</td>\n",
              "      <td>Medium</td>\n",
              "    </tr>\n",
              "    <tr>\n",
              "      <th>3</th>\n",
              "      <td>Armenia</td>\n",
              "      <td>298</td>\n",
              "      <td>1873.92</td>\n",
              "      <td>5.386592e+09</td>\n",
              "      <td>Low</td>\n",
              "    </tr>\n",
              "    <tr>\n",
              "      <th>4</th>\n",
              "      <td>Aruba</td>\n",
              "      <td>168</td>\n",
              "      <td>24221.64</td>\n",
              "      <td>2.196223e+09</td>\n",
              "      <td>Medium</td>\n",
              "    </tr>\n",
              "    <tr>\n",
              "      <th>...</th>\n",
              "      <td>...</td>\n",
              "      <td>...</td>\n",
              "      <td>...</td>\n",
              "      <td>...</td>\n",
              "      <td>...</td>\n",
              "    </tr>\n",
              "    <tr>\n",
              "      <th>96</th>\n",
              "      <td>United Arab Emirates</td>\n",
              "      <td>72</td>\n",
              "      <td>42162.00</td>\n",
              "      <td>2.532432e+11</td>\n",
              "      <td>High</td>\n",
              "    </tr>\n",
              "    <tr>\n",
              "      <th>97</th>\n",
              "      <td>United Kingdom</td>\n",
              "      <td>372</td>\n",
              "      <td>31908.35</td>\n",
              "      <td>1.816067e+12</td>\n",
              "      <td>High</td>\n",
              "    </tr>\n",
              "    <tr>\n",
              "      <th>98</th>\n",
              "      <td>United States</td>\n",
              "      <td>372</td>\n",
              "      <td>39269.61</td>\n",
              "      <td>1.051071e+13</td>\n",
              "      <td>High</td>\n",
              "    </tr>\n",
              "    <tr>\n",
              "      <th>99</th>\n",
              "      <td>Uruguay</td>\n",
              "      <td>336</td>\n",
              "      <td>7622.07</td>\n",
              "      <td>2.337827e+10</td>\n",
              "      <td>Medium</td>\n",
              "    </tr>\n",
              "    <tr>\n",
              "      <th>100</th>\n",
              "      <td>Uzbekistan</td>\n",
              "      <td>264</td>\n",
              "      <td>976.18</td>\n",
              "      <td>2.286003e+10</td>\n",
              "      <td>Low</td>\n",
              "    </tr>\n",
              "  </tbody>\n",
              "</table>\n",
              "<p>101 rows × 5 columns</p>\n",
              "</div>"
            ],
            "text/plain": [
              "                  country  suicides_count  ...           gdp  GDP_level\n",
              "0                 Albania             264  ...  5.211661e+09        Low\n",
              "1     Antigua and Barbuda             324  ...  8.035452e+08     Medium\n",
              "2               Argentina             372  ...  2.742565e+11     Medium\n",
              "3                 Armenia             298  ...  5.386592e+09        Low\n",
              "4                   Aruba             168  ...  2.196223e+09     Medium\n",
              "..                    ...             ...  ...           ...        ...\n",
              "96   United Arab Emirates              72  ...  2.532432e+11       High\n",
              "97         United Kingdom             372  ...  1.816067e+12       High\n",
              "98          United States             372  ...  1.051071e+13       High\n",
              "99                Uruguay             336  ...  2.337827e+10     Medium\n",
              "100            Uzbekistan             264  ...  2.286003e+10        Low\n",
              "\n",
              "[101 rows x 5 columns]"
            ]
          },
          "metadata": {
            "tags": []
          },
          "execution_count": 27
        }
      ]
    },
    {
      "cell_type": "code",
      "metadata": {
        "id": "VgHcyLxykfPa",
        "outputId": "43df6980-ec88-4d73-f5d1-5655ccd3c103",
        "colab": {
          "base_uri": "https://localhost:8080/",
          "height": 579
        }
      },
      "source": [
        "plt.figure(figsize=(15,4))\n",
        "sns.scatterplot(x = \"suicides_count\", y = \"gdp\", hue=\"GDP_level\", data = suicide).set_title('GDP vs. Suicide Count')\n",
        "plt.figure(figsize=(15,4))\n",
        "sns.scatterplot(x = \"gdp\", y = \"suicides_count\", hue=\"GDP_level\", data = suicide)"
      ],
      "execution_count": null,
      "outputs": [
        {
          "output_type": "execute_result",
          "data": {
            "text/plain": [
              "<matplotlib.axes._subplots.AxesSubplot at 0x7f093fe33a20>"
            ]
          },
          "metadata": {
            "tags": []
          },
          "execution_count": 28
        },
        {
          "output_type": "display_data",
          "data": {
            "image/png": "[encoded data removed]",
            "text/plain": [
              "<Figure size 1080x288 with 1 Axes>"
            ]
          },
          "metadata": {
            "tags": [],
            "needs_background": "light"
          }
        },
        {
          "output_type": "display_data",
          "data": {
            "image/png": "[encoded data removed]",
            "text/plain": [
              "<Figure size 1080x288 with 1 Axes>"
            ]
          },
          "metadata": {
            "tags": [],
            "needs_background": "light"
          }
        }
      ]
    },
    {
      "cell_type": "code",
      "metadata": {
        "id": "GrqC59vgo6Yd"
      },
      "source": [
        "def outliers_calc(df):\n",
        "  mean, std = np.mean(df), np.std(df)\n",
        "  cut = 3*std\n",
        "  lower = mean - cut\n",
        "  upper = mean + cut\n",
        "\n",
        "  outliers_upper = [x for x in df if x > upper]\n",
        "  outliers_lower = [x for x in df if x < lower]\n",
        "\n",
        "  print(\"Identified low outliers: %d\" %len(outliers_lower))\n",
        "  print(\"Identified upper outliers: %d\" %len(outliers_upper))\n",
        "  return\n"
      ],
      "execution_count": null,
      "outputs": []
    },
    {
      "cell_type": "code",
      "metadata": {
        "id": "VE_Ws3WzjmFD",
        "outputId": "927682fd-f477-4978-e34a-ecb0f5e18671",
        "colab": {
          "base_uri": "https://localhost:8080/",
          "height": 51
        }
      },
      "source": [
        "outliers_calc(suicide[\"gdp\"])"
      ],
      "execution_count": null,
      "outputs": [
        {
          "output_type": "stream",
          "text": [
            "Identified low outliers: 0\n",
            "Identified upper outliers: 2\n"
          ],
          "name": "stdout"
        }
      ]
    },
    {
      "cell_type": "code",
      "metadata": {
        "id": "lFlLEx1jwMqk"
      },
      "source": [
        "#This adds country codes which are used by the choropleth map\n",
        "df_temp = pd.read_csv('https://raw.githubusercontent.com/plotly/datasets/master/2014_world_gdp_with_codes.csv')\n",
        "df_temp.columns = ['country','gdp','code']\n",
        "df_temp = df_temp.drop(\"gdp\", axis=1)\n",
        "suicide = pd.merge(suicide, df_temp, on='country')\n"
      ],
      "execution_count": null,
      "outputs": []
    },
    {
      "cell_type": "code",
      "metadata": {
        "id": "SvsLq4LSwPS8",
        "outputId": "a96c52de-1ac0-4fda-e594-e7184b6fa6a6",
        "colab": {
          "base_uri": "https://localhost:8080/",
          "height": 542
        }
      },
      "source": [
        "fig = go.Figure(data=go.Choropleth(\n",
        "    locations = suicide['code'],\n",
        "    z = suicide['suicides_count'],\n",
        "    text = suicide['country'],\n",
        "    colorscale = 'Rainbow',\n",
        "    autocolorscale=False,\n",
        "    reversescale=False,\n",
        "    marker_line_color='darkgray',\n",
        "    marker_line_width=0.5,\n",
        "    colorbar_title = 'Number of suicides',\n",
        "))\n",
        "\n",
        "fig.update_layout(\n",
        "    title_text='Number of suicides 1985-2016',\n",
        "    geo=dict(\n",
        "        showframe=False,\n",
        "        showcoastlines=False,\n",
        "        projection_type='equirectangular'\n",
        "    ),\n",
        "    annotations = [dict(\n",
        "        x=0.55,\n",
        "        y=0.1,\n",
        "        xref='paper',\n",
        "        yref='paper',\n",
        "        text='Source: <a href=\"https://www.kaggle.com/russellyates88/suicide-rates-overview-1985-to-2016\">\\\n",
        "            Kaggle</a>',\n",
        "        showarrow = False\n",
        "    )]\n",
        ")\n",
        "\n",
        "fig.show()"
      ],
      "execution_count": null,
      "outputs": [
        {
          "output_type": "display_data",
          "data": {
            "text/html": [
              "<html>\n",
              "<head><meta charset=\"utf-8\" /></head>\n",
              "<body>\n",
              "    <div>\n",
              "            <script src=\"https://cdnjs.cloudflare.com/ajax/libs/mathjax/2.7.5/MathJax.js?config=TeX-AMS-MML_SVG\"></script><script type=\"text/javascript\">if (window.MathJax) {MathJax.Hub.Config({SVG: {font: \"STIX-Web\"}});}</script>\n",
              "                <script type=\"text/javascript\">window.PlotlyConfig = {MathJaxConfig: 'local'};</script>\n",
              "        <script src=\"https://cdn.plot.ly/plotly-latest.min.js\"></script>    \n",
              "            <div id=\"4a0082bf-1216-4431-9f4f-e38134c3e2ea\" class=\"plotly-graph-div\" style=\"height:525px; width:100%;\"></div>\n",
              "            <script type=\"text/javascript\">\n",
              "                \n",
              "                    window.PLOTLYENV=window.PLOTLYENV || {};\n",
              "                    \n",
              "                if (document.getElementById(\"4a0082bf-1216-4431-9f4f-e38134c3e2ea\")) {\n",
              "                    Plotly.newPlot(\n",
              "                        '4a0082bf-1216-4431-9f4f-e38134c3e2ea',\n",
              "                        [{\"autocolorscale\": false, \"colorbar\": {\"title\": {\"text\": \"Number of suicides\"}}, \"colorscale\": [[0.0, \"rgb(150,0,90)\"], [0.125, \"rgb(0,0,200)\"], [0.25, \"rgb(0,25,255)\"], [0.375, \"rgb(0,152,255)\"], [0.5, \"rgb(44,255,150)\"], [0.625, \"rgb(151,255,0)\"], [0.75, \"rgb(255,234,0)\"], [0.875, \"rgb(255,111,0)\"], [1.0, \"rgb(255,0,0)\"]], \"locations\": [\"ALB\", \"ATG\", \"ARG\", \"ARM\", \"ABW\", \"AUS\", \"AUT\", \"AZE\", \"BHR\", \"BRB\", \"BLR\", \"BEL\", \"BLZ\", \"BIH\", \"BRA\", \"BGR\", \"CPV\", \"CAN\", \"CHL\", \"COL\", \"CRI\", \"HRV\", \"CUB\", \"CYP\", \"CZE\", \"DNK\", \"DMA\", \"ECU\", \"SLV\", \"EST\", \"FJI\", \"FIN\", \"FRA\", \"GEO\", \"DEU\", \"GRC\", \"GRD\", \"GTM\", \"GUY\", \"HUN\", \"ISL\", \"IRL\", \"ISR\", \"ITA\", \"JAM\", \"JPN\", \"KAZ\", \"KIR\", \"KWT\", \"KGZ\", \"LVA\", \"LTU\", \"LUX\", \"MAC\", \"MDV\", \"MLT\", \"MUS\", \"MEX\", \"MNG\", \"MNE\", \"NLD\", \"NZL\", \"NIC\", \"NOR\", \"OMN\", \"PAN\", \"PRY\", \"PHL\", \"POL\", \"PRT\", \"PRI\", \"QAT\", \"ROU\", \"KNA\", \"LCA\", \"SMR\", \"SRB\", \"SYC\", \"SGP\", \"SVK\", \"SVN\", \"ZAF\", \"ESP\", \"LKA\", \"SUR\", \"SWE\", \"CHE\", \"THA\", \"TTO\", \"TUR\", \"TKM\", \"UKR\", \"ARE\", \"GBR\", \"USA\", \"URY\", \"UZB\"], \"marker\": {\"line\": {\"color\": \"darkgray\", \"width\": 0.5}}, \"reversescale\": false, \"text\": [\"Albania\", \"Antigua and Barbuda\", \"Argentina\", \"Armenia\", \"Aruba\", \"Australia\", \"Austria\", \"Azerbaijan\", \"Bahrain\", \"Barbados\", \"Belarus\", \"Belgium\", \"Belize\", \"Bosnia and Herzegovina\", \"Brazil\", \"Bulgaria\", \"Cabo Verde\", \"Canada\", \"Chile\", \"Colombia\", \"Costa Rica\", \"Croatia\", \"Cuba\", \"Cyprus\", \"Czech Republic\", \"Denmark\", \"Dominica\", \"Ecuador\", \"El Salvador\", \"Estonia\", \"Fiji\", \"Finland\", \"France\", \"Georgia\", \"Germany\", \"Greece\", \"Grenada\", \"Guatemala\", \"Guyana\", \"Hungary\", \"Iceland\", \"Ireland\", \"Israel\", \"Italy\", \"Jamaica\", \"Japan\", \"Kazakhstan\", \"Kiribati\", \"Kuwait\", \"Kyrgyzstan\", \"Latvia\", \"Lithuania\", \"Luxembourg\", \"Macau\", \"Maldives\", \"Malta\", \"Mauritius\", \"Mexico\", \"Mongolia\", \"Montenegro\", \"Netherlands\", \"New Zealand\", \"Nicaragua\", \"Norway\", \"Oman\", \"Panama\", \"Paraguay\", \"Philippines\", \"Poland\", \"Portugal\", \"Puerto Rico\", \"Qatar\", \"Romania\", \"Saint Kitts and Nevis\", \"Saint Lucia\", \"San Marino\", \"Serbia\", \"Seychelles\", \"Singapore\", \"Slovakia\", \"Slovenia\", \"South Africa\", \"Spain\", \"Sri Lanka\", \"Suriname\", \"Sweden\", \"Switzerland\", \"Thailand\", \"Trinidad and Tobago\", \"Turkey\", \"Turkmenistan\", \"Ukraine\", \"United Arab Emirates\", \"United Kingdom\", \"United States\", \"Uruguay\", \"Uzbekistan\"], \"type\": \"choropleth\", \"z\": [264, 324, 372, 298, 168, 360, 382, 192, 252, 300, 252, 372, 336, 24, 372, 360, 12, 348, 372, 372, 360, 262, 288, 178, 322, 264, 12, 372, 288, 252, 132, 348, 360, 264, 312, 372, 310, 360, 300, 310, 382, 360, 372, 372, 204, 372, 312, 132, 300, 312, 252, 262, 372, 12, 120, 372, 382, 372, 10, 120, 382, 348, 72, 360, 36, 300, 324, 180, 288, 324, 372, 178, 334, 36, 336, 36, 216, 216, 372, 264, 252, 240, 372, 132, 336, 358, 252, 334, 324, 84, 348, 336, 72, 372, 372, 336, 264]}],\n",
              "                        {\"annotations\": [{\"showarrow\": false, \"text\": \"Source: <a href=\\\"https://www.kaggle.com/russellyates88/suicide-rates-overview-1985-to-2016\\\">            Kaggle</a>\", \"x\": 0.55, \"xref\": \"paper\", \"y\": 0.1, \"yref\": \"paper\"}], \"geo\": {\"projection\": {\"type\": \"equirectangular\"}, \"showcoastlines\": false, \"showframe\": false}, \"template\": {\"data\": {\"bar\": [{\"error_x\": {\"color\": \"#2a3f5f\"}, \"error_y\": {\"color\": \"#2a3f5f\"}, \"marker\": {\"line\": {\"color\": \"#E5ECF6\", \"width\": 0.5}}, \"type\": \"bar\"}], \"barpolar\": [{\"marker\": {\"line\": {\"color\": \"#E5ECF6\", \"width\": 0.5}}, \"type\": \"barpolar\"}], \"carpet\": [{\"aaxis\": {\"endlinecolor\": \"#2a3f5f\", \"gridcolor\": \"white\", \"linecolor\": \"white\", \"minorgridcolor\": \"white\", \"startlinecolor\": \"#2a3f5f\"}, \"baxis\": {\"endlinecolor\": \"#2a3f5f\", \"gridcolor\": \"white\", \"linecolor\": \"white\", \"minorgridcolor\": \"white\", \"startlinecolor\": \"#2a3f5f\"}, \"type\": \"carpet\"}], \"choropleth\": [{\"colorbar\": {\"outlinewidth\": 0, \"ticks\": \"\"}, \"type\": \"choropleth\"}], \"contour\": [{\"colorbar\": {\"outlinewidth\": 0, \"ticks\": \"\"}, \"colorscale\": [[0.0, \"#0d0887\"], [0.1111111111111111, \"#46039f\"], [0.2222222222222222, \"#7201a8\"], [0.3333333333333333, \"#9c179e\"], [0.4444444444444444, \"#bd3786\"], [0.5555555555555556, \"#d8576b\"], [0.6666666666666666, \"#ed7953\"], [0.7777777777777778, \"#fb9f3a\"], [0.8888888888888888, \"#fdca26\"], [1.0, \"#f0f921\"]], \"type\": \"contour\"}], \"contourcarpet\": [{\"colorbar\": {\"outlinewidth\": 0, \"ticks\": \"\"}, \"type\": \"contourcarpet\"}], \"heatmap\": [{\"colorbar\": {\"outlinewidth\": 0, \"ticks\": \"\"}, \"colorscale\": [[0.0, \"#0d0887\"], [0.1111111111111111, \"#46039f\"], [0.2222222222222222, \"#7201a8\"], [0.3333333333333333, \"#9c179e\"], [0.4444444444444444, \"#bd3786\"], [0.5555555555555556, \"#d8576b\"], [0.6666666666666666, \"#ed7953\"], [0.7777777777777778, \"#fb9f3a\"], [0.8888888888888888, \"#fdca26\"], [1.0, \"#f0f921\"]], \"type\": \"heatmap\"}], \"heatmapgl\": [{\"colorbar\": {\"outlinewidth\": 0, \"ticks\": \"\"}, \"colorscale\": [[0.0, \"#0d0887\"], [0.1111111111111111, \"#46039f\"], [0.2222222222222222, \"#7201a8\"], [0.3333333333333333, \"#9c179e\"], [0.4444444444444444, \"#bd3786\"], [0.5555555555555556, \"#d8576b\"], [0.6666666666666666, \"#ed7953\"], [0.7777777777777778, \"#fb9f3a\"], [0.8888888888888888, \"#fdca26\"], [1.0, \"#f0f921\"]], \"type\": \"heatmapgl\"}], \"histogram\": [{\"marker\": {\"colorbar\": {\"outlinewidth\": 0, \"ticks\": \"\"}}, \"type\": \"histogram\"}], \"histogram2d\": [{\"colorbar\": {\"outlinewidth\": 0, \"ticks\": \"\"}, \"colorscale\": [[0.0, \"#0d0887\"], [0.1111111111111111, \"#46039f\"], [0.2222222222222222, \"#7201a8\"], [0.3333333333333333, \"#9c179e\"], [0.4444444444444444, \"#bd3786\"], [0.5555555555555556, \"#d8576b\"], [0.6666666666666666, \"#ed7953\"], [0.7777777777777778, \"#fb9f3a\"], [0.8888888888888888, \"#fdca26\"], [1.0, \"#f0f921\"]], \"type\": \"histogram2d\"}], \"histogram2dcontour\": [{\"colorbar\": {\"outlinewidth\": 0, \"ticks\": \"\"}, \"colorscale\": [[0.0, \"#0d0887\"], [0.1111111111111111, \"#46039f\"], [0.2222222222222222, \"#7201a8\"], [0.3333333333333333, \"#9c179e\"], [0.4444444444444444, \"#bd3786\"], [0.5555555555555556, \"#d8576b\"], [0.6666666666666666, \"#ed7953\"], [0.7777777777777778, \"#fb9f3a\"], [0.8888888888888888, \"#fdca26\"], [1.0, \"#f0f921\"]], \"type\": \"histogram2dcontour\"}], \"mesh3d\": [{\"colorbar\": {\"outlinewidth\": 0, \"ticks\": \"\"}, \"type\": \"mesh3d\"}], \"parcoords\": [{\"line\": {\"colorbar\": {\"outlinewidth\": 0, \"ticks\": \"\"}}, \"type\": \"parcoords\"}], \"pie\": [{\"automargin\": true, \"type\": \"pie\"}], \"scatter\": [{\"marker\": {\"colorbar\": {\"outlinewidth\": 0, \"ticks\": \"\"}}, \"type\": \"scatter\"}], \"scatter3d\": [{\"line\": {\"colorbar\": {\"outlinewidth\": 0, \"ticks\": \"\"}}, \"marker\": {\"colorbar\": {\"outlinewidth\": 0, \"ticks\": \"\"}}, \"type\": \"scatter3d\"}], \"scattercarpet\": [{\"marker\": {\"colorbar\": {\"outlinewidth\": 0, \"ticks\": \"\"}}, \"type\": \"scattercarpet\"}], \"scattergeo\": [{\"marker\": {\"colorbar\": {\"outlinewidth\": 0, \"ticks\": \"\"}}, \"type\": \"scattergeo\"}], \"scattergl\": [{\"marker\": {\"colorbar\": {\"outlinewidth\": 0, \"ticks\": \"\"}}, \"type\": \"scattergl\"}], \"scattermapbox\": [{\"marker\": {\"colorbar\": {\"outlinewidth\": 0, \"ticks\": \"\"}}, \"type\": \"scattermapbox\"}], \"scatterpolar\": [{\"marker\": {\"colorbar\": {\"outlinewidth\": 0, \"ticks\": \"\"}}, \"type\": \"scatterpolar\"}], \"scatterpolargl\": [{\"marker\": {\"colorbar\": {\"outlinewidth\": 0, \"ticks\": \"\"}}, \"type\": \"scatterpolargl\"}], \"scatterternary\": [{\"marker\": {\"colorbar\": {\"outlinewidth\": 0, \"ticks\": \"\"}}, \"type\": \"scatterternary\"}], \"surface\": [{\"colorbar\": {\"outlinewidth\": 0, \"ticks\": \"\"}, \"colorscale\": [[0.0, \"#0d0887\"], [0.1111111111111111, \"#46039f\"], [0.2222222222222222, \"#7201a8\"], [0.3333333333333333, \"#9c179e\"], [0.4444444444444444, \"#bd3786\"], [0.5555555555555556, \"#d8576b\"], [0.6666666666666666, \"#ed7953\"], [0.7777777777777778, \"#fb9f3a\"], [0.8888888888888888, \"#fdca26\"], [1.0, \"#f0f921\"]], \"type\": \"surface\"}], \"table\": [{\"cells\": {\"fill\": {\"color\": \"#EBF0F8\"}, \"line\": {\"color\": \"white\"}}, \"header\": {\"fill\": {\"color\": \"#C8D4E3\"}, \"line\": {\"color\": \"white\"}}, \"type\": \"table\"}]}, \"layout\": {\"annotationdefaults\": {\"arrowcolor\": \"#2a3f5f\", \"arrowhead\": 0, \"arrowwidth\": 1}, \"coloraxis\": {\"colorbar\": {\"outlinewidth\": 0, \"ticks\": \"\"}}, \"colorscale\": {\"diverging\": [[0, \"#8e0152\"], [0.1, \"#c51b7d\"], [0.2, \"#de77ae\"], [0.3, \"#f1b6da\"], [0.4, \"#fde0ef\"], [0.5, \"#f7f7f7\"], [0.6, \"#e6f5d0\"], [0.7, \"#b8e186\"], [0.8, \"#7fbc41\"], [0.9, \"#4d9221\"], [1, \"#276419\"]], \"sequential\": [[0.0, \"#0d0887\"], [0.1111111111111111, \"#46039f\"], [0.2222222222222222, \"#7201a8\"], [0.3333333333333333, \"#9c179e\"], [0.4444444444444444, \"#bd3786\"], [0.5555555555555556, \"#d8576b\"], [0.6666666666666666, \"#ed7953\"], [0.7777777777777778, \"#fb9f3a\"], [0.8888888888888888, \"#fdca26\"], [1.0, \"#f0f921\"]], \"sequentialminus\": [[0.0, \"#0d0887\"], [0.1111111111111111, \"#46039f\"], [0.2222222222222222, \"#7201a8\"], [0.3333333333333333, \"#9c179e\"], [0.4444444444444444, \"#bd3786\"], [0.5555555555555556, \"#d8576b\"], [0.6666666666666666, \"#ed7953\"], [0.7777777777777778, \"#fb9f3a\"], [0.8888888888888888, \"#fdca26\"], [1.0, \"#f0f921\"]]}, \"colorway\": [\"#636efa\", \"#EF553B\", \"#00cc96\", \"#ab63fa\", \"#FFA15A\", \"#19d3f3\", \"#FF6692\", \"#B6E880\", \"#FF97FF\", \"#FECB52\"], \"font\": {\"color\": \"#2a3f5f\"}, \"geo\": {\"bgcolor\": \"white\", \"lakecolor\": \"white\", \"landcolor\": \"#E5ECF6\", \"showlakes\": true, \"showland\": true, \"subunitcolor\": \"white\"}, \"hoverlabel\": {\"align\": \"left\"}, \"hovermode\": \"closest\", \"mapbox\": {\"style\": \"light\"}, \"paper_bgcolor\": \"white\", \"plot_bgcolor\": \"#E5ECF6\", \"polar\": {\"angularaxis\": {\"gridcolor\": \"white\", \"linecolor\": \"white\", \"ticks\": \"\"}, \"bgcolor\": \"#E5ECF6\", \"radialaxis\": {\"gridcolor\": \"white\", \"linecolor\": \"white\", \"ticks\": \"\"}}, \"scene\": {\"xaxis\": {\"backgroundcolor\": \"#E5ECF6\", \"gridcolor\": \"white\", \"gridwidth\": 2, \"linecolor\": \"white\", \"showbackground\": true, \"ticks\": \"\", \"zerolinecolor\": \"white\"}, \"yaxis\": {\"backgroundcolor\": \"#E5ECF6\", \"gridcolor\": \"white\", \"gridwidth\": 2, \"linecolor\": \"white\", \"showbackground\": true, \"ticks\": \"\", \"zerolinecolor\": \"white\"}, \"zaxis\": {\"backgroundcolor\": \"#E5ECF6\", \"gridcolor\": \"white\", \"gridwidth\": 2, \"linecolor\": \"white\", \"showbackground\": true, \"ticks\": \"\", \"zerolinecolor\": \"white\"}}, \"shapedefaults\": {\"line\": {\"color\": \"#2a3f5f\"}}, \"ternary\": {\"aaxis\": {\"gridcolor\": \"white\", \"linecolor\": \"white\", \"ticks\": \"\"}, \"baxis\": {\"gridcolor\": \"white\", \"linecolor\": \"white\", \"ticks\": \"\"}, \"bgcolor\": \"#E5ECF6\", \"caxis\": {\"gridcolor\": \"white\", \"linecolor\": \"white\", \"ticks\": \"\"}}, \"title\": {\"x\": 0.05}, \"xaxis\": {\"automargin\": true, \"gridcolor\": \"white\", \"linecolor\": \"white\", \"ticks\": \"\", \"title\": {\"standoff\": 15}, \"zerolinecolor\": \"white\", \"zerolinewidth\": 2}, \"yaxis\": {\"automargin\": true, \"gridcolor\": \"white\", \"linecolor\": \"white\", \"ticks\": \"\", \"title\": {\"standoff\": 15}, \"zerolinecolor\": \"white\", \"zerolinewidth\": 2}}}, \"title\": {\"text\": \"Number of suicides 1985-2016\"}},\n",
              "                        {\"responsive\": true}\n",
              "                    ).then(function(){\n",
              "                            \n",
              "var gd = document.getElementById('4a0082bf-1216-4431-9f4f-e38134c3e2ea');\n",
              "var x = new MutationObserver(function (mutations, observer) {{\n",
              "        var display = window.getComputedStyle(gd).display;\n",
              "        if (!display || display === 'none') {{\n",
              "            console.log([gd, 'removed!']);\n",
              "            Plotly.purge(gd);\n",
              "            observer.disconnect();\n",
              "        }}\n",
              "}});\n",
              "\n",
              "// Listen for the removal of the full notebook cells\n",
              "var notebookContainer = gd.closest('#notebook-container');\n",
              "if (notebookContainer) {{\n",
              "    x.observe(notebookContainer, {childList: true});\n",
              "}}\n",
              "\n",
              "// Listen for the clearing of the current output cell\n",
              "var outputEl = gd.closest('.output');\n",
              "if (outputEl) {{\n",
              "    x.observe(outputEl, {childList: true});\n",
              "}}\n",
              "\n",
              "                        })\n",
              "                };\n",
              "                \n",
              "            </script>\n",
              "        </div>\n",
              "</body>\n",
              "</html>"
            ]
          },
          "metadata": {
            "tags": []
          }
        }
      ]
    },
    {
      "cell_type": "code",
      "metadata": {
        "id": "KZlc3YO581Gl",
        "outputId": "a1bbb239-5585-4505-ee5a-5d1b6b233d1b",
        "colab": {
          "base_uri": "https://localhost:8080/",
          "height": 542
        }
      },
      "source": [
        "fig = go.Figure(data=go.Choropleth(\n",
        "    locations = suicide['code'],\n",
        "    z = suicide['gdp_per_capita'],\n",
        "    text = suicide['country'],\n",
        "    colorscale = 'Greens',\n",
        "    autocolorscale=False,\n",
        "    reversescale=False,\n",
        "    marker_line_color='darkgray',\n",
        "    marker_line_width=0.5,\n",
        "    colorbar_tickprefix = '$',\n",
        "    colorbar_title = 'GDP per capita',\n",
        "))\n",
        "\n",
        "fig.update_layout(\n",
        "    title_text='GDP per capita USD ($)',\n",
        "    geo=dict(\n",
        "        showframe=False,\n",
        "        showcoastlines=False,\n",
        "        projection_type='equirectangular'\n",
        "    ),\n",
        "    annotations = [dict(\n",
        "        x=0.55,\n",
        "        y=0.1,\n",
        "        xref='paper',\n",
        "        yref='paper',\n",
        "        text='Source: <a href=\"https://www.kaggle.com/russellyates88/suicide-rates-overview-1985-to-2016\">\\\n",
        "            Kaggle</a>',\n",
        "        showarrow = False\n",
        "    )]\n",
        ")\n",
        "\n",
        "fig.show()"
      ],
      "execution_count": null,
      "outputs": [
        {
          "output_type": "display_data",
          "data": {
            "text/html": [
              "<html>\n",
              "<head><meta charset=\"utf-8\" /></head>\n",
              "<body>\n",
              "    <div>\n",
              "            <script src=\"https://cdnjs.cloudflare.com/ajax/libs/mathjax/2.7.5/MathJax.js?config=TeX-AMS-MML_SVG\"></script><script type=\"text/javascript\">if (window.MathJax) {MathJax.Hub.Config({SVG: {font: \"STIX-Web\"}});}</script>\n",
              "                <script type=\"text/javascript\">window.PlotlyConfig = {MathJaxConfig: 'local'};</script>\n",
              "        <script src=\"https://cdn.plot.ly/plotly-latest.min.js\"></script>    \n",
              "            <div id=\"22f28f8b-b74d-47ff-847e-c7cb32095335\" class=\"plotly-graph-div\" style=\"height:525px; width:100%;\"></div>\n",
              "            <script type=\"text/javascript\">\n",
              "                \n",
              "                    window.PLOTLYENV=window.PLOTLYENV || {};\n",
              "                    \n",
              "                if (document.getElementById(\"22f28f8b-b74d-47ff-847e-c7cb32095335\")) {\n",
              "                    Plotly.newPlot(\n",
              "                        '22f28f8b-b74d-47ff-847e-c7cb32095335',\n",
              "                        [{\"autocolorscale\": false, \"colorbar\": {\"tickprefix\": \"$\", \"title\": {\"text\": \"GDP per capita\"}}, \"colorscale\": [[0.0, \"rgb(247,252,245)\"], [0.125, \"rgb(229,245,224)\"], [0.25, \"rgb(199,233,192)\"], [0.375, \"rgb(161,217,155)\"], [0.5, \"rgb(116,196,118)\"], [0.625, \"rgb(65,171,93)\"], [0.75, \"rgb(35,139,69)\"], [0.875, \"rgb(0,109,44)\"], [1.0, \"rgb(0,68,27)\"]], \"locations\": [\"ALB\", \"ATG\", \"ARG\", \"ARM\", \"ABW\", \"AUS\", \"AUT\", \"AZE\", \"BHR\", \"BRB\", \"BLR\", \"BEL\", \"BLZ\", \"BIH\", \"BRA\", \"BGR\", \"CPV\", \"CAN\", \"CHL\", \"COL\", \"CRI\", \"HRV\", \"CUB\", \"CYP\", \"CZE\", \"DNK\", \"DMA\", \"ECU\", \"SLV\", \"EST\", \"FJI\", \"FIN\", \"FRA\", \"GEO\", \"DEU\", \"GRC\", \"GRD\", \"GTM\", \"GUY\", \"HUN\", \"ISL\", \"IRL\", \"ISR\", \"ITA\", \"JAM\", \"JPN\", \"KAZ\", \"KIR\", \"KWT\", \"KGZ\", \"LVA\", \"LTU\", \"LUX\", \"MAC\", \"MDV\", \"MLT\", \"MUS\", \"MEX\", \"MNG\", \"MNE\", \"NLD\", \"NZL\", \"NIC\", \"NOR\", \"OMN\", \"PAN\", \"PRY\", \"PHL\", \"POL\", \"PRT\", \"PRI\", \"QAT\", \"ROU\", \"KNA\", \"LCA\", \"SMR\", \"SRB\", \"SYC\", \"SGP\", \"SVK\", \"SVN\", \"ZAF\", \"ESP\", \"LKA\", \"SUR\", \"SWE\", \"CHE\", \"THA\", \"TTO\", \"TUR\", \"TKM\", \"UKR\", \"ARE\", \"GBR\", \"USA\", \"URY\", \"UZB\"], \"marker\": {\"line\": {\"color\": \"darkgray\", \"width\": 0.5}}, \"reversescale\": false, \"text\": [\"Albania\", \"Antigua and Barbuda\", \"Argentina\", \"Armenia\", \"Aruba\", \"Australia\", \"Austria\", \"Azerbaijan\", \"Bahrain\", \"Barbados\", \"Belarus\", \"Belgium\", \"Belize\", \"Bosnia and Herzegovina\", \"Brazil\", \"Bulgaria\", \"Cabo Verde\", \"Canada\", \"Chile\", \"Colombia\", \"Costa Rica\", \"Croatia\", \"Cuba\", \"Cyprus\", \"Czech Republic\", \"Denmark\", \"Dominica\", \"Ecuador\", \"El Salvador\", \"Estonia\", \"Fiji\", \"Finland\", \"France\", \"Georgia\", \"Germany\", \"Greece\", \"Grenada\", \"Guatemala\", \"Guyana\", \"Hungary\", \"Iceland\", \"Ireland\", \"Israel\", \"Italy\", \"Jamaica\", \"Japan\", \"Kazakhstan\", \"Kiribati\", \"Kuwait\", \"Kyrgyzstan\", \"Latvia\", \"Lithuania\", \"Luxembourg\", \"Macau\", \"Maldives\", \"Malta\", \"Mauritius\", \"Mexico\", \"Mongolia\", \"Montenegro\", \"Netherlands\", \"New Zealand\", \"Nicaragua\", \"Norway\", \"Oman\", \"Panama\", \"Paraguay\", \"Philippines\", \"Poland\", \"Portugal\", \"Puerto Rico\", \"Qatar\", \"Romania\", \"Saint Kitts and Nevis\", \"Saint Lucia\", \"San Marino\", \"Serbia\", \"Seychelles\", \"Singapore\", \"Slovakia\", \"Slovenia\", \"South Africa\", \"Spain\", \"Sri Lanka\", \"Suriname\", \"Sweden\", \"Switzerland\", \"Thailand\", \"Trinidad and Tobago\", \"Turkey\", \"Turkmenistan\", \"Ukraine\", \"United Arab Emirates\", \"United Kingdom\", \"United States\", \"Uruguay\", \"Uzbekistan\"], \"type\": \"choropleth\", \"z\": [1859.0454545454545, 10448.185185185184, 7914.096774193548, 1873.9194630872482, 24221.64285714286, 32776.4, 34261.780104712045, 1005.125, 18039.52380952381, 12251.0, 3333.904761904762, 32066.74193548387, 4006.464285714286, 5077.5, 6091.4838709677415, 3640.4333333333334, 4124.0, 30887.48275862069, 7493.064516129032, 3708.967741935484, 5149.7, 10355.870229007634, 4351.166666666667, 27668.224719101123, 12369.546583850932, 49299.90909090909, 1485.0, 3286.2580645161293, 2550.6666666666665, 11376.095238095239, 3913.2727272727275, 35468.275862068964, 31481.466666666667, 1893.1363636363637, 35164.230769230766, 17019.387096774193, 6209.406451612903, 2263.5333333333333, 1674.92, 9370.051612903226, 39274.75392670157, 34230.86666666667, 23125.451612903227, 26602.58064516129, 3301.235294117647, 36397.54838709677, 5329.115384615385, 875.9090909090909, 27819.0, 720.7307692307693, 8961.095238095239, 9280.54961832061, 68798.3870967742, 18081.0, 5088.9, 14044.41935483871, 5506.659685863874, 7138.451612903225, 4145.0, 4195.6, 35714.67015706806, 22279.48275862069, 2028.8333333333333, 57319.6, 20740.666666666668, 6626.52, 2365.777777777778, 1540.2, 8146.458333333333, 14176.296296296296, 18352.645161290322, 67756.44943820225, 4791.449101796407, 5525.0, 5789.035714285715, 53663.666666666664, 4471.277777777777, 10655.722222222223, 38050.25806451613, 10526.0, 18642.238095238095, 5589.5, 20982.16129032258, 904.2727272727273, 4351.964285714285, 41357.57541899441, 62981.76190476191, 3572.1616766467064, 8829.037037037036, 12134.285714285714, 2618.103448275862, 1867.5357142857142, 42162.0, 31908.354838709678, 39269.6129032258, 7622.071428571428, 976.1818181818181]}],\n",
              "                        {\"annotations\": [{\"showarrow\": false, \"text\": \"Source: <a href=\\\"https://www.kaggle.com/russellyates88/suicide-rates-overview-1985-to-2016\\\">            Kaggle</a>\", \"x\": 0.55, \"xref\": \"paper\", \"y\": 0.1, \"yref\": \"paper\"}], \"geo\": {\"projection\": {\"type\": \"equirectangular\"}, \"showcoastlines\": false, \"showframe\": false}, \"template\": {\"data\": {\"bar\": [{\"error_x\": {\"color\": \"#2a3f5f\"}, \"error_y\": {\"color\": \"#2a3f5f\"}, \"marker\": {\"line\": {\"color\": \"#E5ECF6\", \"width\": 0.5}}, \"type\": \"bar\"}], \"barpolar\": [{\"marker\": {\"line\": {\"color\": \"#E5ECF6\", \"width\": 0.5}}, \"type\": \"barpolar\"}], \"carpet\": [{\"aaxis\": {\"endlinecolor\": \"#2a3f5f\", \"gridcolor\": \"white\", \"linecolor\": \"white\", \"minorgridcolor\": \"white\", \"startlinecolor\": \"#2a3f5f\"}, \"baxis\": {\"endlinecolor\": \"#2a3f5f\", \"gridcolor\": \"white\", \"linecolor\": \"white\", \"minorgridcolor\": \"white\", \"startlinecolor\": \"#2a3f5f\"}, \"type\": \"carpet\"}], \"choropleth\": [{\"colorbar\": {\"outlinewidth\": 0, \"ticks\": \"\"}, \"type\": \"choropleth\"}], \"contour\": [{\"colorbar\": {\"outlinewidth\": 0, \"ticks\": \"\"}, \"colorscale\": [[0.0, \"#0d0887\"], [0.1111111111111111, \"#46039f\"], [0.2222222222222222, \"#7201a8\"], [0.3333333333333333, \"#9c179e\"], [0.4444444444444444, \"#bd3786\"], [0.5555555555555556, \"#d8576b\"], [0.6666666666666666, \"#ed7953\"], [0.7777777777777778, \"#fb9f3a\"], [0.8888888888888888, \"#fdca26\"], [1.0, \"#f0f921\"]], \"type\": \"contour\"}], \"contourcarpet\": [{\"colorbar\": {\"outlinewidth\": 0, \"ticks\": \"\"}, \"type\": \"contourcarpet\"}], \"heatmap\": [{\"colorbar\": {\"outlinewidth\": 0, \"ticks\": \"\"}, \"colorscale\": [[0.0, \"#0d0887\"], [0.1111111111111111, \"#46039f\"], [0.2222222222222222, \"#7201a8\"], [0.3333333333333333, \"#9c179e\"], [0.4444444444444444, \"#bd3786\"], [0.5555555555555556, \"#d8576b\"], [0.6666666666666666, \"#ed7953\"], [0.7777777777777778, \"#fb9f3a\"], [0.8888888888888888, \"#fdca26\"], [1.0, \"#f0f921\"]], \"type\": \"heatmap\"}], \"heatmapgl\": [{\"colorbar\": {\"outlinewidth\": 0, \"ticks\": \"\"}, \"colorscale\": [[0.0, \"#0d0887\"], [0.1111111111111111, \"#46039f\"], [0.2222222222222222, \"#7201a8\"], [0.3333333333333333, \"#9c179e\"], [0.4444444444444444, \"#bd3786\"], [0.5555555555555556, \"#d8576b\"], [0.6666666666666666, \"#ed7953\"], [0.7777777777777778, \"#fb9f3a\"], [0.8888888888888888, \"#fdca26\"], [1.0, \"#f0f921\"]], \"type\": \"heatmapgl\"}], \"histogram\": [{\"marker\": {\"colorbar\": {\"outlinewidth\": 0, \"ticks\": \"\"}}, \"type\": \"histogram\"}], \"histogram2d\": [{\"colorbar\": {\"outlinewidth\": 0, \"ticks\": \"\"}, \"colorscale\": [[0.0, \"#0d0887\"], [0.1111111111111111, \"#46039f\"], [0.2222222222222222, \"#7201a8\"], [0.3333333333333333, \"#9c179e\"], [0.4444444444444444, \"#bd3786\"], [0.5555555555555556, \"#d8576b\"], [0.6666666666666666, \"#ed7953\"], [0.7777777777777778, \"#fb9f3a\"], [0.8888888888888888, \"#fdca26\"], [1.0, \"#f0f921\"]], \"type\": \"histogram2d\"}], \"histogram2dcontour\": [{\"colorbar\": {\"outlinewidth\": 0, \"ticks\": \"\"}, \"colorscale\": [[0.0, \"#0d0887\"], [0.1111111111111111, \"#46039f\"], [0.2222222222222222, \"#7201a8\"], [0.3333333333333333, \"#9c179e\"], [0.4444444444444444, \"#bd3786\"], [0.5555555555555556, \"#d8576b\"], [0.6666666666666666, \"#ed7953\"], [0.7777777777777778, \"#fb9f3a\"], [0.8888888888888888, \"#fdca26\"], [1.0, \"#f0f921\"]], \"type\": \"histogram2dcontour\"}], \"mesh3d\": [{\"colorbar\": {\"outlinewidth\": 0, \"ticks\": \"\"}, \"type\": \"mesh3d\"}], \"parcoords\": [{\"line\": {\"colorbar\": {\"outlinewidth\": 0, \"ticks\": \"\"}}, \"type\": \"parcoords\"}], \"pie\": [{\"automargin\": true, \"type\": \"pie\"}], \"scatter\": [{\"marker\": {\"colorbar\": {\"outlinewidth\": 0, \"ticks\": \"\"}}, \"type\": \"scatter\"}], \"scatter3d\": [{\"line\": {\"colorbar\": {\"outlinewidth\": 0, \"ticks\": \"\"}}, \"marker\": {\"colorbar\": {\"outlinewidth\": 0, \"ticks\": \"\"}}, \"type\": \"scatter3d\"}], \"scattercarpet\": [{\"marker\": {\"colorbar\": {\"outlinewidth\": 0, \"ticks\": \"\"}}, \"type\": \"scattercarpet\"}], \"scattergeo\": [{\"marker\": {\"colorbar\": {\"outlinewidth\": 0, \"ticks\": \"\"}}, \"type\": \"scattergeo\"}], \"scattergl\": [{\"marker\": {\"colorbar\": {\"outlinewidth\": 0, \"ticks\": \"\"}}, \"type\": \"scattergl\"}], \"scattermapbox\": [{\"marker\": {\"colorbar\": {\"outlinewidth\": 0, \"ticks\": \"\"}}, \"type\": \"scattermapbox\"}], \"scatterpolar\": [{\"marker\": {\"colorbar\": {\"outlinewidth\": 0, \"ticks\": \"\"}}, \"type\": \"scatterpolar\"}], \"scatterpolargl\": [{\"marker\": {\"colorbar\": {\"outlinewidth\": 0, \"ticks\": \"\"}}, \"type\": \"scatterpolargl\"}], \"scatterternary\": [{\"marker\": {\"colorbar\": {\"outlinewidth\": 0, \"ticks\": \"\"}}, \"type\": \"scatterternary\"}], \"surface\": [{\"colorbar\": {\"outlinewidth\": 0, \"ticks\": \"\"}, \"colorscale\": [[0.0, \"#0d0887\"], [0.1111111111111111, \"#46039f\"], [0.2222222222222222, \"#7201a8\"], [0.3333333333333333, \"#9c179e\"], [0.4444444444444444, \"#bd3786\"], [0.5555555555555556, \"#d8576b\"], [0.6666666666666666, \"#ed7953\"], [0.7777777777777778, \"#fb9f3a\"], [0.8888888888888888, \"#fdca26\"], [1.0, \"#f0f921\"]], \"type\": \"surface\"}], \"table\": [{\"cells\": {\"fill\": {\"color\": \"#EBF0F8\"}, \"line\": {\"color\": \"white\"}}, \"header\": {\"fill\": {\"color\": \"#C8D4E3\"}, \"line\": {\"color\": \"white\"}}, \"type\": \"table\"}]}, \"layout\": {\"annotationdefaults\": {\"arrowcolor\": \"#2a3f5f\", \"arrowhead\": 0, \"arrowwidth\": 1}, \"coloraxis\": {\"colorbar\": {\"outlinewidth\": 0, \"ticks\": \"\"}}, \"colorscale\": {\"diverging\": [[0, \"#8e0152\"], [0.1, \"#c51b7d\"], [0.2, \"#de77ae\"], [0.3, \"#f1b6da\"], [0.4, \"#fde0ef\"], [0.5, \"#f7f7f7\"], [0.6, \"#e6f5d0\"], [0.7, \"#b8e186\"], [0.8, \"#7fbc41\"], [0.9, \"#4d9221\"], [1, \"#276419\"]], \"sequential\": [[0.0, \"#0d0887\"], [0.1111111111111111, \"#46039f\"], [0.2222222222222222, \"#7201a8\"], [0.3333333333333333, \"#9c179e\"], [0.4444444444444444, \"#bd3786\"], [0.5555555555555556, \"#d8576b\"], [0.6666666666666666, \"#ed7953\"], [0.7777777777777778, \"#fb9f3a\"], [0.8888888888888888, \"#fdca26\"], [1.0, \"#f0f921\"]], \"sequentialminus\": [[0.0, \"#0d0887\"], [0.1111111111111111, \"#46039f\"], [0.2222222222222222, \"#7201a8\"], [0.3333333333333333, \"#9c179e\"], [0.4444444444444444, \"#bd3786\"], [0.5555555555555556, \"#d8576b\"], [0.6666666666666666, \"#ed7953\"], [0.7777777777777778, \"#fb9f3a\"], [0.8888888888888888, \"#fdca26\"], [1.0, \"#f0f921\"]]}, \"colorway\": [\"#636efa\", \"#EF553B\", \"#00cc96\", \"#ab63fa\", \"#FFA15A\", \"#19d3f3\", \"#FF6692\", \"#B6E880\", \"#FF97FF\", \"#FECB52\"], \"font\": {\"color\": \"#2a3f5f\"}, \"geo\": {\"bgcolor\": \"white\", \"lakecolor\": \"white\", \"landcolor\": \"#E5ECF6\", \"showlakes\": true, \"showland\": true, \"subunitcolor\": \"white\"}, \"hoverlabel\": {\"align\": \"left\"}, \"hovermode\": \"closest\", \"mapbox\": {\"style\": \"light\"}, \"paper_bgcolor\": \"white\", \"plot_bgcolor\": \"#E5ECF6\", \"polar\": {\"angularaxis\": {\"gridcolor\": \"white\", \"linecolor\": \"white\", \"ticks\": \"\"}, \"bgcolor\": \"#E5ECF6\", \"radialaxis\": {\"gridcolor\": \"white\", \"linecolor\": \"white\", \"ticks\": \"\"}}, \"scene\": {\"xaxis\": {\"backgroundcolor\": \"#E5ECF6\", \"gridcolor\": \"white\", \"gridwidth\": 2, \"linecolor\": \"white\", \"showbackground\": true, \"ticks\": \"\", \"zerolinecolor\": \"white\"}, \"yaxis\": {\"backgroundcolor\": \"#E5ECF6\", \"gridcolor\": \"white\", \"gridwidth\": 2, \"linecolor\": \"white\", \"showbackground\": true, \"ticks\": \"\", \"zerolinecolor\": \"white\"}, \"zaxis\": {\"backgroundcolor\": \"#E5ECF6\", \"gridcolor\": \"white\", \"gridwidth\": 2, \"linecolor\": \"white\", \"showbackground\": true, \"ticks\": \"\", \"zerolinecolor\": \"white\"}}, \"shapedefaults\": {\"line\": {\"color\": \"#2a3f5f\"}}, \"ternary\": {\"aaxis\": {\"gridcolor\": \"white\", \"linecolor\": \"white\", \"ticks\": \"\"}, \"baxis\": {\"gridcolor\": \"white\", \"linecolor\": \"white\", \"ticks\": \"\"}, \"bgcolor\": \"#E5ECF6\", \"caxis\": {\"gridcolor\": \"white\", \"linecolor\": \"white\", \"ticks\": \"\"}}, \"title\": {\"x\": 0.05}, \"xaxis\": {\"automargin\": true, \"gridcolor\": \"white\", \"linecolor\": \"white\", \"ticks\": \"\", \"title\": {\"standoff\": 15}, \"zerolinecolor\": \"white\", \"zerolinewidth\": 2}, \"yaxis\": {\"automargin\": true, \"gridcolor\": \"white\", \"linecolor\": \"white\", \"ticks\": \"\", \"title\": {\"standoff\": 15}, \"zerolinecolor\": \"white\", \"zerolinewidth\": 2}}}, \"title\": {\"text\": \"GDP per capita USD ($)\"}},\n",
              "                        {\"responsive\": true}\n",
              "                    ).then(function(){\n",
              "                            \n",
              "var gd = document.getElementById('22f28f8b-b74d-47ff-847e-c7cb32095335');\n",
              "var x = new MutationObserver(function (mutations, observer) {{\n",
              "        var display = window.getComputedStyle(gd).display;\n",
              "        if (!display || display === 'none') {{\n",
              "            console.log([gd, 'removed!']);\n",
              "            Plotly.purge(gd);\n",
              "            observer.disconnect();\n",
              "        }}\n",
              "}});\n",
              "\n",
              "// Listen for the removal of the full notebook cells\n",
              "var notebookContainer = gd.closest('#notebook-container');\n",
              "if (notebookContainer) {{\n",
              "    x.observe(notebookContainer, {childList: true});\n",
              "}}\n",
              "\n",
              "// Listen for the clearing of the current output cell\n",
              "var outputEl = gd.closest('.output');\n",
              "if (outputEl) {{\n",
              "    x.observe(outputEl, {childList: true});\n",
              "}}\n",
              "\n",
              "                        })\n",
              "                };\n",
              "                \n",
              "            </script>\n",
              "        </div>\n",
              "</body>\n",
              "</html>"
            ]
          },
          "metadata": {
            "tags": []
          }
        }
      ]
    },
    {
      "cell_type": "code",
      "metadata": {
        "id": "Nd-jZEi-AMvh"
      },
      "source": [
        "suicide['Suicide_to_GDP_ratio']=suicide['suicides_count']/suicide['gdp']"
      ],
      "execution_count": null,
      "outputs": []
    },
    {
      "cell_type": "code",
      "metadata": {
        "id": "nqTjn5fU90l1",
        "outputId": "8822c6f6-0414-4660-c42d-8c4219640d4e",
        "colab": {
          "base_uri": "https://localhost:8080/",
          "height": 51
        }
      },
      "source": [
        "#suicide['Suicide_to_GDP_ratio']=suicide['Suicide_to_GDP_ratio']/suicide['Suicide_to_GDP_ratio'].mean()\n",
        "\n",
        "outliers_calc(suicide[\"Suicide_to_GDP_ratio\"])"
      ],
      "execution_count": null,
      "outputs": [
        {
          "output_type": "stream",
          "text": [
            "Identified low outliers: 0\n",
            "Identified upper outliers: 1\n"
          ],
          "name": "stdout"
        }
      ]
    },
    {
      "cell_type": "code",
      "metadata": {
        "id": "50m2sbzhoyGe"
      },
      "source": [
        "#suicide\n",
        "outlier=suicide[suicide.Suicide_to_GDP_ratio== suicide.Suicide_to_GDP_ratio.max()]\n",
        "suicide=suicide[suicide.Suicide_to_GDP_ratio!= suicide.Suicide_to_GDP_ratio.max()]\n",
        "suicide.reset_index(drop=True,inplace=True)"
      ],
      "execution_count": null,
      "outputs": []
    },
    {
      "cell_type": "code",
      "metadata": {
        "id": "NSyfZutuGRcJ",
        "outputId": "7156d669-bd7b-42c5-f9d1-95b33d7d8f47",
        "colab": {
          "base_uri": "https://localhost:8080/",
          "height": 80
        }
      },
      "source": [
        "outlier"
      ],
      "execution_count": null,
      "outputs": [
        {
          "output_type": "execute_result",
          "data": {
            "text/html": [
              "<div>\n",
              "<style scoped>\n",
              "    .dataframe tbody tr th:only-of-type {\n",
              "        vertical-align: middle;\n",
              "    }\n",
              "\n",
              "    .dataframe tbody tr th {\n",
              "        vertical-align: top;\n",
              "    }\n",
              "\n",
              "    .dataframe thead th {\n",
              "        text-align: right;\n",
              "    }\n",
              "</style>\n",
              "<table border=\"1\" class=\"dataframe\">\n",
              "  <thead>\n",
              "    <tr style=\"text-align: right;\">\n",
              "      <th></th>\n",
              "      <th>country</th>\n",
              "      <th>suicides_count</th>\n",
              "      <th>gdp_per_capita</th>\n",
              "      <th>gdp</th>\n",
              "      <th>GDP_level</th>\n",
              "      <th>code</th>\n",
              "      <th>Suicide_to_GDP_ratio</th>\n",
              "    </tr>\n",
              "  </thead>\n",
              "  <tbody>\n",
              "    <tr>\n",
              "      <th>47</th>\n",
              "      <td>Kiribati</td>\n",
              "      <td>132</td>\n",
              "      <td>875.909091</td>\n",
              "      <td>5.928353e+07</td>\n",
              "      <td>Low</td>\n",
              "      <td>KIR</td>\n",
              "      <td>0.000002</td>\n",
              "    </tr>\n",
              "  </tbody>\n",
              "</table>\n",
              "</div>"
            ],
            "text/plain": [
              "     country  suicides_count  ...  code  Suicide_to_GDP_ratio\n",
              "47  Kiribati             132  ...   KIR              0.000002\n",
              "\n",
              "[1 rows x 7 columns]"
            ]
          },
          "metadata": {
            "tags": []
          },
          "execution_count": 37
        }
      ]
    },
    {
      "cell_type": "code",
      "metadata": {
        "id": "5I-g0FOjGTYJ",
        "outputId": "d9077cff-92c7-41b7-82fb-bbfbf52350d8",
        "colab": {
          "base_uri": "https://localhost:8080/",
          "height": 419
        }
      },
      "source": [
        "suicide"
      ],
      "execution_count": null,
      "outputs": [
        {
          "output_type": "execute_result",
          "data": {
            "text/html": [
              "<div>\n",
              "<style scoped>\n",
              "    .dataframe tbody tr th:only-of-type {\n",
              "        vertical-align: middle;\n",
              "    }\n",
              "\n",
              "    .dataframe tbody tr th {\n",
              "        vertical-align: top;\n",
              "    }\n",
              "\n",
              "    .dataframe thead th {\n",
              "        text-align: right;\n",
              "    }\n",
              "</style>\n",
              "<table border=\"1\" class=\"dataframe\">\n",
              "  <thead>\n",
              "    <tr style=\"text-align: right;\">\n",
              "      <th></th>\n",
              "      <th>country</th>\n",
              "      <th>suicides_count</th>\n",
              "      <th>gdp_per_capita</th>\n",
              "      <th>gdp</th>\n",
              "      <th>GDP_level</th>\n",
              "      <th>code</th>\n",
              "      <th>Suicide_to_GDP_ratio</th>\n",
              "    </tr>\n",
              "  </thead>\n",
              "  <tbody>\n",
              "    <tr>\n",
              "      <th>0</th>\n",
              "      <td>Albania</td>\n",
              "      <td>264</td>\n",
              "      <td>1859.045455</td>\n",
              "      <td>5.211661e+09</td>\n",
              "      <td>Low</td>\n",
              "      <td>ALB</td>\n",
              "      <td>5.065563e-08</td>\n",
              "    </tr>\n",
              "    <tr>\n",
              "      <th>1</th>\n",
              "      <td>Antigua and Barbuda</td>\n",
              "      <td>324</td>\n",
              "      <td>10448.185185</td>\n",
              "      <td>8.035452e+08</td>\n",
              "      <td>Medium</td>\n",
              "      <td>ATG</td>\n",
              "      <td>4.032132e-07</td>\n",
              "    </tr>\n",
              "    <tr>\n",
              "      <th>2</th>\n",
              "      <td>Argentina</td>\n",
              "      <td>372</td>\n",
              "      <td>7914.096774</td>\n",
              "      <td>2.742565e+11</td>\n",
              "      <td>Medium</td>\n",
              "      <td>ARG</td>\n",
              "      <td>1.356394e-09</td>\n",
              "    </tr>\n",
              "    <tr>\n",
              "      <th>3</th>\n",
              "      <td>Armenia</td>\n",
              "      <td>298</td>\n",
              "      <td>1873.919463</td>\n",
              "      <td>5.386592e+09</td>\n",
              "      <td>Low</td>\n",
              "      <td>ARM</td>\n",
              "      <td>5.532255e-08</td>\n",
              "    </tr>\n",
              "    <tr>\n",
              "      <th>4</th>\n",
              "      <td>Aruba</td>\n",
              "      <td>168</td>\n",
              "      <td>24221.642857</td>\n",
              "      <td>2.196223e+09</td>\n",
              "      <td>Medium</td>\n",
              "      <td>ABW</td>\n",
              "      <td>7.649495e-08</td>\n",
              "    </tr>\n",
              "    <tr>\n",
              "      <th>...</th>\n",
              "      <td>...</td>\n",
              "      <td>...</td>\n",
              "      <td>...</td>\n",
              "      <td>...</td>\n",
              "      <td>...</td>\n",
              "      <td>...</td>\n",
              "      <td>...</td>\n",
              "    </tr>\n",
              "    <tr>\n",
              "      <th>91</th>\n",
              "      <td>United Arab Emirates</td>\n",
              "      <td>72</td>\n",
              "      <td>42162.000000</td>\n",
              "      <td>2.532432e+11</td>\n",
              "      <td>High</td>\n",
              "      <td>ARE</td>\n",
              "      <td>2.843117e-10</td>\n",
              "    </tr>\n",
              "    <tr>\n",
              "      <th>92</th>\n",
              "      <td>United Kingdom</td>\n",
              "      <td>372</td>\n",
              "      <td>31908.354839</td>\n",
              "      <td>1.816067e+12</td>\n",
              "      <td>High</td>\n",
              "      <td>GBR</td>\n",
              "      <td>2.048382e-10</td>\n",
              "    </tr>\n",
              "    <tr>\n",
              "      <th>93</th>\n",
              "      <td>United States</td>\n",
              "      <td>372</td>\n",
              "      <td>39269.612903</td>\n",
              "      <td>1.051071e+13</td>\n",
              "      <td>High</td>\n",
              "      <td>USA</td>\n",
              "      <td>3.539246e-11</td>\n",
              "    </tr>\n",
              "    <tr>\n",
              "      <th>94</th>\n",
              "      <td>Uruguay</td>\n",
              "      <td>336</td>\n",
              "      <td>7622.071429</td>\n",
              "      <td>2.337827e+10</td>\n",
              "      <td>Medium</td>\n",
              "      <td>URY</td>\n",
              "      <td>1.437232e-08</td>\n",
              "    </tr>\n",
              "    <tr>\n",
              "      <th>95</th>\n",
              "      <td>Uzbekistan</td>\n",
              "      <td>264</td>\n",
              "      <td>976.181818</td>\n",
              "      <td>2.286003e+10</td>\n",
              "      <td>Low</td>\n",
              "      <td>UZB</td>\n",
              "      <td>1.154854e-08</td>\n",
              "    </tr>\n",
              "  </tbody>\n",
              "</table>\n",
              "<p>96 rows × 7 columns</p>\n",
              "</div>"
            ],
            "text/plain": [
              "                 country  suicides_count  ...  code  Suicide_to_GDP_ratio\n",
              "0                Albania             264  ...   ALB          5.065563e-08\n",
              "1    Antigua and Barbuda             324  ...   ATG          4.032132e-07\n",
              "2              Argentina             372  ...   ARG          1.356394e-09\n",
              "3                Armenia             298  ...   ARM          5.532255e-08\n",
              "4                  Aruba             168  ...   ABW          7.649495e-08\n",
              "..                   ...             ...  ...   ...                   ...\n",
              "91  United Arab Emirates              72  ...   ARE          2.843117e-10\n",
              "92        United Kingdom             372  ...   GBR          2.048382e-10\n",
              "93         United States             372  ...   USA          3.539246e-11\n",
              "94               Uruguay             336  ...   URY          1.437232e-08\n",
              "95            Uzbekistan             264  ...   UZB          1.154854e-08\n",
              "\n",
              "[96 rows x 7 columns]"
            ]
          },
          "metadata": {
            "tags": []
          },
          "execution_count": 38
        }
      ]
    },
    {
      "cell_type": "code",
      "metadata": {
        "id": "CyPS2DcgSd5_",
        "outputId": "2fed7e40-5e38-41cd-bd4e-dabfc71e10f0",
        "colab": {
          "base_uri": "https://localhost:8080/",
          "height": 204
        }
      },
      "source": [
        "#normalizing suicide to GDP ratio\n",
        "from sklearn import preprocessing\n",
        "x = suicide[['Suicide_to_GDP_ratio']].values.astype(float)\n",
        "min_max_scaler = preprocessing.MinMaxScaler()\n",
        "x_scaled = min_max_scaler.fit_transform(x)\n",
        "df_normalized = pd.DataFrame(x_scaled)\n",
        "df_normalized.head()"
      ],
      "execution_count": null,
      "outputs": [
        {
          "output_type": "execute_result",
          "data": {
            "text/html": [
              "<div>\n",
              "<style scoped>\n",
              "    .dataframe tbody tr th:only-of-type {\n",
              "        vertical-align: middle;\n",
              "    }\n",
              "\n",
              "    .dataframe tbody tr th {\n",
              "        vertical-align: top;\n",
              "    }\n",
              "\n",
              "    .dataframe thead th {\n",
              "        text-align: right;\n",
              "    }\n",
              "</style>\n",
              "<table border=\"1\" class=\"dataframe\">\n",
              "  <thead>\n",
              "    <tr style=\"text-align: right;\">\n",
              "      <th></th>\n",
              "      <th>0</th>\n",
              "    </tr>\n",
              "  </thead>\n",
              "  <tbody>\n",
              "    <tr>\n",
              "      <th>0</th>\n",
              "      <td>0.094101</td>\n",
              "    </tr>\n",
              "    <tr>\n",
              "      <th>1</th>\n",
              "      <td>0.749491</td>\n",
              "    </tr>\n",
              "    <tr>\n",
              "      <th>2</th>\n",
              "      <td>0.002456</td>\n",
              "    </tr>\n",
              "    <tr>\n",
              "      <th>3</th>\n",
              "      <td>0.102777</td>\n",
              "    </tr>\n",
              "    <tr>\n",
              "      <th>4</th>\n",
              "      <td>0.142135</td>\n",
              "    </tr>\n",
              "  </tbody>\n",
              "</table>\n",
              "</div>"
            ],
            "text/plain": [
              "          0\n",
              "0  0.094101\n",
              "1  0.749491\n",
              "2  0.002456\n",
              "3  0.102777\n",
              "4  0.142135"
            ]
          },
          "metadata": {
            "tags": []
          },
          "execution_count": 39
        }
      ]
    },
    {
      "cell_type": "code",
      "metadata": {
        "id": "_435-5rpTWmg",
        "outputId": "713494e1-e6d1-423e-f595-07bcf87288f6",
        "colab": {
          "base_uri": "https://localhost:8080/",
          "height": 419
        }
      },
      "source": [
        "suicide['Suicide_to_GDP_ratio_normalized']=df_normalized\n",
        "suicide\n"
      ],
      "execution_count": null,
      "outputs": [
        {
          "output_type": "execute_result",
          "data": {
            "text/html": [
              "<div>\n",
              "<style scoped>\n",
              "    .dataframe tbody tr th:only-of-type {\n",
              "        vertical-align: middle;\n",
              "    }\n",
              "\n",
              "    .dataframe tbody tr th {\n",
              "        vertical-align: top;\n",
              "    }\n",
              "\n",
              "    .dataframe thead th {\n",
              "        text-align: right;\n",
              "    }\n",
              "</style>\n",
              "<table border=\"1\" class=\"dataframe\">\n",
              "  <thead>\n",
              "    <tr style=\"text-align: right;\">\n",
              "      <th></th>\n",
              "      <th>country</th>\n",
              "      <th>suicides_count</th>\n",
              "      <th>gdp_per_capita</th>\n",
              "      <th>gdp</th>\n",
              "      <th>GDP_level</th>\n",
              "      <th>code</th>\n",
              "      <th>Suicide_to_GDP_ratio</th>\n",
              "      <th>Suicide_to_GDP_ratio_normalized</th>\n",
              "    </tr>\n",
              "  </thead>\n",
              "  <tbody>\n",
              "    <tr>\n",
              "      <th>0</th>\n",
              "      <td>Albania</td>\n",
              "      <td>264</td>\n",
              "      <td>1859.045455</td>\n",
              "      <td>5.211661e+09</td>\n",
              "      <td>Low</td>\n",
              "      <td>ALB</td>\n",
              "      <td>5.065563e-08</td>\n",
              "      <td>0.094101</td>\n",
              "    </tr>\n",
              "    <tr>\n",
              "      <th>1</th>\n",
              "      <td>Antigua and Barbuda</td>\n",
              "      <td>324</td>\n",
              "      <td>10448.185185</td>\n",
              "      <td>8.035452e+08</td>\n",
              "      <td>Medium</td>\n",
              "      <td>ATG</td>\n",
              "      <td>4.032132e-07</td>\n",
              "      <td>0.749491</td>\n",
              "    </tr>\n",
              "    <tr>\n",
              "      <th>2</th>\n",
              "      <td>Argentina</td>\n",
              "      <td>372</td>\n",
              "      <td>7914.096774</td>\n",
              "      <td>2.742565e+11</td>\n",
              "      <td>Medium</td>\n",
              "      <td>ARG</td>\n",
              "      <td>1.356394e-09</td>\n",
              "      <td>0.002456</td>\n",
              "    </tr>\n",
              "    <tr>\n",
              "      <th>3</th>\n",
              "      <td>Armenia</td>\n",
              "      <td>298</td>\n",
              "      <td>1873.919463</td>\n",
              "      <td>5.386592e+09</td>\n",
              "      <td>Low</td>\n",
              "      <td>ARM</td>\n",
              "      <td>5.532255e-08</td>\n",
              "      <td>0.102777</td>\n",
              "    </tr>\n",
              "    <tr>\n",
              "      <th>4</th>\n",
              "      <td>Aruba</td>\n",
              "      <td>168</td>\n",
              "      <td>24221.642857</td>\n",
              "      <td>2.196223e+09</td>\n",
              "      <td>Medium</td>\n",
              "      <td>ABW</td>\n",
              "      <td>7.649495e-08</td>\n",
              "      <td>0.142135</td>\n",
              "    </tr>\n",
              "    <tr>\n",
              "      <th>...</th>\n",
              "      <td>...</td>\n",
              "      <td>...</td>\n",
              "      <td>...</td>\n",
              "      <td>...</td>\n",
              "      <td>...</td>\n",
              "      <td>...</td>\n",
              "      <td>...</td>\n",
              "      <td>...</td>\n",
              "    </tr>\n",
              "    <tr>\n",
              "      <th>91</th>\n",
              "      <td>United Arab Emirates</td>\n",
              "      <td>72</td>\n",
              "      <td>42162.000000</td>\n",
              "      <td>2.532432e+11</td>\n",
              "      <td>High</td>\n",
              "      <td>ARE</td>\n",
              "      <td>2.843117e-10</td>\n",
              "      <td>0.000463</td>\n",
              "    </tr>\n",
              "    <tr>\n",
              "      <th>92</th>\n",
              "      <td>United Kingdom</td>\n",
              "      <td>372</td>\n",
              "      <td>31908.354839</td>\n",
              "      <td>1.816067e+12</td>\n",
              "      <td>High</td>\n",
              "      <td>GBR</td>\n",
              "      <td>2.048382e-10</td>\n",
              "      <td>0.000315</td>\n",
              "    </tr>\n",
              "    <tr>\n",
              "      <th>93</th>\n",
              "      <td>United States</td>\n",
              "      <td>372</td>\n",
              "      <td>39269.612903</td>\n",
              "      <td>1.051071e+13</td>\n",
              "      <td>High</td>\n",
              "      <td>USA</td>\n",
              "      <td>3.539246e-11</td>\n",
              "      <td>0.000000</td>\n",
              "    </tr>\n",
              "    <tr>\n",
              "      <th>94</th>\n",
              "      <td>Uruguay</td>\n",
              "      <td>336</td>\n",
              "      <td>7622.071429</td>\n",
              "      <td>2.337827e+10</td>\n",
              "      <td>Medium</td>\n",
              "      <td>URY</td>\n",
              "      <td>1.437232e-08</td>\n",
              "      <td>0.026652</td>\n",
              "    </tr>\n",
              "    <tr>\n",
              "      <th>95</th>\n",
              "      <td>Uzbekistan</td>\n",
              "      <td>264</td>\n",
              "      <td>976.181818</td>\n",
              "      <td>2.286003e+10</td>\n",
              "      <td>Low</td>\n",
              "      <td>UZB</td>\n",
              "      <td>1.154854e-08</td>\n",
              "      <td>0.021402</td>\n",
              "    </tr>\n",
              "  </tbody>\n",
              "</table>\n",
              "<p>96 rows × 8 columns</p>\n",
              "</div>"
            ],
            "text/plain": [
              "                 country  ...  Suicide_to_GDP_ratio_normalized\n",
              "0                Albania  ...                         0.094101\n",
              "1    Antigua and Barbuda  ...                         0.749491\n",
              "2              Argentina  ...                         0.002456\n",
              "3                Armenia  ...                         0.102777\n",
              "4                  Aruba  ...                         0.142135\n",
              "..                   ...  ...                              ...\n",
              "91  United Arab Emirates  ...                         0.000463\n",
              "92        United Kingdom  ...                         0.000315\n",
              "93         United States  ...                         0.000000\n",
              "94               Uruguay  ...                         0.026652\n",
              "95            Uzbekistan  ...                         0.021402\n",
              "\n",
              "[96 rows x 8 columns]"
            ]
          },
          "metadata": {
            "tags": []
          },
          "execution_count": 40
        }
      ]
    },
    {
      "cell_type": "code",
      "metadata": {
        "id": "-nqckxttD9Qb",
        "outputId": "d573fbef-b6da-4abe-dd6f-4ac80d142973",
        "colab": {
          "base_uri": "https://localhost:8080/",
          "height": 542
        }
      },
      "source": [
        "fig = go.Figure(data=go.Choropleth(\n",
        "    locations = suicide['code'],\n",
        "    z = suicide['Suicide_to_GDP_ratio_normalized']*100,\n",
        "    text = suicide['country'],\n",
        "    colorscale = 'Rainbow',\n",
        "    autocolorscale=True,\n",
        "    reversescale=False,\n",
        "    marker_line_color='darkgray',\n",
        "    marker_line_width=0.5,\n",
        "    colorbar_title = 'Suicide to GDP normalized ratio',\n",
        "))\n",
        "\n",
        "fig.update_layout(\n",
        "    title_text='Suicides/GDP',\n",
        "    geo=dict(\n",
        "        showframe=False,\n",
        "        showcoastlines=False,\n",
        "        projection_type='equirectangular'\n",
        "    ),\n",
        "    annotations = [dict(\n",
        "        x=0.55,\n",
        "        y=0.1,\n",
        "        xref='paper',\n",
        "        yref='paper',\n",
        "        text='Source: <a href=\"https://www.kaggle.com/russellyates88/suicide-rates-overview-1985-to-2016\">\\\n",
        "            Kaggle</a>',\n",
        "        showarrow = False\n",
        "    )]\n",
        ")\n",
        "\n",
        "fig.show()"
      ],
      "execution_count": null,
      "outputs": [
        {
          "output_type": "display_data",
          "data": {
            "text/html": [
              "<html>\n",
              "<head><meta charset=\"utf-8\" /></head>\n",
              "<body>\n",
              "    <div>\n",
              "            <script src=\"https://cdnjs.cloudflare.com/ajax/libs/mathjax/2.7.5/MathJax.js?config=TeX-AMS-MML_SVG\"></script><script type=\"text/javascript\">if (window.MathJax) {MathJax.Hub.Config({SVG: {font: \"STIX-Web\"}});}</script>\n",
              "                <script type=\"text/javascript\">window.PlotlyConfig = {MathJaxConfig: 'local'};</script>\n",
              "        <script src=\"https://cdn.plot.ly/plotly-latest.min.js\"></script>    \n",
              "            <div id=\"b3926b29-8e58-45f3-9141-b9d4360ac212\" class=\"plotly-graph-div\" style=\"height:525px; width:100%;\"></div>\n",
              "            <script type=\"text/javascript\">\n",
              "                \n",
              "                    window.PLOTLYENV=window.PLOTLYENV || {};\n",
              "                    \n",
              "                if (document.getElementById(\"b3926b29-8e58-45f3-9141-b9d4360ac212\")) {\n",
              "                    Plotly.newPlot(\n",
              "                        'b3926b29-8e58-45f3-9141-b9d4360ac212',\n",
              "                        [{\"autocolorscale\": true, \"colorbar\": {\"title\": {\"text\": \"Suicide to GDP normalized ratio\"}}, \"colorscale\": [[0.0, \"rgb(150,0,90)\"], [0.125, \"rgb(0,0,200)\"], [0.25, \"rgb(0,25,255)\"], [0.375, \"rgb(0,152,255)\"], [0.5, \"rgb(44,255,150)\"], [0.625, \"rgb(151,255,0)\"], [0.75, \"rgb(255,234,0)\"], [0.875, \"rgb(255,111,0)\"], [1.0, \"rgb(255,0,0)\"]], \"locations\": [\"ALB\", \"ATG\", \"ARG\", \"ARM\", \"ABW\", \"AUS\", \"AUT\", \"AZE\", \"BHR\", \"BRB\", \"BLR\", \"BEL\", \"BLZ\", \"BIH\", \"BRA\", \"BGR\", \"CPV\", \"CAN\", \"CHL\", \"COL\", \"CRI\", \"HRV\", \"CUB\", \"CYP\", \"CZE\", \"DNK\", \"DMA\", \"ECU\", \"SLV\", \"EST\", \"FJI\", \"FIN\", \"FRA\", \"GEO\", \"DEU\", \"GRC\", \"GRD\", \"GTM\", \"GUY\", \"HUN\", \"ISL\", \"IRL\", \"ISR\", \"ITA\", \"JAM\", \"JPN\", \"KAZ\", \"KWT\", \"KGZ\", \"LVA\", \"LTU\", \"LUX\", \"MAC\", \"MDV\", \"MLT\", \"MUS\", \"MEX\", \"MNG\", \"MNE\", \"NLD\", \"NZL\", \"NIC\", \"NOR\", \"OMN\", \"PAN\", \"PRY\", \"PHL\", \"POL\", \"PRT\", \"PRI\", \"QAT\", \"ROU\", \"KNA\", \"LCA\", \"SMR\", \"SRB\", \"SYC\", \"SGP\", \"SVK\", \"SVN\", \"ZAF\", \"ESP\", \"LKA\", \"SUR\", \"SWE\", \"CHE\", \"THA\", \"TTO\", \"TUR\", \"TKM\", \"UKR\", \"ARE\", \"GBR\", \"USA\", \"URY\", \"UZB\"], \"marker\": {\"line\": {\"color\": \"darkgray\", \"width\": 0.5}}, \"reversescale\": false, \"text\": [\"Albania\", \"Antigua and Barbuda\", \"Argentina\", \"Armenia\", \"Aruba\", \"Australia\", \"Austria\", \"Azerbaijan\", \"Bahrain\", \"Barbados\", \"Belarus\", \"Belgium\", \"Belize\", \"Bosnia and Herzegovina\", \"Brazil\", \"Bulgaria\", \"Cabo Verde\", \"Canada\", \"Chile\", \"Colombia\", \"Costa Rica\", \"Croatia\", \"Cuba\", \"Cyprus\", \"Czech Republic\", \"Denmark\", \"Dominica\", \"Ecuador\", \"El Salvador\", \"Estonia\", \"Fiji\", \"Finland\", \"France\", \"Georgia\", \"Germany\", \"Greece\", \"Grenada\", \"Guatemala\", \"Guyana\", \"Hungary\", \"Iceland\", \"Ireland\", \"Israel\", \"Italy\", \"Jamaica\", \"Japan\", \"Kazakhstan\", \"Kuwait\", \"Kyrgyzstan\", \"Latvia\", \"Lithuania\", \"Luxembourg\", \"Macau\", \"Maldives\", \"Malta\", \"Mauritius\", \"Mexico\", \"Mongolia\", \"Montenegro\", \"Netherlands\", \"New Zealand\", \"Nicaragua\", \"Norway\", \"Oman\", \"Panama\", \"Paraguay\", \"Philippines\", \"Poland\", \"Portugal\", \"Puerto Rico\", \"Qatar\", \"Romania\", \"Saint Kitts and Nevis\", \"Saint Lucia\", \"San Marino\", \"Serbia\", \"Seychelles\", \"Singapore\", \"Slovakia\", \"Slovenia\", \"South Africa\", \"Spain\", \"Sri Lanka\", \"Suriname\", \"Sweden\", \"Switzerland\", \"Thailand\", \"Trinidad and Tobago\", \"Turkey\", \"Turkmenistan\", \"Ukraine\", \"United Arab Emirates\", \"United Kingdom\", \"United States\", \"Uruguay\", \"Uzbekistan\"], \"type\": \"choropleth\", \"z\": [9.410093232788707, 74.9490764517168, 0.24556880628672423, 10.27765317890944, 14.213514863879508, 0.09918519959067656, 0.26036760727779146, 4.943296279813745, 2.905542577665098, 18.038211036849095, 1.5205142859733909, 0.21060894565123797, 65.32667005416843, 0.23326653661369412, 0.06104820555623738, 2.4588287665903876, 1.1896462957421117, 0.06426238399982566, 0.61499909452701, 0.47210972902080606, 3.48195979297758, 1.1214154913237635, 1.155153288591357, 1.5411251478477639, 0.48383799245199904, 0.18737274134158757, 22.621063172809304, 1.7396567318234617, 3.94463808433, 3.236270353425843, 8.375765544075579, 0.3624536253744619, 0.03099239904561236, 6.304080052683355, 0.014571154355158314, 0.38499165251870504, 100.0, 2.6452738623799976, 49.74830314268436, 0.6371346308364003, 6.607425564546331, 0.5021102740834598, 0.48938508759576715, 0.04009063038328153, 4.7608697398379025, 0.009357479944467093, 0.7305100168400998, 0.7661594200210855, 17.516187143515072, 2.5509775680568887, 1.7510400402081499, 2.2538119948230095, 0.3494382057974239, 14.538865558667569, 13.06251190684209, 11.772461437969419, 0.09507065080395224, 0.15964463888047511, 9.070887590803185, 0.12430824808820116, 0.7757573332857031, 1.2377298061207938, 0.25839142907553464, 0.10015094682703607, 2.7530066423685753, 5.146922301621758, 0.2877530165653386, 0.17523933901642008, 0.4269814488676229, 1.0872445619110216, 0.29417772724511704, 0.6395920343911243, 30.973390284674153, 74.26816067877596, 4.688364541293011, 1.2834840948489972, 46.87602273898939, 0.5444773093128538, 0.905695781592972, 1.2983141176493693, 0.1722626389768587, 0.07415363752879181, 1.5944607329588016, 32.13369092119292, 0.18090135412637467, 0.09603320348226839, 0.2897553357989761, 5.758048690558354, 0.012049527782730624, 5.580139807887359, 0.7379692988758704, 0.04627305878666365, 0.03149926174465669, 0.0, 2.665175804438192, 2.14024647397925]}],\n",
              "                        {\"annotations\": [{\"showarrow\": false, \"text\": \"Source: <a href=\\\"https://www.kaggle.com/russellyates88/suicide-rates-overview-1985-to-2016\\\">            Kaggle</a>\", \"x\": 0.55, \"xref\": \"paper\", \"y\": 0.1, \"yref\": \"paper\"}], \"geo\": {\"projection\": {\"type\": \"equirectangular\"}, \"showcoastlines\": false, \"showframe\": false}, \"template\": {\"data\": {\"bar\": [{\"error_x\": {\"color\": \"#2a3f5f\"}, \"error_y\": {\"color\": \"#2a3f5f\"}, \"marker\": {\"line\": {\"color\": \"#E5ECF6\", \"width\": 0.5}}, \"type\": \"bar\"}], \"barpolar\": [{\"marker\": {\"line\": {\"color\": \"#E5ECF6\", \"width\": 0.5}}, \"type\": \"barpolar\"}], \"carpet\": [{\"aaxis\": {\"endlinecolor\": \"#2a3f5f\", \"gridcolor\": \"white\", \"linecolor\": \"white\", \"minorgridcolor\": \"white\", \"startlinecolor\": \"#2a3f5f\"}, \"baxis\": {\"endlinecolor\": \"#2a3f5f\", \"gridcolor\": \"white\", \"linecolor\": \"white\", \"minorgridcolor\": \"white\", \"startlinecolor\": \"#2a3f5f\"}, \"type\": \"carpet\"}], \"choropleth\": [{\"colorbar\": {\"outlinewidth\": 0, \"ticks\": \"\"}, \"type\": \"choropleth\"}], \"contour\": [{\"colorbar\": {\"outlinewidth\": 0, \"ticks\": \"\"}, \"colorscale\": [[0.0, \"#0d0887\"], [0.1111111111111111, \"#46039f\"], [0.2222222222222222, \"#7201a8\"], [0.3333333333333333, \"#9c179e\"], [0.4444444444444444, \"#bd3786\"], [0.5555555555555556, \"#d8576b\"], [0.6666666666666666, \"#ed7953\"], [0.7777777777777778, \"#fb9f3a\"], [0.8888888888888888, \"#fdca26\"], [1.0, \"#f0f921\"]], \"type\": \"contour\"}], \"contourcarpet\": [{\"colorbar\": {\"outlinewidth\": 0, \"ticks\": \"\"}, \"type\": \"contourcarpet\"}], \"heatmap\": [{\"colorbar\": {\"outlinewidth\": 0, \"ticks\": \"\"}, \"colorscale\": [[0.0, \"#0d0887\"], [0.1111111111111111, \"#46039f\"], [0.2222222222222222, \"#7201a8\"], [0.3333333333333333, \"#9c179e\"], [0.4444444444444444, \"#bd3786\"], [0.5555555555555556, \"#d8576b\"], [0.6666666666666666, \"#ed7953\"], [0.7777777777777778, \"#fb9f3a\"], [0.8888888888888888, \"#fdca26\"], [1.0, \"#f0f921\"]], \"type\": \"heatmap\"}], \"heatmapgl\": [{\"colorbar\": {\"outlinewidth\": 0, \"ticks\": \"\"}, \"colorscale\": [[0.0, \"#0d0887\"], [0.1111111111111111, \"#46039f\"], [0.2222222222222222, \"#7201a8\"], [0.3333333333333333, \"#9c179e\"], [0.4444444444444444, \"#bd3786\"], [0.5555555555555556, \"#d8576b\"], [0.6666666666666666, \"#ed7953\"], [0.7777777777777778, \"#fb9f3a\"], [0.8888888888888888, \"#fdca26\"], [1.0, \"#f0f921\"]], \"type\": \"heatmapgl\"}], \"histogram\": [{\"marker\": {\"colorbar\": {\"outlinewidth\": 0, \"ticks\": \"\"}}, \"type\": \"histogram\"}], \"histogram2d\": [{\"colorbar\": {\"outlinewidth\": 0, \"ticks\": \"\"}, \"colorscale\": [[0.0, \"#0d0887\"], [0.1111111111111111, \"#46039f\"], [0.2222222222222222, \"#7201a8\"], [0.3333333333333333, \"#9c179e\"], [0.4444444444444444, \"#bd3786\"], [0.5555555555555556, \"#d8576b\"], [0.6666666666666666, \"#ed7953\"], [0.7777777777777778, \"#fb9f3a\"], [0.8888888888888888, \"#fdca26\"], [1.0, \"#f0f921\"]], \"type\": \"histogram2d\"}], \"histogram2dcontour\": [{\"colorbar\": {\"outlinewidth\": 0, \"ticks\": \"\"}, \"colorscale\": [[0.0, \"#0d0887\"], [0.1111111111111111, \"#46039f\"], [0.2222222222222222, \"#7201a8\"], [0.3333333333333333, \"#9c179e\"], [0.4444444444444444, \"#bd3786\"], [0.5555555555555556, \"#d8576b\"], [0.6666666666666666, \"#ed7953\"], [0.7777777777777778, \"#fb9f3a\"], [0.8888888888888888, \"#fdca26\"], [1.0, \"#f0f921\"]], \"type\": \"histogram2dcontour\"}], \"mesh3d\": [{\"colorbar\": {\"outlinewidth\": 0, \"ticks\": \"\"}, \"type\": \"mesh3d\"}], \"parcoords\": [{\"line\": {\"colorbar\": {\"outlinewidth\": 0, \"ticks\": \"\"}}, \"type\": \"parcoords\"}], \"pie\": [{\"automargin\": true, \"type\": \"pie\"}], \"scatter\": [{\"marker\": {\"colorbar\": {\"outlinewidth\": 0, \"ticks\": \"\"}}, \"type\": \"scatter\"}], \"scatter3d\": [{\"line\": {\"colorbar\": {\"outlinewidth\": 0, \"ticks\": \"\"}}, \"marker\": {\"colorbar\": {\"outlinewidth\": 0, \"ticks\": \"\"}}, \"type\": \"scatter3d\"}], \"scattercarpet\": [{\"marker\": {\"colorbar\": {\"outlinewidth\": 0, \"ticks\": \"\"}}, \"type\": \"scattercarpet\"}], \"scattergeo\": [{\"marker\": {\"colorbar\": {\"outlinewidth\": 0, \"ticks\": \"\"}}, \"type\": \"scattergeo\"}], \"scattergl\": [{\"marker\": {\"colorbar\": {\"outlinewidth\": 0, \"ticks\": \"\"}}, \"type\": \"scattergl\"}], \"scattermapbox\": [{\"marker\": {\"colorbar\": {\"outlinewidth\": 0, \"ticks\": \"\"}}, \"type\": \"scattermapbox\"}], \"scatterpolar\": [{\"marker\": {\"colorbar\": {\"outlinewidth\": 0, \"ticks\": \"\"}}, \"type\": \"scatterpolar\"}], \"scatterpolargl\": [{\"marker\": {\"colorbar\": {\"outlinewidth\": 0, \"ticks\": \"\"}}, \"type\": \"scatterpolargl\"}], \"scatterternary\": [{\"marker\": {\"colorbar\": {\"outlinewidth\": 0, \"ticks\": \"\"}}, \"type\": \"scatterternary\"}], \"surface\": [{\"colorbar\": {\"outlinewidth\": 0, \"ticks\": \"\"}, \"colorscale\": [[0.0, \"#0d0887\"], [0.1111111111111111, \"#46039f\"], [0.2222222222222222, \"#7201a8\"], [0.3333333333333333, \"#9c179e\"], [0.4444444444444444, \"#bd3786\"], [0.5555555555555556, \"#d8576b\"], [0.6666666666666666, \"#ed7953\"], [0.7777777777777778, \"#fb9f3a\"], [0.8888888888888888, \"#fdca26\"], [1.0, \"#f0f921\"]], \"type\": \"surface\"}], \"table\": [{\"cells\": {\"fill\": {\"color\": \"#EBF0F8\"}, \"line\": {\"color\": \"white\"}}, \"header\": {\"fill\": {\"color\": \"#C8D4E3\"}, \"line\": {\"color\": \"white\"}}, \"type\": \"table\"}]}, \"layout\": {\"annotationdefaults\": {\"arrowcolor\": \"#2a3f5f\", \"arrowhead\": 0, \"arrowwidth\": 1}, \"coloraxis\": {\"colorbar\": {\"outlinewidth\": 0, \"ticks\": \"\"}}, \"colorscale\": {\"diverging\": [[0, \"#8e0152\"], [0.1, \"#c51b7d\"], [0.2, \"#de77ae\"], [0.3, \"#f1b6da\"], [0.4, \"#fde0ef\"], [0.5, \"#f7f7f7\"], [0.6, \"#e6f5d0\"], [0.7, \"#b8e186\"], [0.8, \"#7fbc41\"], [0.9, \"#4d9221\"], [1, \"#276419\"]], \"sequential\": [[0.0, \"#0d0887\"], [0.1111111111111111, \"#46039f\"], [0.2222222222222222, \"#7201a8\"], [0.3333333333333333, \"#9c179e\"], [0.4444444444444444, \"#bd3786\"], [0.5555555555555556, \"#d8576b\"], [0.6666666666666666, \"#ed7953\"], [0.7777777777777778, \"#fb9f3a\"], [0.8888888888888888, \"#fdca26\"], [1.0, \"#f0f921\"]], \"sequentialminus\": [[0.0, \"#0d0887\"], [0.1111111111111111, \"#46039f\"], [0.2222222222222222, \"#7201a8\"], [0.3333333333333333, \"#9c179e\"], [0.4444444444444444, \"#bd3786\"], [0.5555555555555556, \"#d8576b\"], [0.6666666666666666, \"#ed7953\"], [0.7777777777777778, \"#fb9f3a\"], [0.8888888888888888, \"#fdca26\"], [1.0, \"#f0f921\"]]}, \"colorway\": [\"#636efa\", \"#EF553B\", \"#00cc96\", \"#ab63fa\", \"#FFA15A\", \"#19d3f3\", \"#FF6692\", \"#B6E880\", \"#FF97FF\", \"#FECB52\"], \"font\": {\"color\": \"#2a3f5f\"}, \"geo\": {\"bgcolor\": \"white\", \"lakecolor\": \"white\", \"landcolor\": \"#E5ECF6\", \"showlakes\": true, \"showland\": true, \"subunitcolor\": \"white\"}, \"hoverlabel\": {\"align\": \"left\"}, \"hovermode\": \"closest\", \"mapbox\": {\"style\": \"light\"}, \"paper_bgcolor\": \"white\", \"plot_bgcolor\": \"#E5ECF6\", \"polar\": {\"angularaxis\": {\"gridcolor\": \"white\", \"linecolor\": \"white\", \"ticks\": \"\"}, \"bgcolor\": \"#E5ECF6\", \"radialaxis\": {\"gridcolor\": \"white\", \"linecolor\": \"white\", \"ticks\": \"\"}}, \"scene\": {\"xaxis\": {\"backgroundcolor\": \"#E5ECF6\", \"gridcolor\": \"white\", \"gridwidth\": 2, \"linecolor\": \"white\", \"showbackground\": true, \"ticks\": \"\", \"zerolinecolor\": \"white\"}, \"yaxis\": {\"backgroundcolor\": \"#E5ECF6\", \"gridcolor\": \"white\", \"gridwidth\": 2, \"linecolor\": \"white\", \"showbackground\": true, \"ticks\": \"\", \"zerolinecolor\": \"white\"}, \"zaxis\": {\"backgroundcolor\": \"#E5ECF6\", \"gridcolor\": \"white\", \"gridwidth\": 2, \"linecolor\": \"white\", \"showbackground\": true, \"ticks\": \"\", \"zerolinecolor\": \"white\"}}, \"shapedefaults\": {\"line\": {\"color\": \"#2a3f5f\"}}, \"ternary\": {\"aaxis\": {\"gridcolor\": \"white\", \"linecolor\": \"white\", \"ticks\": \"\"}, \"baxis\": {\"gridcolor\": \"white\", \"linecolor\": \"white\", \"ticks\": \"\"}, \"bgcolor\": \"#E5ECF6\", \"caxis\": {\"gridcolor\": \"white\", \"linecolor\": \"white\", \"ticks\": \"\"}}, \"title\": {\"x\": 0.05}, \"xaxis\": {\"automargin\": true, \"gridcolor\": \"white\", \"linecolor\": \"white\", \"ticks\": \"\", \"title\": {\"standoff\": 15}, \"zerolinecolor\": \"white\", \"zerolinewidth\": 2}, \"yaxis\": {\"automargin\": true, \"gridcolor\": \"white\", \"linecolor\": \"white\", \"ticks\": \"\", \"title\": {\"standoff\": 15}, \"zerolinecolor\": \"white\", \"zerolinewidth\": 2}}}, \"title\": {\"text\": \"Suicides/GDP\"}},\n",
              "                        {\"responsive\": true}\n",
              "                    ).then(function(){\n",
              "                            \n",
              "var gd = document.getElementById('b3926b29-8e58-45f3-9141-b9d4360ac212');\n",
              "var x = new MutationObserver(function (mutations, observer) {{\n",
              "        var display = window.getComputedStyle(gd).display;\n",
              "        if (!display || display === 'none') {{\n",
              "            console.log([gd, 'removed!']);\n",
              "            Plotly.purge(gd);\n",
              "            observer.disconnect();\n",
              "        }}\n",
              "}});\n",
              "\n",
              "// Listen for the removal of the full notebook cells\n",
              "var notebookContainer = gd.closest('#notebook-container');\n",
              "if (notebookContainer) {{\n",
              "    x.observe(notebookContainer, {childList: true});\n",
              "}}\n",
              "\n",
              "// Listen for the clearing of the current output cell\n",
              "var outputEl = gd.closest('.output');\n",
              "if (outputEl) {{\n",
              "    x.observe(outputEl, {childList: true});\n",
              "}}\n",
              "\n",
              "                        })\n",
              "                };\n",
              "                \n",
              "            </script>\n",
              "        </div>\n",
              "</body>\n",
              "</html>"
            ]
          },
          "metadata": {
            "tags": []
          }
        }
      ]
    },
    {
      "cell_type": "code",
      "metadata": {
        "id": "MkTmgwMpGgVd",
        "outputId": "7ceb020b-5f7d-4208-ef99-5418b7ef7e32",
        "colab": {
          "base_uri": "https://localhost:8080/",
          "height": 142
        }
      },
      "source": [
        "statistical_parameters = suicide.groupby('GDP_level') \\\n",
        "       .agg(sample_mean=('Suicide_to_GDP_ratio_normalized', 'mean'), sample_std=('Suicide_to_GDP_ratio_normalized', 'std'), n=('Suicide_to_GDP_ratio_normalized', 'count')) \\\n",
        "       .reset_index()\n",
        "statistical_parameters.head()\n"
      ],
      "execution_count": null,
      "outputs": [
        {
          "output_type": "execute_result",
          "data": {
            "text/html": [
              "<div>\n",
              "<style scoped>\n",
              "    .dataframe tbody tr th:only-of-type {\n",
              "        vertical-align: middle;\n",
              "    }\n",
              "\n",
              "    .dataframe tbody tr th {\n",
              "        vertical-align: top;\n",
              "    }\n",
              "\n",
              "    .dataframe thead th {\n",
              "        text-align: right;\n",
              "    }\n",
              "</style>\n",
              "<table border=\"1\" class=\"dataframe\">\n",
              "  <thead>\n",
              "    <tr style=\"text-align: right;\">\n",
              "      <th></th>\n",
              "      <th>GDP_level</th>\n",
              "      <th>sample_mean</th>\n",
              "      <th>sample_std</th>\n",
              "      <th>n</th>\n",
              "    </tr>\n",
              "  </thead>\n",
              "  <tbody>\n",
              "    <tr>\n",
              "      <th>0</th>\n",
              "      <td>Low</td>\n",
              "      <td>0.095450</td>\n",
              "      <td>0.159166</td>\n",
              "      <td>24</td>\n",
              "    </tr>\n",
              "    <tr>\n",
              "      <th>1</th>\n",
              "      <td>Medium</td>\n",
              "      <td>0.102107</td>\n",
              "      <td>0.216965</td>\n",
              "      <td>47</td>\n",
              "    </tr>\n",
              "    <tr>\n",
              "      <th>2</th>\n",
              "      <td>High</td>\n",
              "      <td>0.007686</td>\n",
              "      <td>0.015808</td>\n",
              "      <td>25</td>\n",
              "    </tr>\n",
              "  </tbody>\n",
              "</table>\n",
              "</div>"
            ],
            "text/plain": [
              "  GDP_level  sample_mean  sample_std   n\n",
              "0       Low     0.095450    0.159166  24\n",
              "1    Medium     0.102107    0.216965  47\n",
              "2      High     0.007686    0.015808  25"
            ]
          },
          "metadata": {
            "tags": []
          },
          "execution_count": 42
        }
      ]
    },
    {
      "cell_type": "code",
      "metadata": {
        "id": "PSjy0PByYP-t"
      },
      "source": [
        "#two-tail test\n",
        "#Ho:mu_low=mu_medium and/or mu_medium=mu_high\n",
        "#H1:mu_low!=mu_medium and/or mu_medium!=mu_high\n",
        "#two-sample t-test 0.05 significance level\n",
        "#independent test\n",
        "from scipy.stats import ttest_ind\n",
        "import numpy as np\n"
      ],
      "execution_count": null,
      "outputs": []
    },
    {
      "cell_type": "code",
      "metadata": {
        "id": "63poX7OS79IJ"
      },
      "source": [
        "low=suicide[suicide.GDP_level=='Low']['Suicide_to_GDP_ratio_normalized'].values\n",
        "medium=suicide[suicide.GDP_level=='Medium']['Suicide_to_GDP_ratio_normalized'].values\n",
        "high=suicide[suicide.GDP_level=='High']['Suicide_to_GDP_ratio_normalized'].values"
      ],
      "execution_count": null,
      "outputs": []
    },
    {
      "cell_type": "code",
      "metadata": {
        "id": "iPoeJFQgIe3P",
        "outputId": "48325f90-d78b-4ae6-befb-b39aa633fadd",
        "colab": {
          "base_uri": "https://localhost:8080/",
          "height": 425
        }
      },
      "source": [
        "low,medium,high"
      ],
      "execution_count": null,
      "outputs": [
        {
          "output_type": "execute_result",
          "data": {
            "text/plain": [
              "(array([0.09410093, 0.10277653, 0.04943296, 0.01520514, 0.6532667 ,\n",
              "        0.02458829, 0.0047211 , 0.22621063, 0.01739657, 0.03944638,\n",
              "        0.08375766, 0.0630408 , 0.02645274, 0.49748303, 0.0476087 ,\n",
              "        0.17516187, 0.0123773 , 0.05146922, 0.00287753, 0.01594461,\n",
              "        0.00289755, 0.0558014 , 0.00737969, 0.02140246]),\n",
              " array([7.49490765e-01, 2.45568806e-03, 1.42135149e-01, 2.90554258e-02,\n",
              "        1.80382110e-01, 2.33266537e-03, 6.10482056e-04, 1.18964630e-02,\n",
              "        6.14999095e-03, 3.48195979e-02, 1.12141549e-02, 1.15515329e-02,\n",
              "        4.83837992e-03, 3.23627035e-02, 3.84991653e-03, 1.00000000e+00,\n",
              "        6.37134631e-03, 4.89385088e-03, 7.30510017e-03, 2.55097757e-02,\n",
              "        1.75104004e-02, 3.49438206e-03, 1.45388656e-01, 1.30625119e-01,\n",
              "        1.17724614e-01, 9.50706508e-04, 1.59644639e-03, 9.07088759e-02,\n",
              "        7.75757333e-03, 1.00150947e-03, 2.75300664e-02, 1.75239339e-03,\n",
              "        4.26981449e-03, 1.08724456e-02, 6.39592034e-03, 3.09733903e-01,\n",
              "        7.42681607e-01, 1.28348409e-02, 4.68760227e-01, 9.05695782e-03,\n",
              "        1.29831412e-02, 1.72262639e-03, 7.41536375e-04, 3.21336909e-01,\n",
              "        5.75804869e-02, 1.20495278e-04, 2.66517580e-02]),\n",
              " array([9.91851996e-04, 2.60367607e-03, 2.10608946e-03, 6.42623840e-04,\n",
              "        1.54112515e-02, 1.87372741e-03, 3.62453625e-03, 3.09923990e-04,\n",
              "        1.45711544e-04, 6.60742556e-02, 5.02110274e-03, 4.00906304e-04,\n",
              "        9.35747994e-05, 7.66159420e-03, 2.25381199e-02, 1.24308248e-03,\n",
              "        2.58391429e-03, 2.94177727e-03, 4.68836454e-02, 5.44477309e-03,\n",
              "        1.80901354e-03, 9.60332035e-04, 4.62730588e-04, 3.14992617e-04,\n",
              "        0.00000000e+00]))"
            ]
          },
          "metadata": {
            "tags": []
          },
          "execution_count": 45
        }
      ]
    },
    {
      "cell_type": "code",
      "metadata": {
        "id": "NhlIxhBp9Tu3",
        "outputId": "f26e5cd8-3baf-4550-f822-82aef27896ce",
        "colab": {
          "base_uri": "https://localhost:8080/",
          "height": 51
        }
      },
      "source": [
        "ttest1,pval1 = ttest_ind(low,medium)\n",
        "print(\"p-value\",pval1)\n",
        "if pval1 <0.05:\n",
        "  print(\"we reject null hypothesis for low-medium\")\n",
        "else:\n",
        "  print(\"we failed to reject the null hypothesis for low-medium\")"
      ],
      "execution_count": null,
      "outputs": [
        {
          "output_type": "stream",
          "text": [
            "p-value 0.8946201618221803\n",
            "we failed to reject the null hypothesis for low-medium\n"
          ],
          "name": "stdout"
        }
      ]
    },
    {
      "cell_type": "code",
      "metadata": {
        "id": "nDvwUujT-D7W",
        "outputId": "1197d2f1-8c1b-4ddf-c68c-2e22bdb84106",
        "colab": {
          "base_uri": "https://localhost:8080/",
          "height": 51
        }
      },
      "source": [
        "ttest2,pval2 = ttest_ind(medium,high)\n",
        "print(\"p-value\",pval2)\n",
        "if pval2 <0.05:\n",
        "  print(\"we reject null hypothesis for medium-high\")\n",
        "else:\n",
        "  print(\"we accept null hypothesis for medium-high\")"
      ],
      "execution_count": null,
      "outputs": [
        {
          "output_type": "stream",
          "text": [
            "p-value 0.033741938016180834\n",
            "we reject null hypothesis for medium-high\n"
          ],
          "name": "stdout"
        }
      ]
    },
    {
      "cell_type": "code",
      "metadata": {
        "id": "0oIInxcVIFad",
        "outputId": "1f2fc97b-621e-4ca7-ff16-1041e041b229",
        "colab": {
          "base_uri": "https://localhost:8080/",
          "height": 51
        }
      },
      "source": [
        "ttest3,pval3 = ttest_ind(low,high)\n",
        "print(\"p-value\",pval3)\n",
        "if pval3 <0.05:\n",
        "  print(\"we reject null hypothesis for low-high\")\n",
        "else:\n",
        "  print(\"we accept null hypothesis for low-high\")"
      ],
      "execution_count": null,
      "outputs": [
        {
          "output_type": "stream",
          "text": [
            "p-value 0.008563559517701009\n",
            "we reject null hypothesis for low-high\n"
          ],
          "name": "stdout"
        }
      ]
    },
    {
      "cell_type": "markdown",
      "metadata": {
        "id": "-Bgp66gmI8jE"
      },
      "source": [
        "While there isnt a statistical difference in suicide rate between low and medium GDP countries, there is an evident difference between high GDP countries and the other 2 categories. Richer countries probably have more money spent in mental health and suicide reduction policies. Kiribati was excluded from the analysis as it was an outlier with an extremely low GDP and high suicide however adding it into the analysis would not change the analysis."
      ]
    }
  ]
}